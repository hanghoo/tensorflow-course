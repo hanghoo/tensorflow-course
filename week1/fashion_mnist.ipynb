{
 "cells": [
  {
   "cell_type": "code",
   "execution_count": null,
   "metadata": {},
   "outputs": [],
   "source": [
    "# 加载数据"
   ]
  },
  {
   "cell_type": "code",
   "execution_count": 2,
   "metadata": {},
   "outputs": [],
   "source": [
    "from tensorflow import keras\n",
    "fashion_mnist = keras.datasets.fashion_mnist\n",
    "(train_images, train_labels),(test_images, test_labels) = fashion_mnist.load_data()"
   ]
  },
  {
   "cell_type": "code",
   "execution_count": 3,
   "metadata": {},
   "outputs": [
    {
     "name": "stdout",
     "output_type": "stream",
     "text": [
      "(60000, 28, 28)\n"
     ]
    }
   ],
   "source": [
    "print(train_images.shape)"
   ]
  },
  {
   "cell_type": "code",
   "execution_count": 4,
   "metadata": {},
   "outputs": [
    {
     "name": "stdout",
     "output_type": "stream",
     "text": [
      "[[  0   0   0   0   0   0   0   0   0   0   0   0   0   0   0   0   0   0\n",
      "    0   0   0   0   0   0   0   0   0   0]\n",
      " [  0   0   0   0   0   0   0   0   0   0   0   0   0   0   0   0   0   0\n",
      "    0   0   0   0   0   0   0   0   0   0]\n",
      " [  0   0   0   0   0   0   0   0   0   0   0   0   0   0   0   0   0   0\n",
      "    0   0   0   0   0   0   0   0   0   0]\n",
      " [  0   0   0   0   0   0   0   0   0   0   0   0   1   0   0  13  73   0\n",
      "    0   1   4   0   0   0   0   1   1   0]\n",
      " [  0   0   0   0   0   0   0   0   0   0   0   0   3   0  36 136 127  62\n",
      "   54   0   0   0   1   3   4   0   0   3]\n",
      " [  0   0   0   0   0   0   0   0   0   0   0   0   6   0 102 204 176 134\n",
      "  144 123  23   0   0   0   0  12  10   0]\n",
      " [  0   0   0   0   0   0   0   0   0   0   0   0   0   0 155 236 207 178\n",
      "  107 156 161 109  64  23  77 130  72  15]\n",
      " [  0   0   0   0   0   0   0   0   0   0   0   1   0  69 207 223 218 216\n",
      "  216 163 127 121 122 146 141  88 172  66]\n",
      " [  0   0   0   0   0   0   0   0   0   1   1   1   0 200 232 232 233 229\n",
      "  223 223 215 213 164 127 123 196 229   0]\n",
      " [  0   0   0   0   0   0   0   0   0   0   0   0   0 183 225 216 223 228\n",
      "  235 227 224 222 224 221 223 245 173   0]\n",
      " [  0   0   0   0   0   0   0   0   0   0   0   0   0 193 228 218 213 198\n",
      "  180 212 210 211 213 223 220 243 202   0]\n",
      " [  0   0   0   0   0   0   0   0   0   1   3   0  12 219 220 212 218 192\n",
      "  169 227 208 218 224 212 226 197 209  52]\n",
      " [  0   0   0   0   0   0   0   0   0   0   6   0  99 244 222 220 218 203\n",
      "  198 221 215 213 222 220 245 119 167  56]\n",
      " [  0   0   0   0   0   0   0   0   0   4   0   0  55 236 228 230 228 240\n",
      "  232 213 218 223 234 217 217 209  92   0]\n",
      " [  0   0   1   4   6   7   2   0   0   0   0   0 237 226 217 223 222 219\n",
      "  222 221 216 223 229 215 218 255  77   0]\n",
      " [  0   3   0   0   0   0   0   0   0  62 145 204 228 207 213 221 218 208\n",
      "  211 218 224 223 219 215 224 244 159   0]\n",
      " [  0   0   0   0  18  44  82 107 189 228 220 222 217 226 200 205 211 230\n",
      "  224 234 176 188 250 248 233 238 215   0]\n",
      " [  0  57 187 208 224 221 224 208 204 214 208 209 200 159 245 193 206 223\n",
      "  255 255 221 234 221 211 220 232 246   0]\n",
      " [  3 202 228 224 221 211 211 214 205 205 205 220 240  80 150 255 229 221\n",
      "  188 154 191 210 204 209 222 228 225   0]\n",
      " [ 98 233 198 210 222 229 229 234 249 220 194 215 217 241  65  73 106 117\n",
      "  168 219 221 215 217 223 223 224 229  29]\n",
      " [ 75 204 212 204 193 205 211 225 216 185 197 206 198 213 240 195 227 245\n",
      "  239 223 218 212 209 222 220 221 230  67]\n",
      " [ 48 203 183 194 213 197 185 190 194 192 202 214 219 221 220 236 225 216\n",
      "  199 206 186 181 177 172 181 205 206 115]\n",
      " [  0 122 219 193 179 171 183 196 204 210 213 207 211 210 200 196 194 191\n",
      "  195 191 198 192 176 156 167 177 210  92]\n",
      " [  0   0  74 189 212 191 175 172 175 181 185 188 189 188 193 198 204 209\n",
      "  210 210 211 188 188 194 192 216 170   0]\n",
      " [  2   0   0   0  66 200 222 237 239 242 246 243 244 221 220 193 191 179\n",
      "  182 182 181 176 166 168  99  58   0   0]\n",
      " [  0   0   0   0   0   0   0  40  61  44  72  41  35   0   0   0   0   0\n",
      "    0   0   0   0   0   0   0   0   0   0]\n",
      " [  0   0   0   0   0   0   0   0   0   0   0   0   0   0   0   0   0   0\n",
      "    0   0   0   0   0   0   0   0   0   0]\n",
      " [  0   0   0   0   0   0   0   0   0   0   0   0   0   0   0   0   0   0\n",
      "    0   0   0   0   0   0   0   0   0   0]]\n"
     ]
    }
   ],
   "source": [
    "print(train_images[0])"
   ]
  },
  {
   "cell_type": "code",
   "execution_count": 5,
   "metadata": {},
   "outputs": [
    {
     "name": "stdout",
     "output_type": "stream",
     "text": [
      "<class 'numpy.ndarray'>\n"
     ]
    }
   ],
   "source": [
    "print(type(train_images[0]))"
   ]
  },
  {
   "cell_type": "code",
   "execution_count": 6,
   "metadata": {},
   "outputs": [
    {
     "name": "stdout",
     "output_type": "stream",
     "text": [
      "数据类型 <class 'numpy.ndarray'>\n",
      "数组元素数据类型： uint8\n",
      "数组元素总数： 784\n",
      "数组形状： (28, 28)\n",
      "数组的维度数目 2\n"
     ]
    }
   ],
   "source": [
    "#print(a1)  \n",
    "print(\"数据类型\",type(train_images))           #打印数组数据类型  \n",
    "print(\"数组元素数据类型：\",train_images[0].dtype) #打印数组元素数据类型  \n",
    "print(\"数组元素总数：\",train_images[0].size)      #打印数组尺寸，即数组元素总数  \n",
    "print(\"数组形状：\",train_images[0].shape)         #打印数组形状  \n",
    "print(\"数组的维度数目\",train_images[0].ndim)      #打印数组的维度数目 "
   ]
  },
  {
   "cell_type": "code",
   "execution_count": 7,
   "metadata": {},
   "outputs": [
    {
     "name": "stdout",
     "output_type": "stream",
     "text": [
      "(60000,)\n"
     ]
    }
   ],
   "source": [
    "print(train_labels.shape)"
   ]
  },
  {
   "cell_type": "code",
   "execution_count": 8,
   "metadata": {},
   "outputs": [
    {
     "name": "stdout",
     "output_type": "stream",
     "text": [
      "[9 0 0 3 0]\n"
     ]
    }
   ],
   "source": [
    "print(train_labels[:5])"
   ]
  },
  {
   "cell_type": "code",
   "execution_count": 9,
   "metadata": {},
   "outputs": [
    {
     "data": {
      "text/plain": [
       "<matplotlib.image.AxesImage at 0x1f0898a0788>"
      ]
     },
     "execution_count": 9,
     "metadata": {},
     "output_type": "execute_result"
    },
    {
     "data": {
      "image/png": "[encoded data removed]",
      "text/plain": [
       "<Figure size 432x288 with 1 Axes>"
      ]
     },
     "metadata": {
      "needs_background": "light"
     },
     "output_type": "display_data"
    }
   ],
   "source": [
    "import matplotlib.pyplot as plt\n",
    "plt.imshow(train_images[0])"
   ]
  },
  {
   "cell_type": "code",
   "execution_count": 10,
   "metadata": {},
   "outputs": [
    {
     "name": "stdout",
     "output_type": "stream",
     "text": [
      "(10000, 28, 28)\n"
     ]
    }
   ],
   "source": [
    "print(test_images.shape)"
   ]
  },
  {
   "cell_type": "code",
   "execution_count": null,
   "metadata": {},
   "outputs": [],
   "source": []
  },
  {
   "cell_type": "code",
   "execution_count": 11,
   "metadata": {},
   "outputs": [],
   "source": [
    "# 构造神经元模型 full connected "
   ]
  },
  {
   "cell_type": "code",
   "execution_count": 12,
   "metadata": {},
   "outputs": [],
   "source": [
    "import tensorflow as tf"
   ]
  },
  {
   "cell_type": "code",
   "execution_count": 13,
   "metadata": {},
   "outputs": [],
   "source": [
    "model = keras.Sequential()\n",
    "model.add(keras.layers.Flatten(input_shape=(28,28)))\n",
    "model.add(keras.layers.Dense(128,activation=tf.nn.relu))\n",
    "model.add(keras.layers.Dense(10,activation=tf.nn.softmax))"
   ]
  },
  {
   "cell_type": "code",
   "execution_count": 14,
   "metadata": {},
   "outputs": [
    {
     "name": "stdout",
     "output_type": "stream",
     "text": [
      "Model: \"sequential\"\n",
      "_________________________________________________________________\n",
      "Layer (type)                 Output Shape              Param #   \n",
      "=================================================================\n",
      "flatten (Flatten)            (None, 784)               0         \n",
      "_________________________________________________________________\n",
      "dense (Dense)                (None, 128)               100480    \n",
      "_________________________________________________________________\n",
      "dense_1 (Dense)              (None, 10)                1290      \n",
      "=================================================================\n",
      "Total params: 101,770\n",
      "Trainable params: 101,770\n",
      "Non-trainable params: 0\n",
      "_________________________________________________________________\n",
      "100480\n",
      "1290\n"
     ]
    }
   ],
   "source": [
    "model.summary()\n",
    "print((784+1)*128)\n",
    "print((128+1)*10)"
   ]
  },
  {
   "cell_type": "code",
   "execution_count": null,
   "metadata": {},
   "outputs": [],
   "source": []
  },
  {
   "cell_type": "code",
   "execution_count": 15,
   "metadata": {},
   "outputs": [],
   "source": [
    "# 训练和评估模型"
   ]
  },
  {
   "cell_type": "code",
   "execution_count": 16,
   "metadata": {},
   "outputs": [],
   "source": [
    "model.compile(optimizer=\"adam\",loss=tf.losses.sparse_categorical_crossentropy,metrics=['accuracy'])"
   ]
  },
  {
   "cell_type": "code",
   "execution_count": 17,
   "metadata": {},
   "outputs": [],
   "source": [
    "model.compile(optimizer=tf.optimizers.Adam(),loss=tf.losses.sparse_categorical_crossentropy,metrics=['accuracy'])"
   ]
  },
  {
   "cell_type": "code",
   "execution_count": 18,
   "metadata": {},
   "outputs": [
    {
     "name": "stdout",
     "output_type": "stream",
     "text": [
      "9\n"
     ]
    }
   ],
   "source": [
    "print(train_labels[0]) #我们的label是9，所以用sparse_categorical_crossentroppy"
   ]
  },
  {
   "cell_type": "code",
   "execution_count": 19,
   "metadata": {},
   "outputs": [
    {
     "data": {
      "text/plain": [
       "[0, 0, 0, 0, 0, 0, 0, 0, 1]"
      ]
     },
     "execution_count": 19,
     "metadata": {},
     "output_type": "execute_result"
    }
   ],
   "source": [
    "[0,0,0,0,0,0,0,0,1] # 如果是这种one_hot的label，我们用categorical_crossentropy"
   ]
  },
  {
   "cell_type": "code",
   "execution_count": 20,
   "metadata": {},
   "outputs": [
    {
     "name": "stdout",
     "output_type": "stream",
     "text": [
      "Train on 60000 samples\n",
      "Epoch 1/5\n",
      "60000/60000 [==============================] - 3s 43us/sample - loss: 2.9985 - accuracy: 0.6780\n",
      "Epoch 2/5\n",
      "60000/60000 [==============================] - 2s 38us/sample - loss: 0.6866 - accuracy: 0.7460\n",
      "Epoch 3/5\n",
      "60000/60000 [==============================] - 2s 40us/sample - loss: 0.5894 - accuracy: 0.7897\n",
      "Epoch 4/5\n",
      "60000/60000 [==============================] - 2s 39us/sample - loss: 0.5388 - accuracy: 0.8123\n",
      "Epoch 5/5\n",
      "60000/60000 [==============================] - 2s 40us/sample - loss: 0.5183 - accuracy: 0.8219\n"
     ]
    },
    {
     "data": {
      "text/plain": [
       "<tensorflow.python.keras.callbacks.History at 0x1f089e61b88>"
      ]
     },
     "execution_count": 20,
     "metadata": {},
     "output_type": "execute_result"
    }
   ],
   "source": [
    "model.fit(train_images,train_labels,epochs=5)"
   ]
  },
  {
   "cell_type": "code",
   "execution_count": 21,
   "metadata": {},
   "outputs": [
    {
     "name": "stdout",
     "output_type": "stream",
     "text": [
      "Train on 60000 samples\n",
      "Epoch 1/5\n",
      "60000/60000 [==============================] - 2s 41us/sample - loss: 0.7004 - accuracy: 0.7550\n",
      "Epoch 2/5\n",
      "60000/60000 [==============================] - 2s 39us/sample - loss: 0.4300 - accuracy: 0.8488\n",
      "Epoch 3/5\n",
      "60000/60000 [==============================] - 2s 40us/sample - loss: 0.3915 - accuracy: 0.8612\n",
      "Epoch 4/5\n",
      "60000/60000 [==============================] - 3s 44us/sample - loss: 0.3644 - accuracy: 0.8683\n",
      "Epoch 5/5\n",
      "60000/60000 [==============================] - 2s 40us/sample - loss: 0.3435 - accuracy: 0.8750\n"
     ]
    },
    {
     "data": {
      "text/plain": [
       "<tensorflow.python.keras.callbacks.History at 0x1f08cec1548>"
      ]
     },
     "execution_count": 21,
     "metadata": {},
     "output_type": "execute_result"
    }
   ],
   "source": [
    "train_images=train_images/255\n",
    "model.fit(train_images,train_labels,epochs=5)"
   ]
  },
  {
   "cell_type": "code",
   "execution_count": 22,
   "metadata": {},
   "outputs": [
    {
     "name": "stdout",
     "output_type": "stream",
     "text": [
      "10000/10000 [==============================] - 0s 42us/sample - loss: 0.3859 - accuracy: 0.8642\n"
     ]
    },
    {
     "data": {
      "text/plain": [
       "[0.3858663885831833, 0.8642]"
      ]
     },
     "execution_count": 22,
     "metadata": {},
     "output_type": "execute_result"
    }
   ],
   "source": [
    "test_images_scales=test_images/255\n",
    "model.evaluate(test_images_scales,test_labels)"
   ]
  },
  {
   "cell_type": "code",
   "execution_count": 36,
   "metadata": {},
   "outputs": [
    {
     "name": "stdout",
     "output_type": "stream",
     "text": [
      "9\n",
      "9\n"
     ]
    }
   ],
   "source": [
    "# 0 T-shirt/top, 1 Trouser/pants, 2 Pullover shirt, 3 Dress, 4 Coat, 5 Sandal, 6 Shirt, 7 Sneaker, 8 Bag, 9 Ankle boot\n",
    "import numpy as np\n",
    "print(np.argmax(model.predict([[test_images[0]/255]])))\n",
    "print(test_labels[0])"
   ]
  },
  {
   "cell_type": "code",
   "execution_count": 37,
   "metadata": {},
   "outputs": [
    {
     "data": {
      "text/plain": [
       "<matplotlib.image.AxesImage at 0x1f086e57e88>"
      ]
     },
     "execution_count": 37,
     "metadata": {},
     "output_type": "execute_result"
    },
    {
     "data": {
      "image/png": "[encoded data removed]",
      "text/plain": [
       "<Figure size 432x288 with 1 Axes>"
      ]
     },
     "metadata": {
      "needs_background": "light"
     },
     "output_type": "display_data"
    }
   ],
   "source": [
    "import matplotlib.pyplot as plt\n",
    "plt.imshow(test_images[0])"
   ]
  },
  {
   "cell_type": "code",
   "execution_count": null,
   "metadata": {},
   "outputs": [],
   "source": []
  },
  {
   "cell_type": "code",
   "execution_count": 38,
   "metadata": {},
   "outputs": [],
   "source": [
    "# 自动终止训练"
   ]
  },
  {
   "cell_type": "code",
   "execution_count": 40,
   "metadata": {},
   "outputs": [],
   "source": [
    "class myCallback(tf.keras.callbacks.Callback):\n",
    "    def on_epoch_end(self, epoch, logs={}):\n",
    "        if(logs.get('loss')<0.4):\n",
    "            print(\"\\nLoss is low so cancelling training!\")\n",
    "            self.model.stop_training = True"
   ]
  },
  {
   "cell_type": "code",
   "execution_count": 42,
   "metadata": {},
   "outputs": [
    {
     "name": "stdout",
     "output_type": "stream",
     "text": [
      "Train on 60000 samples\n",
      "Epoch 1/5\n",
      "60000/60000 [==============================] - 5s 91us/sample - loss: 0.4761 - accuracy: 0.8308\n",
      "Epoch 2/5\n",
      "59616/60000 [============================>.] - ETA: 0s - loss: 0.3580 - accuracy: 0.8701\n",
      "Loss is low so cancelling training!\n",
      "60000/60000 [==============================] - 5s 88us/sample - loss: 0.3583 - accuracy: 0.8699\n"
     ]
    },
    {
     "data": {
      "text/plain": [
       "<tensorflow.python.keras.callbacks.History at 0x1f087aa2488>"
      ]
     },
     "execution_count": 42,
     "metadata": {},
     "output_type": "execute_result"
    }
   ],
   "source": [
    "callbacks = myCallback()\n",
    "mnist = tf.keras.datasets.fashion_mnist\n",
    "(train_images,train_labels), (test_images,test_labels) = mnist.load_data()\n",
    "training_images_scaled = train_images/255.0\n",
    "test_images_scaled = test_images/255.0\n",
    "model = tf.keras.models.Sequential([\n",
    "    tf.keras.layers.Flatten(),\n",
    "    tf.keras.layers.Dense(512, activation=tf.nn.relu),\n",
    "    tf.keras.layers.Dense(10, activation=tf.nn.softmax)\n",
    "])\n",
    "model.compile(optimizer='adam', loss='sparse_categorical_crossentropy', metrics=['accuracy'])\n",
    "model.fit(training_images_scaled, train_labels, epochs=5, callbacks=[callbacks])"
   ]
  },
  {
   "cell_type": "code",
   "execution_count": null,
   "metadata": {},
   "outputs": [],
   "source": []
  },
  {
   "cell_type": "code",
   "execution_count": null,
   "metadata": {},
   "outputs": [],
   "source": []
  },
  {
   "cell_type": "code",
   "execution_count": 1,
   "metadata": {},
   "outputs": [],
   "source": [
    "# convolutional neural network. 不同的filter有不同的效果，e.g.,例如提取水平线和竖直线\n",
    "# max pooling 增强特征，减少数据（维度，e.g., 512x521->256x256）"
   ]
  },
  {
   "cell_type": "code",
   "execution_count": 2,
   "metadata": {},
   "outputs": [],
   "source": [
    "import tensorflow as tf\n",
    "from tensorflow import keras"
   ]
  },
  {
   "cell_type": "code",
   "execution_count": 3,
   "metadata": {},
   "outputs": [
    {
     "name": "stdout",
     "output_type": "stream",
     "text": [
      "Train on 60000 samples\n",
      "Epoch 1/5\n",
      "60000/60000 [==============================] - 45s 747us/sample - loss: 0.4405 - accuracy: 0.8392\n",
      "Epoch 2/5\n",
      "60000/60000 [==============================] - 56s 931us/sample - loss: 0.2951 - accuracy: 0.8914\n",
      "Epoch 3/5\n",
      "60000/60000 [==============================] - 58s 961us/sample - loss: 0.2485 - accuracy: 0.9078\n",
      "Epoch 4/5\n",
      "60000/60000 [==============================] - 66s 1ms/sample - loss: 0.2174 - accuracy: 0.9193\n",
      "Epoch 5/5\n",
      "60000/60000 [==============================] - 64s 1ms/sample - loss: 0.1904 - accuracy: 0.9295\n"
     ]
    },
    {
     "data": {
      "text/plain": [
       "<tensorflow.python.keras.callbacks.History at 0x2159a74f248>"
      ]
     },
     "execution_count": 3,
     "metadata": {},
     "output_type": "execute_result"
    }
   ],
   "source": [
    "fashion_mnist = keras.datasets.fashion_mnist\n",
    "(train_images, train_labels), (test_images, test_labels) = fashion_mnist.load_data()\n",
    "model = keras.Sequential()\n",
    "model.add(keras.layers.Conv2D(64,(3,3),activation='relu',input_shape=(28,28,1)))\n",
    "model.add(keras.layers.MaxPool2D(2,2))\n",
    "model.add(keras.layers.Conv2D(64,(3,3),activation='relu'))\n",
    "model.add(keras.layers.MaxPool2D(2,2))\n",
    "model.add(keras.layers.Flatten())\n",
    "model.add(keras.layers.Dense(128,activation=tf.nn.relu))\n",
    "model.add(keras.layers.Dense(10,activation=tf.nn.softmax))\n",
    "train_images_scaled=train_images/255\n",
    "model.compile(optimizer=tf.optimizers.Adam(),loss=tf.losses.sparse_categorical_crossentropy,metrics=['accuracy'])\n",
    "model.fit(train_images_scaled.reshape(-1,28,28,1),train_labels,epochs=5)"
   ]
  },
  {
   "cell_type": "code",
   "execution_count": 4,
   "metadata": {},
   "outputs": [
    {
     "name": "stdout",
     "output_type": "stream",
     "text": [
      "Model: \"sequential\"\n",
      "_________________________________________________________________\n",
      "Layer (type)                 Output Shape              Param #   \n",
      "=================================================================\n",
      "conv2d (Conv2D)              (None, 26, 26, 64)        640       \n",
      "_________________________________________________________________\n",
      "max_pooling2d (MaxPooling2D) (None, 13, 13, 64)        0         \n",
      "_________________________________________________________________\n",
      "conv2d_1 (Conv2D)            (None, 11, 11, 64)        36928     \n",
      "_________________________________________________________________\n",
      "max_pooling2d_1 (MaxPooling2 (None, 5, 5, 64)          0         \n",
      "_________________________________________________________________\n",
      "flatten (Flatten)            (None, 1600)              0         \n",
      "_________________________________________________________________\n",
      "dense (Dense)                (None, 128)               204928    \n",
      "_________________________________________________________________\n",
      "dense_1 (Dense)              (None, 10)                1290      \n",
      "=================================================================\n",
      "Total params: 243,786\n",
      "Trainable params: 243,786\n",
      "Non-trainable params: 0\n",
      "_________________________________________________________________\n"
     ]
    }
   ],
   "source": [
    "model.summary()"
   ]
  },
  {
   "cell_type": "code",
   "execution_count": 12,
   "metadata": {},
   "outputs": [
    {
     "data": {
      "text/plain": [
       "[array([[[[0.01912187, 0.04775096, 0.        , ..., 0.        ,\n",
       "           0.        , 0.        ],\n",
       "          [0.01912187, 0.04775096, 0.        , ..., 0.        ,\n",
       "           0.        , 0.        ],\n",
       "          [0.01912187, 0.04775096, 0.        , ..., 0.        ,\n",
       "           0.        , 0.        ],\n",
       "          ...,\n",
       "          [0.01912187, 0.04775096, 0.        , ..., 0.        ,\n",
       "           0.        , 0.        ],\n",
       "          [0.01912187, 0.04775096, 0.        , ..., 0.        ,\n",
       "           0.        , 0.        ],\n",
       "          [0.01912187, 0.04775096, 0.        , ..., 0.        ,\n",
       "           0.        , 0.        ]],\n",
       " \n",
       "         [[0.01912187, 0.04775096, 0.        , ..., 0.        ,\n",
       "           0.        , 0.        ],\n",
       "          [0.01912187, 0.04775096, 0.        , ..., 0.        ,\n",
       "           0.        , 0.        ],\n",
       "          [0.01912187, 0.04775096, 0.        , ..., 0.        ,\n",
       "           0.        , 0.        ],\n",
       "          ...,\n",
       "          [0.01912187, 0.04775096, 0.        , ..., 0.        ,\n",
       "           0.        , 0.        ],\n",
       "          [0.01912187, 0.04775096, 0.        , ..., 0.        ,\n",
       "           0.        , 0.        ],\n",
       "          [0.01912187, 0.04775096, 0.        , ..., 0.        ,\n",
       "           0.        , 0.        ]],\n",
       " \n",
       "         [[0.01912187, 0.04775096, 0.        , ..., 0.        ,\n",
       "           0.        , 0.        ],\n",
       "          [0.01912187, 0.04775096, 0.        , ..., 0.        ,\n",
       "           0.        , 0.        ],\n",
       "          [0.01912187, 0.04775096, 0.        , ..., 0.        ,\n",
       "           0.        , 0.        ],\n",
       "          ...,\n",
       "          [0.01912187, 0.04775096, 0.        , ..., 0.        ,\n",
       "           0.        , 0.        ],\n",
       "          [0.01912187, 0.04775096, 0.        , ..., 0.        ,\n",
       "           0.        , 0.        ],\n",
       "          [0.01912187, 0.04775096, 0.        , ..., 0.        ,\n",
       "           0.        , 0.        ]],\n",
       " \n",
       "         ...,\n",
       " \n",
       "         [[0.01912187, 0.04775096, 0.        , ..., 0.        ,\n",
       "           0.        , 0.        ],\n",
       "          [0.01912187, 0.04775096, 0.        , ..., 0.        ,\n",
       "           0.        , 0.        ],\n",
       "          [0.01912187, 0.04775096, 0.        , ..., 0.        ,\n",
       "           0.        , 0.        ],\n",
       "          ...,\n",
       "          [0.01912187, 0.04775096, 0.        , ..., 0.        ,\n",
       "           0.        , 0.        ],\n",
       "          [0.01912187, 0.04775096, 0.        , ..., 0.        ,\n",
       "           0.        , 0.        ],\n",
       "          [0.01912187, 0.04775096, 0.        , ..., 0.        ,\n",
       "           0.        , 0.        ]],\n",
       " \n",
       "         [[0.01912187, 0.04775096, 0.        , ..., 0.        ,\n",
       "           0.        , 0.        ],\n",
       "          [0.01912187, 0.04775096, 0.        , ..., 0.        ,\n",
       "           0.        , 0.        ],\n",
       "          [0.01912187, 0.04775096, 0.        , ..., 0.        ,\n",
       "           0.        , 0.        ],\n",
       "          ...,\n",
       "          [0.01912187, 0.04775096, 0.        , ..., 0.        ,\n",
       "           0.        , 0.        ],\n",
       "          [0.01912187, 0.04775096, 0.        , ..., 0.        ,\n",
       "           0.        , 0.        ],\n",
       "          [0.01912187, 0.04775096, 0.        , ..., 0.        ,\n",
       "           0.        , 0.        ]],\n",
       " \n",
       "         [[0.01912187, 0.04775096, 0.        , ..., 0.        ,\n",
       "           0.        , 0.        ],\n",
       "          [0.01912187, 0.04775096, 0.        , ..., 0.        ,\n",
       "           0.        , 0.        ],\n",
       "          [0.01912187, 0.04775096, 0.        , ..., 0.        ,\n",
       "           0.        , 0.        ],\n",
       "          ...,\n",
       "          [0.01912187, 0.04775096, 0.        , ..., 0.        ,\n",
       "           0.        , 0.        ],\n",
       "          [0.01912187, 0.04775096, 0.        , ..., 0.        ,\n",
       "           0.        , 0.        ],\n",
       "          [0.01912187, 0.04775096, 0.        , ..., 0.        ,\n",
       "           0.        , 0.        ]]]], dtype=float32),\n",
       " array([[[[1.9121874e-02, 4.7750957e-02, 0.0000000e+00, ...,\n",
       "           0.0000000e+00, 0.0000000e+00, 0.0000000e+00],\n",
       "          [1.9121874e-02, 4.7750957e-02, 0.0000000e+00, ...,\n",
       "           0.0000000e+00, 0.0000000e+00, 0.0000000e+00],\n",
       "          [1.9121874e-02, 4.7750957e-02, 0.0000000e+00, ...,\n",
       "           0.0000000e+00, 0.0000000e+00, 0.0000000e+00],\n",
       "          ...,\n",
       "          [1.9121874e-02, 4.7750957e-02, 0.0000000e+00, ...,\n",
       "           0.0000000e+00, 0.0000000e+00, 0.0000000e+00],\n",
       "          [1.9121874e-02, 4.7750957e-02, 0.0000000e+00, ...,\n",
       "           0.0000000e+00, 0.0000000e+00, 0.0000000e+00],\n",
       "          [1.9121874e-02, 4.7750957e-02, 0.0000000e+00, ...,\n",
       "           0.0000000e+00, 0.0000000e+00, 0.0000000e+00]],\n",
       " \n",
       "         [[1.9121874e-02, 4.7750957e-02, 0.0000000e+00, ...,\n",
       "           0.0000000e+00, 0.0000000e+00, 0.0000000e+00],\n",
       "          [1.9121874e-02, 4.7750957e-02, 0.0000000e+00, ...,\n",
       "           0.0000000e+00, 0.0000000e+00, 0.0000000e+00],\n",
       "          [1.9121874e-02, 4.7750957e-02, 0.0000000e+00, ...,\n",
       "           0.0000000e+00, 0.0000000e+00, 0.0000000e+00],\n",
       "          ...,\n",
       "          [1.9121874e-02, 4.7750957e-02, 0.0000000e+00, ...,\n",
       "           0.0000000e+00, 0.0000000e+00, 0.0000000e+00],\n",
       "          [1.9121874e-02, 4.7750957e-02, 0.0000000e+00, ...,\n",
       "           0.0000000e+00, 0.0000000e+00, 0.0000000e+00],\n",
       "          [1.9121874e-02, 4.7750957e-02, 0.0000000e+00, ...,\n",
       "           0.0000000e+00, 0.0000000e+00, 0.0000000e+00]],\n",
       " \n",
       "         [[1.9121874e-02, 4.7750957e-02, 0.0000000e+00, ...,\n",
       "           0.0000000e+00, 0.0000000e+00, 0.0000000e+00],\n",
       "          [1.9121874e-02, 4.7750957e-02, 0.0000000e+00, ...,\n",
       "           0.0000000e+00, 0.0000000e+00, 0.0000000e+00],\n",
       "          [1.9121874e-02, 4.7750957e-02, 0.0000000e+00, ...,\n",
       "           0.0000000e+00, 0.0000000e+00, 0.0000000e+00],\n",
       "          ...,\n",
       "          [1.9121874e-02, 1.8410541e+00, 4.0576231e-01, ...,\n",
       "           0.0000000e+00, 7.8320986e-01, 9.8262566e-01],\n",
       "          [1.9121874e-02, 9.1581688e+00, 7.1183336e-01, ...,\n",
       "           0.0000000e+00, 4.1265826e+00, 6.2752275e+00],\n",
       "          [1.9121874e-02, 3.5425677e+00, 2.3210921e+00, ...,\n",
       "           0.0000000e+00, 0.0000000e+00, 5.5661893e+00]],\n",
       " \n",
       "         ...,\n",
       " \n",
       "         [[6.6782104e+01, 4.7750957e-02, 1.1676861e+01, ...,\n",
       "           0.0000000e+00, 1.4909471e+00, 0.0000000e+00],\n",
       "          [7.2339500e+01, 0.0000000e+00, 2.5195967e+01, ...,\n",
       "           7.4211228e-01, 7.3691529e-01, 0.0000000e+00],\n",
       "          [7.3587776e+01, 0.0000000e+00, 3.1828314e+01, ...,\n",
       "           1.6427826e+01, 2.2917445e+00, 0.0000000e+00],\n",
       "          ...,\n",
       "          [1.1605253e+02, 0.0000000e+00, 2.7169830e+01, ...,\n",
       "           1.9207769e+01, 6.4807539e+00, 0.0000000e+00],\n",
       "          [1.1355773e+02, 0.0000000e+00, 1.6905077e+01, ...,\n",
       "           2.2316637e+01, 5.7204676e+00, 0.0000000e+00],\n",
       "          [9.8820786e+01, 0.0000000e+00, 1.6214754e+01, ...,\n",
       "           4.0948990e+01, 9.1768255e+00, 0.0000000e+00]],\n",
       " \n",
       "         [[1.9121874e-02, 4.7750957e-02, 0.0000000e+00, ...,\n",
       "           0.0000000e+00, 0.0000000e+00, 0.0000000e+00],\n",
       "          [1.9121874e-02, 4.7750957e-02, 0.0000000e+00, ...,\n",
       "           0.0000000e+00, 0.0000000e+00, 0.0000000e+00],\n",
       "          [1.9121874e-02, 4.7750957e-02, 0.0000000e+00, ...,\n",
       "           0.0000000e+00, 0.0000000e+00, 0.0000000e+00],\n",
       "          ...,\n",
       "          [1.9121874e-02, 4.7750957e-02, 0.0000000e+00, ...,\n",
       "           0.0000000e+00, 0.0000000e+00, 0.0000000e+00],\n",
       "          [1.9121874e-02, 4.7750957e-02, 0.0000000e+00, ...,\n",
       "           0.0000000e+00, 0.0000000e+00, 0.0000000e+00],\n",
       "          [1.9121874e-02, 4.7750957e-02, 0.0000000e+00, ...,\n",
       "           0.0000000e+00, 0.0000000e+00, 0.0000000e+00]],\n",
       " \n",
       "         [[1.9121874e-02, 4.7750957e-02, 0.0000000e+00, ...,\n",
       "           0.0000000e+00, 0.0000000e+00, 0.0000000e+00],\n",
       "          [1.9121874e-02, 4.7750957e-02, 0.0000000e+00, ...,\n",
       "           0.0000000e+00, 0.0000000e+00, 0.0000000e+00],\n",
       "          [1.9121874e-02, 4.7750957e-02, 0.0000000e+00, ...,\n",
       "           0.0000000e+00, 0.0000000e+00, 0.0000000e+00],\n",
       "          ...,\n",
       "          [1.9121874e-02, 4.7750957e-02, 0.0000000e+00, ...,\n",
       "           0.0000000e+00, 0.0000000e+00, 0.0000000e+00],\n",
       "          [1.9121874e-02, 4.7750957e-02, 0.0000000e+00, ...,\n",
       "           0.0000000e+00, 0.0000000e+00, 0.0000000e+00],\n",
       "          [1.9121874e-02, 4.7750957e-02, 0.0000000e+00, ...,\n",
       "           0.0000000e+00, 0.0000000e+00, 0.0000000e+00]]]], dtype=float32),\n",
       " array([[[[1.17172949e-01, 0.00000000e+00, 1.02675676e-01, ...,\n",
       "           0.00000000e+00, 0.00000000e+00, 0.00000000e+00],\n",
       "          [1.17172949e-01, 0.00000000e+00, 1.02675676e-01, ...,\n",
       "           0.00000000e+00, 0.00000000e+00, 0.00000000e+00],\n",
       "          [1.17172949e-01, 0.00000000e+00, 1.02675676e-01, ...,\n",
       "           0.00000000e+00, 0.00000000e+00, 0.00000000e+00],\n",
       "          ...,\n",
       "          [1.45858133e+00, 0.00000000e+00, 0.00000000e+00, ...,\n",
       "           0.00000000e+00, 0.00000000e+00, 0.00000000e+00],\n",
       "          [0.00000000e+00, 0.00000000e+00, 1.28172386e+00, ...,\n",
       "           0.00000000e+00, 0.00000000e+00, 5.95115304e-01],\n",
       "          [3.95767403e+00, 0.00000000e+00, 0.00000000e+00, ...,\n",
       "           0.00000000e+00, 0.00000000e+00, 3.06561613e+00]],\n",
       " \n",
       "         [[1.17172949e-01, 0.00000000e+00, 1.02675676e-01, ...,\n",
       "           0.00000000e+00, 0.00000000e+00, 0.00000000e+00],\n",
       "          [1.17172949e-01, 0.00000000e+00, 1.02675676e-01, ...,\n",
       "           0.00000000e+00, 0.00000000e+00, 0.00000000e+00],\n",
       "          [1.17172949e-01, 0.00000000e+00, 1.02675676e-01, ...,\n",
       "           0.00000000e+00, 0.00000000e+00, 0.00000000e+00],\n",
       "          ...,\n",
       "          [4.21535759e+01, 0.00000000e+00, 3.07570152e+01, ...,\n",
       "           0.00000000e+00, 0.00000000e+00, 0.00000000e+00],\n",
       "          [0.00000000e+00, 0.00000000e+00, 4.20108147e+01, ...,\n",
       "           0.00000000e+00, 0.00000000e+00, 0.00000000e+00],\n",
       "          [0.00000000e+00, 0.00000000e+00, 0.00000000e+00, ...,\n",
       "           0.00000000e+00, 0.00000000e+00, 0.00000000e+00]],\n",
       " \n",
       "         [[1.17172949e-01, 0.00000000e+00, 1.02675676e-01, ...,\n",
       "           0.00000000e+00, 0.00000000e+00, 0.00000000e+00],\n",
       "          [1.17172949e-01, 0.00000000e+00, 1.02675676e-01, ...,\n",
       "           0.00000000e+00, 0.00000000e+00, 0.00000000e+00],\n",
       "          [1.17172949e-01, 0.00000000e+00, 1.02675676e-01, ...,\n",
       "           0.00000000e+00, 0.00000000e+00, 0.00000000e+00],\n",
       "          ...,\n",
       "          [1.47584610e+02, 0.00000000e+00, 0.00000000e+00, ...,\n",
       "           0.00000000e+00, 0.00000000e+00, 0.00000000e+00],\n",
       "          [0.00000000e+00, 0.00000000e+00, 0.00000000e+00, ...,\n",
       "           0.00000000e+00, 0.00000000e+00, 0.00000000e+00],\n",
       "          [0.00000000e+00, 0.00000000e+00, 0.00000000e+00, ...,\n",
       "           0.00000000e+00, 0.00000000e+00, 0.00000000e+00]],\n",
       " \n",
       "         ...,\n",
       " \n",
       "         [[0.00000000e+00, 0.00000000e+00, 2.43701431e+02, ...,\n",
       "           0.00000000e+00, 0.00000000e+00, 0.00000000e+00],\n",
       "          [0.00000000e+00, 0.00000000e+00, 2.30910950e+02, ...,\n",
       "           5.79347658e+00, 0.00000000e+00, 0.00000000e+00],\n",
       "          [0.00000000e+00, 0.00000000e+00, 2.52360550e+02, ...,\n",
       "           1.23021812e+01, 0.00000000e+00, 0.00000000e+00],\n",
       "          ...,\n",
       "          [0.00000000e+00, 0.00000000e+00, 2.83325439e+02, ...,\n",
       "           0.00000000e+00, 0.00000000e+00, 0.00000000e+00],\n",
       "          [0.00000000e+00, 0.00000000e+00, 3.65038391e+02, ...,\n",
       "           0.00000000e+00, 0.00000000e+00, 0.00000000e+00],\n",
       "          [0.00000000e+00, 0.00000000e+00, 4.01552734e+02, ...,\n",
       "           0.00000000e+00, 0.00000000e+00, 0.00000000e+00]],\n",
       " \n",
       "         [[0.00000000e+00, 0.00000000e+00, 0.00000000e+00, ...,\n",
       "           1.67545719e+01, 0.00000000e+00, 0.00000000e+00],\n",
       "          [0.00000000e+00, 0.00000000e+00, 0.00000000e+00, ...,\n",
       "           0.00000000e+00, 0.00000000e+00, 0.00000000e+00],\n",
       "          [0.00000000e+00, 0.00000000e+00, 0.00000000e+00, ...,\n",
       "           0.00000000e+00, 0.00000000e+00, 0.00000000e+00],\n",
       "          ...,\n",
       "          [0.00000000e+00, 0.00000000e+00, 0.00000000e+00, ...,\n",
       "           8.52814331e+01, 0.00000000e+00, 0.00000000e+00],\n",
       "          [0.00000000e+00, 0.00000000e+00, 0.00000000e+00, ...,\n",
       "           9.03190708e+00, 0.00000000e+00, 0.00000000e+00],\n",
       "          [0.00000000e+00, 0.00000000e+00, 0.00000000e+00, ...,\n",
       "           0.00000000e+00, 0.00000000e+00, 0.00000000e+00]],\n",
       " \n",
       "         [[0.00000000e+00, 1.07148735e+02, 0.00000000e+00, ...,\n",
       "           1.51847275e+02, 0.00000000e+00, 4.57243080e+01],\n",
       "          [0.00000000e+00, 1.44972748e+02, 0.00000000e+00, ...,\n",
       "           1.53208664e+02, 0.00000000e+00, 8.30293503e+01],\n",
       "          [0.00000000e+00, 1.05607735e+02, 0.00000000e+00, ...,\n",
       "           1.67992081e+02, 0.00000000e+00, 1.29470871e+02],\n",
       "          ...,\n",
       "          [0.00000000e+00, 1.94322449e+02, 0.00000000e+00, ...,\n",
       "           3.03615112e+02, 0.00000000e+00, 1.08166557e+02],\n",
       "          [0.00000000e+00, 1.40761612e+02, 0.00000000e+00, ...,\n",
       "           2.42153656e+02, 0.00000000e+00, 4.97135925e+01],\n",
       "          [0.00000000e+00, 8.35080643e+01, 0.00000000e+00, ...,\n",
       "           2.05154068e+02, 0.00000000e+00, 6.91870651e+01]]]],\n",
       "       dtype=float32),\n",
       " array([[[[1.1717295e-01, 0.0000000e+00, 1.0267568e-01, ...,\n",
       "           0.0000000e+00, 0.0000000e+00, 0.0000000e+00],\n",
       "          [1.1717295e-01, 0.0000000e+00, 2.3371072e-01, ...,\n",
       "           0.0000000e+00, 0.0000000e+00, 0.0000000e+00],\n",
       "          [1.1717295e-01, 2.3355317e+00, 9.0987244e+00, ...,\n",
       "           0.0000000e+00, 0.0000000e+00, 1.0453362e+01],\n",
       "          [2.2488490e+02, 0.0000000e+00, 2.5535810e-01, ...,\n",
       "           0.0000000e+00, 0.0000000e+00, 2.2425837e+01],\n",
       "          [4.2153576e+01, 0.0000000e+00, 4.2010815e+01, ...,\n",
       "           0.0000000e+00, 0.0000000e+00, 5.9511530e-01]],\n",
       " \n",
       "         [[1.1717295e-01, 0.0000000e+00, 1.0267568e-01, ...,\n",
       "           0.0000000e+00, 0.0000000e+00, 0.0000000e+00],\n",
       "          [1.1717295e-01, 0.0000000e+00, 2.1212475e+00, ...,\n",
       "           0.0000000e+00, 0.0000000e+00, 4.3473682e+00],\n",
       "          [0.0000000e+00, 8.7881632e+00, 8.4737177e+00, ...,\n",
       "           0.0000000e+00, 0.0000000e+00, 5.6435008e+00],\n",
       "          [1.8010933e+02, 0.0000000e+00, 0.0000000e+00, ...,\n",
       "           0.0000000e+00, 0.0000000e+00, 1.0387641e+01],\n",
       "          [1.4758461e+02, 0.0000000e+00, 0.0000000e+00, ...,\n",
       "           0.0000000e+00, 0.0000000e+00, 3.9828354e+01]],\n",
       " \n",
       "         [[1.8975943e+01, 0.0000000e+00, 0.0000000e+00, ...,\n",
       "           0.0000000e+00, 0.0000000e+00, 1.6773052e+01],\n",
       "          [0.0000000e+00, 0.0000000e+00, 3.9236403e+00, ...,\n",
       "           0.0000000e+00, 0.0000000e+00, 1.4123870e+01],\n",
       "          [0.0000000e+00, 0.0000000e+00, 0.0000000e+00, ...,\n",
       "           1.1976862e+02, 0.0000000e+00, 0.0000000e+00],\n",
       "          [0.0000000e+00, 0.0000000e+00, 0.0000000e+00, ...,\n",
       "           8.8860420e+01, 0.0000000e+00, 0.0000000e+00],\n",
       "          [0.0000000e+00, 0.0000000e+00, 0.0000000e+00, ...,\n",
       "           6.4004486e+01, 0.0000000e+00, 2.0076611e+02]],\n",
       " \n",
       "         [[4.5565670e+01, 0.0000000e+00, 8.7841911e+01, ...,\n",
       "           0.0000000e+00, 0.0000000e+00, 0.0000000e+00],\n",
       "          [0.0000000e+00, 0.0000000e+00, 0.0000000e+00, ...,\n",
       "           6.4502930e+01, 0.0000000e+00, 3.9730824e+01],\n",
       "          [0.0000000e+00, 0.0000000e+00, 0.0000000e+00, ...,\n",
       "           1.3118286e+02, 0.0000000e+00, 0.0000000e+00],\n",
       "          [0.0000000e+00, 0.0000000e+00, 3.2488901e+02, ...,\n",
       "           1.3439991e+01, 0.0000000e+00, 3.0621994e+01],\n",
       "          [0.0000000e+00, 0.0000000e+00, 1.7165675e+02, ...,\n",
       "           0.0000000e+00, 0.0000000e+00, 1.8095432e+01]],\n",
       " \n",
       "         [[0.0000000e+00, 0.0000000e+00, 2.4370143e+02, ...,\n",
       "           1.6754572e+01, 0.0000000e+00, 0.0000000e+00],\n",
       "          [0.0000000e+00, 0.0000000e+00, 2.8333972e+02, ...,\n",
       "           1.2302181e+01, 0.0000000e+00, 0.0000000e+00],\n",
       "          [0.0000000e+00, 0.0000000e+00, 2.9520599e+02, ...,\n",
       "           1.8583330e+01, 0.0000000e+00, 0.0000000e+00],\n",
       "          [0.0000000e+00, 3.0354877e+01, 3.2049341e+02, ...,\n",
       "           6.1381874e+01, 0.0000000e+00, 0.0000000e+00],\n",
       "          [0.0000000e+00, 0.0000000e+00, 3.6503839e+02, ...,\n",
       "           8.5281433e+01, 0.0000000e+00, 0.0000000e+00]]]], dtype=float32),\n",
       " array([[ 0.11717295,  0.        ,  0.10267568, ..., 85.28143   ,\n",
       "          0.        ,  0.        ]], dtype=float32),\n",
       " array([[365.86435  ,  19.746933 ,   0.       , 225.77145  ,   0.       ,\n",
       "           0.       , 291.41248  ,   0.       ,   0.       ,   0.       ,\n",
       "         615.54535  ,   0.       , 418.88388  , 487.24936  ,   0.       ,\n",
       "           0.       ,   0.       , 470.4056   ,   0.       ,   0.       ,\n",
       "           0.       ,   0.       ,   0.       , 783.2119   , 335.66165  ,\n",
       "         688.92883  ,   0.       ,   0.       ,   0.       ,   0.       ,\n",
       "           0.       ,   0.       ,   0.       ,   0.       ,  34.95497  ,\n",
       "           0.       ,   0.       ,  70.893005 , 414.39832  ,   0.       ,\n",
       "          92.38686  ,   0.       ,   0.       , 641.4968   , 493.90515  ,\n",
       "         623.40375  ,   0.       ,   0.       ,   0.       ,   0.       ,\n",
       "          32.447147 ,   0.       ,   0.       ,   0.       ,   0.       ,\n",
       "           0.       ,   0.       ,   0.       ,   0.       ,  46.99844  ,\n",
       "           0.       ,   0.       ,   0.       ,   0.       ,  36.238743 ,\n",
       "           0.       , 570.68274  ,   0.       ,   0.       ,   0.       ,\n",
       "           0.       ,   0.       ,   0.       ,   0.       ,  62.959885 ,\n",
       "           0.       ,   0.       ,   0.       ,   0.       ,   0.       ,\n",
       "          55.966698 ,   0.       ,   0.       ,   0.       ,   0.       ,\n",
       "           0.       ,   0.       ,   0.       ,   0.       ,   0.       ,\n",
       "           0.       , 187.98074  ,   0.       ,   0.       , 232.60432  ,\n",
       "           0.       ,   0.       ,   0.       ,   0.       ,   0.       ,\n",
       "           0.       ,   0.       ,   0.       ,   0.       ,   0.       ,\n",
       "           0.       , 110.91799  ,   0.       , 543.23846  , 168.50743  ,\n",
       "           0.       ,   0.       ,   0.       ,   0.       ,   0.       ,\n",
       "           0.       ,   0.       ,   0.       , 637.25793  , 175.40775  ,\n",
       "           0.       ,  11.2370615,   0.       ,   0.       ,   0.       ,\n",
       "           0.       , 443.79718  ,   0.       ]], dtype=float32),\n",
       " array([[0., 0., 0., 0., 0., 0., 0., 0., 0., 1.]], dtype=float32)]"
      ]
     },
     "execution_count": 12,
     "metadata": {},
     "output_type": "execute_result"
    }
   ],
   "source": [
    "import matplotlib.pyplot as plt\n",
    "layer_outputs = [layer.output for layer in model.layers]\n",
    "activation_model = tf.keras.models.Model(inputs = model.input, outputs=layer_outputs)\n",
    "pred = activation_model.predict(test_images[0].reshape(1,28,28,1))\n",
    "pred"
   ]
  },
  {
   "cell_type": "code",
   "execution_count": 13,
   "metadata": {},
   "outputs": [
    {
     "data": {
      "text/plain": [
       "7"
      ]
     },
     "execution_count": 13,
     "metadata": {},
     "output_type": "execute_result"
    }
   ],
   "source": [
    "len(pred)"
   ]
  },
  {
   "cell_type": "code",
   "execution_count": 14,
   "metadata": {},
   "outputs": [
    {
     "data": {
      "text/plain": [
       "(1, 26, 26, 64)"
      ]
     },
     "execution_count": 14,
     "metadata": {},
     "output_type": "execute_result"
    }
   ],
   "source": [
    "pred[0].shape"
   ]
  },
  {
   "cell_type": "code",
   "execution_count": 16,
   "metadata": {},
   "outputs": [
    {
     "data": {
      "text/plain": [
       "<matplotlib.image.AxesImage at 0x215b8b16788>"
      ]
     },
     "execution_count": 16,
     "metadata": {},
     "output_type": "execute_result"
    },
    {
     "data": {
      "image/png": "[encoded data removed]",
      "text/plain": [
       "<Figure size 432x288 with 1 Axes>"
      ]
     },
     "metadata": {
      "needs_background": "light"
     },
     "output_type": "display_data"
    }
   ],
   "source": [
    "plt.imshow(pred[0][0,:,:,1]) # CNN层"
   ]
  },
  {
   "cell_type": "code",
   "execution_count": 17,
   "metadata": {},
   "outputs": [
    {
     "data": {
      "text/plain": [
       "<matplotlib.image.AxesImage at 0x215b8b96888>"
      ]
     },
     "execution_count": 17,
     "metadata": {},
     "output_type": "execute_result"
    },
    {
     "data": {
      "image/png": "[encoded data removed]",
      "text/plain": [
       "<Figure size 432x288 with 1 Axes>"
      ]
     },
     "metadata": {
      "needs_background": "light"
     },
     "output_type": "display_data"
    }
   ],
   "source": [
    "plt.imshow(pred[1][0,:,:,1]) # pooling层"
   ]
  },
  {
   "cell_type": "code",
   "execution_count": null,
   "metadata": {},
   "outputs": [],
   "source": []
  },
  {
   "cell_type": "code",
   "execution_count": null,
   "metadata": {},
   "outputs": [],
   "source": []
  },
  {
   "cell_type": "code",
   "execution_count": null,
   "metadata": {},
   "outputs": [],
   "source": []
  },
  {
   "cell_type": "code",
   "execution_count": 8,
   "metadata": {},
   "outputs": [
    {
     "data": {
      "text/plain": [
       "[1, 1, 1, 1, 1, 1, 1, 1, 1, 1]"
      ]
     },
     "execution_count": 8,
     "metadata": {},
     "output_type": "execute_result"
    }
   ],
   "source": [
    "[1 for x in range(1, 11)]"
   ]
  },
  {
   "cell_type": "code",
   "execution_count": null,
   "metadata": {},
   "outputs": [],
   "source": []
  }
 ],
 "metadata": {
  "kernelspec": {
   "display_name": "Python 3",
   "language": "python",
   "name": "python3"
  },
  "language_info": {
   "codemirror_mode": {
    "name": "ipython",
    "version": 3
   },
   "file_extension": ".py",
   "mimetype": "text/x-python",
   "name": "python",
   "nbconvert_exporter": "python",
   "pygments_lexer": "ipython3",
   "version": "3.7.9"
  }
 },
 "nbformat": 4,
 "nbformat_minor": 4
}
