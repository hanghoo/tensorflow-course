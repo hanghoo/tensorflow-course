{
 "cells": [
  {
   "cell_type": "code",
   "execution_count": null,
   "metadata": {},
   "outputs": [],
   "source": [
    "!wget --no-check-certificate\\\n",
    "    https://storage.googleapis.com/laurencemoroney-blog.appspot.com/validation-horse-or-human.zip\\\n",
    "    -O D:/CCNY/Courses/2021-Tensorflow/week1/validation-horse-or-human.zip"
   ]
  },
  {
   "cell_type": "code",
   "execution_count": null,
   "metadata": {},
   "outputs": [],
   "source": [
    "!wget --no-check-certificate \\\n",
    "    https://storage.googleapis.com/laurencemoroney-blog.appspot.com/horse-or-human.zip \\\n",
    "    -O D:/CCNY/Courses/2021-Tensorflow/week1/horse-or-human.zip"
   ]
  },
  {
   "cell_type": "code",
   "execution_count": null,
   "metadata": {},
   "outputs": [],
   "source": [
    "import os\n",
    "import zipfile\n",
    "\n",
    "local_zip = 'D:/CCNY/Courses/2021-Tensorflow/week1/horse-or-human.zip'\n",
    "zip_ref = zipfile.ZipFile(local_zip, 'r')\n",
    "zip_ref.extractall('D:/CCNY/Courses/2021-Tensorflow/week1/horse-or-human')\n",
    "zip_ref.close()"
   ]
  },
  {
   "cell_type": "code",
   "execution_count": null,
   "metadata": {},
   "outputs": [],
   "source": [
    "local_zip = 'D:/CCNY/Courses/2021-Tensorflow/week1/validation-horse-or-human.zip'\n",
    "zip_ref = zipfile.ZipFile(local_zip, 'r')\n",
    "zip_ref.extractall('D:/CCNY/Courses/2021-Tensorflow/week1/validation-horse-or-human')\n",
    "zip_ref.close()"
   ]
  },
  {
   "cell_type": "code",
   "execution_count": null,
   "metadata": {},
   "outputs": [],
   "source": []
  },
  {
   "cell_type": "code",
   "execution_count": 2,
   "metadata": {},
   "outputs": [
    {
     "name": "stdout",
     "output_type": "stream",
     "text": [
      "Found 1027 images belonging to 2 classes.\n",
      "Found 256 images belonging to 2 classes.\n"
     ]
    }
   ],
   "source": [
    "from tensorflow.keras.preprocessing.image import ImageDataGenerator\n",
    "\n",
    "# 创建两个数据生成器，指定scaling范围0~1\n",
    "train_datagen = ImageDataGenerator(rescale=1/255)\n",
    "validation_datagen = ImageDataGenerator(rescale=1/255)\n",
    "\n",
    "# 指向训练数据文件夹\n",
    "train_generator = train_datagen.flow_from_directory(\n",
    "                'D:/CCNY/Courses/2021-Tensorflow/week1/horse-or-human', # 训练数据所在文件夹\n",
    "                target_size=(150,150), # 指定输出尺寸\n",
    "                batch_size=32,\n",
    "                class_mode='binary') # 指定二分类\n",
    "\n",
    "# 指向测试数据文件夹\n",
    "validation_generator = validation_datagen.flow_from_directory(\n",
    "                'D:/CCNY/Courses/2021-Tensorflow/week1/validation-horse-or-human',\n",
    "                target_size=(150,150),\n",
    "                batch_size=32,\n",
    "                class_mode='binary')"
   ]
  },
  {
   "cell_type": "code",
   "execution_count": null,
   "metadata": {},
   "outputs": [],
   "source": [
    "# 构建和训练模型"
   ]
  },
  {
   "cell_type": "code",
   "execution_count": null,
   "metadata": {},
   "outputs": [],
   "source": [
    "import tensorflow as tf\n",
    "from tensorflow.keras.optimizers import RMSprop\n",
    "model = tf.keras.models.Sequential([\n",
    "    # first convolution\n",
    "    tf.keras.layers.Conv2D(16,(3,3),activation='relu',input_shape=(300,300,3)),\n",
    "    tf.keras.layers.MaxPooling2D(2,2),\n",
    "    # second convolution\n",
    "    tf.keras.layers.Conv2D(32,(3,3),activation='relu'),\n",
    "    tf.keras.layers.MaxPooling2D(2,2),\n",
    "    # third convolution\n",
    "    tf.keras.layers.Conv2D(64,(3,3),activation='relu'),\n",
    "    tf.keras.layers.MaxPooling2D(2,2),\n",
    "    # flatten the results to feed into a DNN\n",
    "    tf.keras.layers.Flatten(),\n",
    "    # 512 neuron hidden layer\n",
    "    tf.keras.layers.Dense(512,activation='relu'),\n",
    "    # only 1 output neuron. It will contain a value from 0-1 where 0 for 1 class ('horses') and 1 for the other ('humans')\n",
    "    tf.keras.layers.Dense(1,activation='sigmoid')\n",
    "])\n",
    "model.compile(loss='binary_crossentropy', optimizer=RMSprop(lr=0.001), metrics=['acc'])\n",
    "history = model.fit(\n",
    "        train_generator,\n",
    "        epochs=15,\n",
    "        verbose=1,\n",
    "        validation_data=validation_generator,\n",
    "        validation_steps=8)"
   ]
  },
  {
   "cell_type": "code",
   "execution_count": null,
   "metadata": {},
   "outputs": [],
   "source": []
  },
  {
   "cell_type": "code",
   "execution_count": null,
   "metadata": {},
   "outputs": [],
   "source": [
    "# 优化模型的参数"
   ]
  },
  {
   "cell_type": "code",
   "execution_count": null,
   "metadata": {},
   "outputs": [
    {
     "name": "stdout",
     "output_type": "stream",
     "text": [
      "INFO:tensorflow:Reloading Oracle from existing project horse_human_params\\my_horse_human_project\\oracle.json\n",
      "INFO:tensorflow:Reloading Tuner from horse_human_params\\my_horse_human_project\\tuner0.json\n",
      "WARNING:tensorflow:sample_weight modes were coerced from\n",
      "  ...\n",
      "    to  \n",
      "  ['...']\n",
      "WARNING:tensorflow:sample_weight modes were coerced from\n",
      "  ...\n",
      "    to  \n",
      "  ['...']\n",
      "Train for 33 steps, validate for 8 steps\n",
      "Epoch 1/2\n",
      "33/33 [==============================] - ETA: 50s - loss: 0.6945 - acc: 0.50 - ETA: 36s - loss: 0.7063 - acc: 0.51 - ETA: 34s - loss: 0.7020 - acc: 0.51 - ETA: 31s - loss: 0.6896 - acc: 0.53 - ETA: 29s - loss: 0.6910 - acc: 0.53 - ETA: 28s - loss: 0.8448 - acc: 0.53 - ETA: 27s - loss: 0.8209 - acc: 0.53 - ETA: 26s - loss: 0.8050 - acc: 0.51 - ETA: 25s - loss: 0.7911 - acc: 0.51 - ETA: 23s - loss: 0.7791 - acc: 0.52 - ETA: 22s - loss: 0.7688 - acc: 0.52 - ETA: 21s - loss: 0.7587 - acc: 0.54 - ETA: 20s - loss: 0.7486 - acc: 0.56 - ETA: 19s - loss: 0.7383 - acc: 0.58 - ETA: 18s - loss: 0.7204 - acc: 0.59 - ETA: 17s - loss: 0.7404 - acc: 0.58 - ETA: 16s - loss: 0.7303 - acc: 0.59 - ETA: 14s - loss: 0.7267 - acc: 0.59 - ETA: 13s - loss: 0.7172 - acc: 0.60 - ETA: 12s - loss: 0.7061 - acc: 0.61 - ETA: 11s - loss: 0.6975 - acc: 0.62 - ETA: 10s - loss: 0.6911 - acc: 0.62 - ETA: 9s - loss: 0.6855 - acc: 0.6351 - ETA: 8s - loss: 0.6783 - acc: 0.644 - ETA: 7s - loss: 0.6660 - acc: 0.653 - ETA: 6s - loss: 0.6537 - acc: 0.661 - ETA: 5s - loss: 0.6499 - acc: 0.658 - ETA: 4s - loss: 0.6864 - acc: 0.651 - ETA: 3s - loss: 0.6830 - acc: 0.660 - ETA: 2s - loss: 0.6755 - acc: 0.669 - ETA: 1s - loss: 0.6668 - acc: 0.677 - ETA: 0s - loss: 0.6561 - acc: 0.685 - 35s 1s/step - loss: 0.6416 - acc: 0.6952 - val_loss: 2.5557 - val_acc: 0.5273\n",
      "Epoch 2/2\n",
      "33/33 [==============================] - ETA: 38s - loss: 0.3832 - acc: 0.78 - ETA: 35s - loss: 0.3084 - acc: 0.84 - ETA: 24s - loss: 0.2229 - acc: 0.85 - ETA: 25s - loss: 0.2105 - acc: 0.88 - ETA: 25s - loss: 0.2118 - acc: 0.88 - ETA: 25s - loss: 0.2018 - acc: 0.90 - ETA: 25s - loss: 0.1934 - acc: 0.91 - ETA: 24s - loss: 0.1943 - acc: 0.91 - ETA: 24s - loss: 0.1992 - acc: 0.91 - ETA: 24s - loss: 0.1946 - acc: 0.92 - ETA: 23s - loss: 0.1889 - acc: 0.92 - ETA: 22s - loss: 0.1832 - acc: 0.93 - ETA: 21s - loss: 0.1766 - acc: 0.93 - ETA: 20s - loss: 0.2200 - acc: 0.91 - ETA: 19s - loss: 0.2446 - acc: 0.90 - ETA: 18s - loss: 0.2551 - acc: 0.90 - ETA: 17s - loss: 0.2622 - acc: 0.89 - ETA: 16s - loss: 0.2589 - acc: 0.89 - ETA: 15s - loss: 0.2546 - acc: 0.90 - ETA: 14s - loss: 0.2619 - acc: 0.90 - ETA: 13s - loss: 0.2535 - acc: 0.90 - ETA: 12s - loss: 0.2473 - acc: 0.91 - ETA: 11s - loss: 0.2410 - acc: 0.91 - ETA: 10s - loss: 0.2335 - acc: 0.91 - ETA: 9s - loss: 0.2281 - acc: 0.9196 - ETA: 7s - loss: 0.2219 - acc: 0.921 - ETA: 6s - loss: 0.2163 - acc: 0.923 - ETA: 5s - loss: 0.2133 - acc: 0.923 - ETA: 4s - loss: 0.2165 - acc: 0.921 - ETA: 3s - loss: 0.2180 - acc: 0.920 - ETA: 2s - loss: 0.2580 - acc: 0.913 - ETA: 1s - loss: 0.2796 - acc: 0.906 - 40s 1s/step - loss: 0.2769 - acc: 0.9085 - val_loss: 1.0203 - val_acc: 0.6992\n"
     ]
    },
    {
     "data": {
      "text/html": [
       "<span style=\"color:#4527A0\"><h1 style=\"font-size:18px\">Trial complete</h1></span>"
      ],
      "text/plain": [
       "<IPython.core.display.HTML object>"
      ]
     },
     "metadata": {},
     "output_type": "display_data"
    },
    {
     "data": {
      "text/html": [
       "<span style=\"color:#4527A0\"><h1 style=\"font-size:18px\">Trial summary</h1></span>"
      ],
      "text/plain": [
       "<IPython.core.display.HTML object>"
      ]
     },
     "metadata": {},
     "output_type": "display_data"
    },
    {
     "data": {
      "text/html": [
       "<span style=\"color:cyan\"> |-Trial ID: 0eab3e756dadad710c4eb320879a60c9</span>"
      ],
      "text/plain": [
       "<IPython.core.display.HTML object>"
      ]
     },
     "metadata": {},
     "output_type": "display_data"
    },
    {
     "data": {
      "text/html": [
       "<span style=\"color:cyan\"> |-Score: 0.69921875</span>"
      ],
      "text/plain": [
       "<IPython.core.display.HTML object>"
      ]
     },
     "metadata": {},
     "output_type": "display_data"
    },
    {
     "data": {
      "text/html": [
       "<span style=\"color:cyan\"> |-Best step: 0</span>"
      ],
      "text/plain": [
       "<IPython.core.display.HTML object>"
      ]
     },
     "metadata": {},
     "output_type": "display_data"
    },
    {
     "data": {
      "text/html": [
       "<span style=\"color:#7E57C2\"><h2 style=\"font-size:16px\">Hyperparameters:</h2></span>"
      ],
      "text/plain": [
       "<IPython.core.display.HTML object>"
      ]
     },
     "metadata": {},
     "output_type": "display_data"
    },
    {
     "data": {
      "text/html": [
       "<span style=\"color:cyan\"> |-hidden_units: 448</span>"
      ],
      "text/plain": [
       "<IPython.core.display.HTML object>"
      ]
     },
     "metadata": {},
     "output_type": "display_data"
    },
    {
     "data": {
      "text/html": [
       "<span style=\"color:blue\"> |-num_conv_layers: 3</span>"
      ],
      "text/plain": [
       "<IPython.core.display.HTML object>"
      ]
     },
     "metadata": {},
     "output_type": "display_data"
    },
    {
     "data": {
      "text/html": [
       "<span style=\"color:cyan\"> |-num_filters_layer0: 64</span>"
      ],
      "text/plain": [
       "<IPython.core.display.HTML object>"
      ]
     },
     "metadata": {},
     "output_type": "display_data"
    },
    {
     "data": {
      "text/html": [
       "<span style=\"color:blue\"> |-num_filters_layer1: 64</span>"
      ],
      "text/plain": [
       "<IPython.core.display.HTML object>"
      ]
     },
     "metadata": {},
     "output_type": "display_data"
    },
    {
     "data": {
      "text/html": [
       "<span style=\"color:cyan\"> |-num_filters_layer2: 16</span>"
      ],
      "text/plain": [
       "<IPython.core.display.HTML object>"
      ]
     },
     "metadata": {},
     "output_type": "display_data"
    },
    {
     "data": {
      "text/html": [
       "<span style=\"color:blue\"> |-tuner/bracket: 2</span>"
      ],
      "text/plain": [
       "<IPython.core.display.HTML object>"
      ]
     },
     "metadata": {},
     "output_type": "display_data"
    },
    {
     "data": {
      "text/html": [
       "<span style=\"color:cyan\"> |-tuner/epochs: 2</span>"
      ],
      "text/plain": [
       "<IPython.core.display.HTML object>"
      ]
     },
     "metadata": {},
     "output_type": "display_data"
    },
    {
     "data": {
      "text/html": [
       "<span style=\"color:blue\"> |-tuner/initial_epoch: 0</span>"
      ],
      "text/plain": [
       "<IPython.core.display.HTML object>"
      ]
     },
     "metadata": {},
     "output_type": "display_data"
    },
    {
     "data": {
      "text/html": [
       "<span style=\"color:cyan\"> |-tuner/round: 0</span>"
      ],
      "text/plain": [
       "<IPython.core.display.HTML object>"
      ]
     },
     "metadata": {},
     "output_type": "display_data"
    },
    {
     "name": "stdout",
     "output_type": "stream",
     "text": [
      "WARNING:tensorflow:sample_weight modes were coerced from\n",
      "  ...\n",
      "    to  \n",
      "  ['...']\n",
      "WARNING:tensorflow:sample_weight modes were coerced from\n",
      "  ...\n",
      "    to  \n",
      "  ['...']\n",
      "Train for 33 steps, validate for 8 steps\n",
      "Epoch 1/2\n",
      "33/33 [==============================] - ETA: 34s - loss: 0.6922 - acc: 0.62 - ETA: 22s - loss: 0.7551 - acc: 0.56 - ETA: 18s - loss: 0.7949 - acc: 0.50 - ETA: 16s - loss: 0.7660 - acc: 0.50 - ETA: 14s - loss: 0.7417 - acc: 0.59 - ETA: 13s - loss: 0.7259 - acc: 0.57 - ETA: 13s - loss: 0.6983 - acc: 0.59 - ETA: 12s - loss: 0.6649 - acc: 0.63 - ETA: 12s - loss: 0.6750 - acc: 0.62 - ETA: 11s - loss: 0.7011 - acc: 0.60 - ETA: 10s - loss: 0.6793 - acc: 0.63 - ETA: 10s - loss: 0.6516 - acc: 0.65 - ETA: 9s - loss: 0.6236 - acc: 0.6779 - ETA: 9s - loss: 0.5899 - acc: 0.700 - ETA: 8s - loss: 0.5639 - acc: 0.716 - ETA: 8s - loss: 0.5438 - acc: 0.728 - ETA: 7s - loss: 0.5458 - acc: 0.724 - ETA: 7s - loss: 0.5249 - acc: 0.739 - ETA: 6s - loss: 0.5043 - acc: 0.751 - ETA: 5s - loss: 0.4796 - acc: 0.752 - ETA: 5s - loss: 0.4653 - acc: 0.762 - ETA: 4s - loss: 0.4477 - acc: 0.773 - ETA: 4s - loss: 0.4309 - acc: 0.783 - ETA: 3s - loss: 0.4162 - acc: 0.790 - ETA: 3s - loss: 0.4054 - acc: 0.796 - ETA: 3s - loss: 0.3931 - acc: 0.804 - ETA: 2s - loss: 0.3862 - acc: 0.807 - ETA: 2s - loss: 0.3788 - acc: 0.812 - ETA: 1s - loss: 0.3725 - acc: 0.816 - ETA: 1s - loss: 0.3639 - acc: 0.819 - ETA: 0s - loss: 0.3601 - acc: 0.821 - ETA: 0s - loss: 0.3526 - acc: 0.825 - 16s 476ms/step - loss: 0.3463 - acc: 0.8286 - val_loss: 0.7696 - val_acc: 0.8438\n",
      "Epoch 2/2\n",
      "33/33 [==============================] - ETA: 15s - loss: 0.1061 - acc: 0.90 - ETA: 13s - loss: 0.1105 - acc: 0.93 - ETA: 12s - loss: 0.0883 - acc: 0.95 - ETA: 12s - loss: 0.0835 - acc: 0.96 - ETA: 11s - loss: 0.1057 - acc: 0.95 - ETA: 9s - loss: 0.0883 - acc: 0.9509 - ETA: 9s - loss: 0.1013 - acc: 0.948 - ETA: 9s - loss: 0.0964 - acc: 0.955 - ETA: 8s - loss: 0.0902 - acc: 0.957 - ETA: 8s - loss: 0.0913 - acc: 0.958 - ETA: 8s - loss: 0.1015 - acc: 0.953 - ETA: 8s - loss: 0.1270 - acc: 0.935 - ETA: 7s - loss: 0.1386 - acc: 0.927 - ETA: 7s - loss: 0.1396 - acc: 0.926 - ETA: 6s - loss: 0.1467 - acc: 0.924 - ETA: 6s - loss: 0.1435 - acc: 0.927 - ETA: 6s - loss: 0.1375 - acc: 0.930 - ETA: 5s - loss: 0.1347 - acc: 0.934 - ETA: 5s - loss: 0.1320 - acc: 0.936 - ETA: 5s - loss: 0.1304 - acc: 0.937 - ETA: 4s - loss: 0.1279 - acc: 0.939 - ETA: 4s - loss: 0.1290 - acc: 0.939 - ETA: 4s - loss: 0.1299 - acc: 0.937 - ETA: 3s - loss: 0.1269 - acc: 0.940 - ETA: 3s - loss: 0.1226 - acc: 0.942 - ETA: 2s - loss: 0.1206 - acc: 0.944 - ETA: 2s - loss: 0.1204 - acc: 0.944 - ETA: 2s - loss: 0.1176 - acc: 0.946 - ETA: 1s - loss: 0.1154 - acc: 0.947 - ETA: 1s - loss: 0.1126 - acc: 0.949 - ETA: 0s - loss: 0.1104 - acc: 0.950 - ETA: 0s - loss: 0.1076 - acc: 0.951 - 14s 439ms/step - loss: 0.1055 - acc: 0.9533 - val_loss: 1.0178 - val_acc: 0.8516\n"
     ]
    },
    {
     "data": {
      "text/html": [
       "<span style=\"color:#4527A0\"><h1 style=\"font-size:18px\">Trial complete</h1></span>"
      ],
      "text/plain": [
       "<IPython.core.display.HTML object>"
      ]
     },
     "metadata": {},
     "output_type": "display_data"
    },
    {
     "data": {
      "text/html": [
       "<span style=\"color:#4527A0\"><h1 style=\"font-size:18px\">Trial summary</h1></span>"
      ],
      "text/plain": [
       "<IPython.core.display.HTML object>"
      ]
     },
     "metadata": {},
     "output_type": "display_data"
    },
    {
     "data": {
      "text/html": [
       "<span style=\"color:cyan\"> |-Trial ID: 9143a1b19e54b05d5cfa6fbed3093d94</span>"
      ],
      "text/plain": [
       "<IPython.core.display.HTML object>"
      ]
     },
     "metadata": {},
     "output_type": "display_data"
    },
    {
     "data": {
      "text/html": [
       "<span style=\"color:cyan\"> |-Score: 0.8515625</span>"
      ],
      "text/plain": [
       "<IPython.core.display.HTML object>"
      ]
     },
     "metadata": {},
     "output_type": "display_data"
    },
    {
     "data": {
      "text/html": [
       "<span style=\"color:cyan\"> |-Best step: 0</span>"
      ],
      "text/plain": [
       "<IPython.core.display.HTML object>"
      ]
     },
     "metadata": {},
     "output_type": "display_data"
    },
    {
     "data": {
      "text/html": [
       "<span style=\"color:#7E57C2\"><h2 style=\"font-size:16px\">Hyperparameters:</h2></span>"
      ],
      "text/plain": [
       "<IPython.core.display.HTML object>"
      ]
     },
     "metadata": {},
     "output_type": "display_data"
    },
    {
     "data": {
      "text/html": [
       "<span style=\"color:cyan\"> |-hidden_units: 224</span>"
      ],
      "text/plain": [
       "<IPython.core.display.HTML object>"
      ]
     },
     "metadata": {},
     "output_type": "display_data"
    },
    {
     "data": {
      "text/html": [
       "<span style=\"color:blue\"> |-num_conv_layers: 2</span>"
      ],
      "text/plain": [
       "<IPython.core.display.HTML object>"
      ]
     },
     "metadata": {},
     "output_type": "display_data"
    },
    {
     "data": {
      "text/html": [
       "<span style=\"color:cyan\"> |-num_filters_layer0: 16</span>"
      ],
      "text/plain": [
       "<IPython.core.display.HTML object>"
      ]
     },
     "metadata": {},
     "output_type": "display_data"
    },
    {
     "data": {
      "text/html": [
       "<span style=\"color:blue\"> |-num_filters_layer1: 16</span>"
      ],
      "text/plain": [
       "<IPython.core.display.HTML object>"
      ]
     },
     "metadata": {},
     "output_type": "display_data"
    },
    {
     "data": {
      "text/html": [
       "<span style=\"color:cyan\"> |-num_filters_layer2: 16</span>"
      ],
      "text/plain": [
       "<IPython.core.display.HTML object>"
      ]
     },
     "metadata": {},
     "output_type": "display_data"
    },
    {
     "data": {
      "text/html": [
       "<span style=\"color:blue\"> |-tuner/bracket: 2</span>"
      ],
      "text/plain": [
       "<IPython.core.display.HTML object>"
      ]
     },
     "metadata": {},
     "output_type": "display_data"
    },
    {
     "data": {
      "text/html": [
       "<span style=\"color:cyan\"> |-tuner/epochs: 2</span>"
      ],
      "text/plain": [
       "<IPython.core.display.HTML object>"
      ]
     },
     "metadata": {},
     "output_type": "display_data"
    },
    {
     "data": {
      "text/html": [
       "<span style=\"color:blue\"> |-tuner/initial_epoch: 0</span>"
      ],
      "text/plain": [
       "<IPython.core.display.HTML object>"
      ]
     },
     "metadata": {},
     "output_type": "display_data"
    },
    {
     "data": {
      "text/html": [
       "<span style=\"color:cyan\"> |-tuner/round: 0</span>"
      ],
      "text/plain": [
       "<IPython.core.display.HTML object>"
      ]
     },
     "metadata": {},
     "output_type": "display_data"
    },
    {
     "name": "stdout",
     "output_type": "stream",
     "text": [
      "WARNING:tensorflow:sample_weight modes were coerced from\n",
      "  ...\n",
      "    to  \n",
      "  ['...']\n",
      "WARNING:tensorflow:sample_weight modes were coerced from\n",
      "  ...\n",
      "    to  \n",
      "  ['...']\n",
      "Train for 33 steps, validate for 8 steps\n",
      "Epoch 1/2\n",
      "33/33 [==============================] - ETA: 55s - loss: 0.6960 - acc: 0.50 - ETA: 43s - loss: 13.5721 - acc: 0.421 - ETA: 39s - loss: 10.8644 - acc: 0.447 - ETA: 36s - loss: 8.4063 - acc: 0.429 - ETA: 33s - loss: 6.8839 - acc: 0.41 - ETA: 31s - loss: 5.8494 - acc: 0.43 - ETA: 30s - loss: 5.1067 - acc: 0.43 - ETA: 28s - loss: 4.5602 - acc: 0.42 - ETA: 27s - loss: 4.1464 - acc: 0.42 - ETA: 25s - loss: 3.8186 - acc: 0.44 - ETA: 25s - loss: 3.5284 - acc: 0.46 - ETA: 24s - loss: 3.2849 - acc: 0.48 - ETA: 23s - loss: 3.0703 - acc: 0.52 - ETA: 22s - loss: 2.8802 - acc: 0.54 - ETA: 21s - loss: 2.7501 - acc: 0.54 - ETA: 20s - loss: 2.6081 - acc: 0.54 - ETA: 19s - loss: 2.4802 - acc: 0.55 - ETA: 18s - loss: 2.3597 - acc: 0.57 - ETA: 16s - loss: 2.3430 - acc: 0.56 - ETA: 15s - loss: 2.2449 - acc: 0.58 - ETA: 14s - loss: 2.1534 - acc: 0.60 - ETA: 13s - loss: 2.0675 - acc: 0.61 - ETA: 11s - loss: 2.0041 - acc: 0.62 - ETA: 10s - loss: 1.9377 - acc: 0.62 - ETA: 9s - loss: 1.8697 - acc: 0.6400 - ETA: 8s - loss: 1.8023 - acc: 0.653 - ETA: 7s - loss: 1.7471 - acc: 0.662 - ETA: 5s - loss: 1.6863 - acc: 0.663 - ETA: 4s - loss: 1.6352 - acc: 0.674 - ETA: 3s - loss: 1.5872 - acc: 0.682 - ETA: 2s - loss: 1.5540 - acc: 0.685 - ETA: 1s - loss: 1.5110 - acc: 0.694 - 39s 1s/step - loss: 1.4704 - acc: 0.7030 - val_loss: 1.0216 - val_acc: 0.7734\n",
      "Epoch 2/2\n",
      "33/33 [==============================] - ETA: 31s - loss: 0.0571 - acc: 1.00 - ETA: 29s - loss: 0.0543 - acc: 1.00 - ETA: 28s - loss: 0.0546 - acc: 0.98 - ETA: 27s - loss: 0.0506 - acc: 0.99 - ETA: 26s - loss: 0.0706 - acc: 0.98 - ETA: 27s - loss: 0.1047 - acc: 0.95 - ETA: 27s - loss: 0.1047 - acc: 0.95 - ETA: 26s - loss: 0.1016 - acc: 0.96 - ETA: 25s - loss: 0.0941 - acc: 0.96 - ETA: 24s - loss: 0.0899 - acc: 0.97 - ETA: 24s - loss: 0.0939 - acc: 0.97 - ETA: 23s - loss: 0.0926 - acc: 0.97 - ETA: 22s - loss: 0.0948 - acc: 0.97 - ETA: 21s - loss: 0.0887 - acc: 0.97 - ETA: 20s - loss: 0.0874 - acc: 0.97 - ETA: 19s - loss: 0.2556 - acc: 0.95 - ETA: 18s - loss: 0.2560 - acc: 0.94 - ETA: 16s - loss: 0.2512 - acc: 0.94 - ETA: 15s - loss: 0.2544 - acc: 0.94 - ETA: 14s - loss: 0.2466 - acc: 0.94 - ETA: 13s - loss: 0.2457 - acc: 0.94 - ETA: 12s - loss: 0.2440 - acc: 0.94 - ETA: 11s - loss: 0.2461 - acc: 0.94 - ETA: 10s - loss: 0.2416 - acc: 0.94 - ETA: 9s - loss: 0.2384 - acc: 0.9413 - ETA: 8s - loss: 0.2319 - acc: 0.943 - ETA: 6s - loss: 0.2250 - acc: 0.944 - ETA: 5s - loss: 0.2170 - acc: 0.944 - ETA: 4s - loss: 0.2099 - acc: 0.946 - ETA: 3s - loss: 0.2036 - acc: 0.948 - ETA: 2s - loss: 0.1975 - acc: 0.950 - ETA: 1s - loss: 0.1918 - acc: 0.951 - 40s 1s/step - loss: 0.1887 - acc: 0.9523 - val_loss: 0.4101 - val_acc: 0.9219\n"
     ]
    },
    {
     "data": {
      "text/html": [
       "<span style=\"color:#4527A0\"><h1 style=\"font-size:18px\">Trial complete</h1></span>"
      ],
      "text/plain": [
       "<IPython.core.display.HTML object>"
      ]
     },
     "metadata": {},
     "output_type": "display_data"
    },
    {
     "data": {
      "text/html": [
       "<span style=\"color:#4527A0\"><h1 style=\"font-size:18px\">Trial summary</h1></span>"
      ],
      "text/plain": [
       "<IPython.core.display.HTML object>"
      ]
     },
     "metadata": {},
     "output_type": "display_data"
    },
    {
     "data": {
      "text/html": [
       "<span style=\"color:cyan\"> |-Trial ID: fb0e6b51ea23199d54e577392721dec1</span>"
      ],
      "text/plain": [
       "<IPython.core.display.HTML object>"
      ]
     },
     "metadata": {},
     "output_type": "display_data"
    },
    {
     "data": {
      "text/html": [
       "<span style=\"color:cyan\"> |-Score: 0.921875</span>"
      ],
      "text/plain": [
       "<IPython.core.display.HTML object>"
      ]
     },
     "metadata": {},
     "output_type": "display_data"
    },
    {
     "data": {
      "text/html": [
       "<span style=\"color:cyan\"> |-Best step: 0</span>"
      ],
      "text/plain": [
       "<IPython.core.display.HTML object>"
      ]
     },
     "metadata": {},
     "output_type": "display_data"
    },
    {
     "data": {
      "text/html": [
       "<span style=\"color:#7E57C2\"><h2 style=\"font-size:16px\">Hyperparameters:</h2></span>"
      ],
      "text/plain": [
       "<IPython.core.display.HTML object>"
      ]
     },
     "metadata": {},
     "output_type": "display_data"
    },
    {
     "data": {
      "text/html": [
       "<span style=\"color:cyan\"> |-hidden_units: 192</span>"
      ],
      "text/plain": [
       "<IPython.core.display.HTML object>"
      ]
     },
     "metadata": {},
     "output_type": "display_data"
    },
    {
     "data": {
      "text/html": [
       "<span style=\"color:blue\"> |-num_conv_layers: 1</span>"
      ],
      "text/plain": [
       "<IPython.core.display.HTML object>"
      ]
     },
     "metadata": {},
     "output_type": "display_data"
    },
    {
     "data": {
      "text/html": [
       "<span style=\"color:cyan\"> |-num_filters_layer0: 64</span>"
      ],
      "text/plain": [
       "<IPython.core.display.HTML object>"
      ]
     },
     "metadata": {},
     "output_type": "display_data"
    },
    {
     "data": {
      "text/html": [
       "<span style=\"color:blue\"> |-num_filters_layer1: 64</span>"
      ],
      "text/plain": [
       "<IPython.core.display.HTML object>"
      ]
     },
     "metadata": {},
     "output_type": "display_data"
    },
    {
     "data": {
      "text/html": [
       "<span style=\"color:cyan\"> |-num_filters_layer2: 64</span>"
      ],
      "text/plain": [
       "<IPython.core.display.HTML object>"
      ]
     },
     "metadata": {},
     "output_type": "display_data"
    },
    {
     "data": {
      "text/html": [
       "<span style=\"color:blue\"> |-tuner/bracket: 2</span>"
      ],
      "text/plain": [
       "<IPython.core.display.HTML object>"
      ]
     },
     "metadata": {},
     "output_type": "display_data"
    },
    {
     "data": {
      "text/html": [
       "<span style=\"color:cyan\"> |-tuner/epochs: 2</span>"
      ],
      "text/plain": [
       "<IPython.core.display.HTML object>"
      ]
     },
     "metadata": {},
     "output_type": "display_data"
    },
    {
     "data": {
      "text/html": [
       "<span style=\"color:blue\"> |-tuner/initial_epoch: 0</span>"
      ],
      "text/plain": [
       "<IPython.core.display.HTML object>"
      ]
     },
     "metadata": {},
     "output_type": "display_data"
    },
    {
     "data": {
      "text/html": [
       "<span style=\"color:cyan\"> |-tuner/round: 0</span>"
      ],
      "text/plain": [
       "<IPython.core.display.HTML object>"
      ]
     },
     "metadata": {},
     "output_type": "display_data"
    },
    {
     "name": "stdout",
     "output_type": "stream",
     "text": [
      "WARNING:tensorflow:sample_weight modes were coerced from\n",
      "  ...\n",
      "    to  \n",
      "  ['...']\n",
      "WARNING:tensorflow:sample_weight modes were coerced from\n",
      "  ...\n",
      "    to  \n",
      "  ['...']\n",
      "Train for 33 steps, validate for 8 steps\n",
      "Epoch 1/2\n",
      "33/33 [==============================] - ETA: 41s - loss: 0.6899 - acc: 0.50 - ETA: 26s - loss: 0.7172 - acc: 0.42 - ETA: 21s - loss: 0.7099 - acc: 0.45 - ETA: 19s - loss: 0.7039 - acc: 0.46 - ETA: 17s - loss: 0.6966 - acc: 0.46 - ETA: 14s - loss: 0.6749 - acc: 0.47 - ETA: 13s - loss: 0.7051 - acc: 0.49 - ETA: 12s - loss: 0.7070 - acc: 0.50 - ETA: 11s - loss: 0.6965 - acc: 0.55 - ETA: 11s - loss: 0.6846 - acc: 0.57 - ETA: 10s - loss: 0.6715 - acc: 0.59 - ETA: 9s - loss: 0.6611 - acc: 0.6197 - ETA: 9s - loss: 0.6517 - acc: 0.620 - ETA: 8s - loss: 0.6445 - acc: 0.627 - ETA: 8s - loss: 0.6331 - acc: 0.643 - ETA: 7s - loss: 0.6214 - acc: 0.652 - ETA: 7s - loss: 0.6171 - acc: 0.652 - ETA: 6s - loss: 0.6053 - acc: 0.667 - ETA: 6s - loss: 0.5901 - acc: 0.683 - ETA: 5s - loss: 0.5743 - acc: 0.697 - ETA: 5s - loss: 0.5579 - acc: 0.710 - ETA: 4s - loss: 0.5524 - acc: 0.714 - ETA: 4s - loss: 0.5436 - acc: 0.719 - ETA: 3s - loss: 0.5398 - acc: 0.722 - ETA: 3s - loss: 0.5240 - acc: 0.731 - ETA: 3s - loss: 0.5143 - acc: 0.738 - ETA: 2s - loss: 0.5005 - acc: 0.748 - ETA: 2s - loss: 0.4933 - acc: 0.750 - ETA: 1s - loss: 0.4900 - acc: 0.755 - ETA: 1s - loss: 0.4905 - acc: 0.754 - ETA: 0s - loss: 0.4822 - acc: 0.760 - ETA: 0s - loss: 0.4721 - acc: 0.764 - 15s 460ms/step - loss: 0.4640 - acc: 0.7702 - val_loss: 0.6550 - val_acc: 0.8516\n",
      "Epoch 2/2\n",
      "33/33 [==============================] - ETA: 13s - loss: 0.0787 - acc: 0.96 - ETA: 11s - loss: 0.0998 - acc: 0.95 - ETA: 11s - loss: 0.1376 - acc: 0.94 - ETA: 10s - loss: 0.1270 - acc: 0.96 - ETA: 10s - loss: 0.1294 - acc: 0.95 - ETA: 9s - loss: 0.1309 - acc: 0.9583 - ETA: 9s - loss: 0.1318 - acc: 0.959 - ETA: 9s - loss: 0.2129 - acc: 0.921 - ETA: 8s - loss: 0.2332 - acc: 0.909 - ETA: 8s - loss: 0.2554 - acc: 0.896 - ETA: 8s - loss: 0.2709 - acc: 0.892 - ETA: 7s - loss: 0.2765 - acc: 0.890 - ETA: 7s - loss: 0.2705 - acc: 0.896 - ETA: 6s - loss: 0.2540 - acc: 0.897 - ETA: 6s - loss: 0.2472 - acc: 0.904 - ETA: 6s - loss: 0.2471 - acc: 0.902 - ETA: 5s - loss: 0.2441 - acc: 0.904 - ETA: 5s - loss: 0.2392 - acc: 0.906 - ETA: 5s - loss: 0.2343 - acc: 0.910 - ETA: 4s - loss: 0.2282 - acc: 0.913 - ETA: 4s - loss: 0.2230 - acc: 0.916 - ETA: 3s - loss: 0.2190 - acc: 0.917 - ETA: 3s - loss: 0.2129 - acc: 0.919 - ETA: 3s - loss: 0.2051 - acc: 0.922 - ETA: 2s - loss: 0.1975 - acc: 0.926 - ETA: 2s - loss: 0.1911 - acc: 0.929 - ETA: 2s - loss: 0.1854 - acc: 0.931 - ETA: 1s - loss: 0.1834 - acc: 0.933 - ETA: 1s - loss: 0.1793 - acc: 0.935 - ETA: 1s - loss: 0.1745 - acc: 0.937 - ETA: 0s - loss: 0.1715 - acc: 0.938 - ETA: 0s - loss: 0.1680 - acc: 0.939 - 13s 387ms/step - loss: 0.1653 - acc: 0.9416 - val_loss: 1.6478 - val_acc: 0.7578\n"
     ]
    },
    {
     "data": {
      "text/html": [
       "<span style=\"color:#4527A0\"><h1 style=\"font-size:18px\">Trial complete</h1></span>"
      ],
      "text/plain": [
       "<IPython.core.display.HTML object>"
      ]
     },
     "metadata": {},
     "output_type": "display_data"
    },
    {
     "data": {
      "text/html": [
       "<span style=\"color:#4527A0\"><h1 style=\"font-size:18px\">Trial summary</h1></span>"
      ],
      "text/plain": [
       "<IPython.core.display.HTML object>"
      ]
     },
     "metadata": {},
     "output_type": "display_data"
    },
    {
     "data": {
      "text/html": [
       "<span style=\"color:cyan\"> |-Trial ID: fcc93ab1b158beedd3bb32aec8ab641e</span>"
      ],
      "text/plain": [
       "<IPython.core.display.HTML object>"
      ]
     },
     "metadata": {},
     "output_type": "display_data"
    },
    {
     "data": {
      "text/html": [
       "<span style=\"color:cyan\"> |-Score: 0.8515625</span>"
      ],
      "text/plain": [
       "<IPython.core.display.HTML object>"
      ]
     },
     "metadata": {},
     "output_type": "display_data"
    },
    {
     "data": {
      "text/html": [
       "<span style=\"color:cyan\"> |-Best step: 0</span>"
      ],
      "text/plain": [
       "<IPython.core.display.HTML object>"
      ]
     },
     "metadata": {},
     "output_type": "display_data"
    },
    {
     "data": {
      "text/html": [
       "<span style=\"color:#7E57C2\"><h2 style=\"font-size:16px\">Hyperparameters:</h2></span>"
      ],
      "text/plain": [
       "<IPython.core.display.HTML object>"
      ]
     },
     "metadata": {},
     "output_type": "display_data"
    },
    {
     "data": {
      "text/html": [
       "<span style=\"color:cyan\"> |-hidden_units: 448</span>"
      ],
      "text/plain": [
       "<IPython.core.display.HTML object>"
      ]
     },
     "metadata": {},
     "output_type": "display_data"
    },
    {
     "data": {
      "text/html": [
       "<span style=\"color:blue\"> |-num_conv_layers: 3</span>"
      ],
      "text/plain": [
       "<IPython.core.display.HTML object>"
      ]
     },
     "metadata": {},
     "output_type": "display_data"
    },
    {
     "data": {
      "text/html": [
       "<span style=\"color:cyan\"> |-num_filters_layer0: 16</span>"
      ],
      "text/plain": [
       "<IPython.core.display.HTML object>"
      ]
     },
     "metadata": {},
     "output_type": "display_data"
    },
    {
     "data": {
      "text/html": [
       "<span style=\"color:blue\"> |-num_filters_layer1: 16</span>"
      ],
      "text/plain": [
       "<IPython.core.display.HTML object>"
      ]
     },
     "metadata": {},
     "output_type": "display_data"
    },
    {
     "data": {
      "text/html": [
       "<span style=\"color:cyan\"> |-num_filters_layer2: 16</span>"
      ],
      "text/plain": [
       "<IPython.core.display.HTML object>"
      ]
     },
     "metadata": {},
     "output_type": "display_data"
    },
    {
     "data": {
      "text/html": [
       "<span style=\"color:blue\"> |-tuner/bracket: 2</span>"
      ],
      "text/plain": [
       "<IPython.core.display.HTML object>"
      ]
     },
     "metadata": {},
     "output_type": "display_data"
    },
    {
     "data": {
      "text/html": [
       "<span style=\"color:cyan\"> |-tuner/epochs: 2</span>"
      ],
      "text/plain": [
       "<IPython.core.display.HTML object>"
      ]
     },
     "metadata": {},
     "output_type": "display_data"
    },
    {
     "data": {
      "text/html": [
       "<span style=\"color:blue\"> |-tuner/initial_epoch: 0</span>"
      ],
      "text/plain": [
       "<IPython.core.display.HTML object>"
      ]
     },
     "metadata": {},
     "output_type": "display_data"
    },
    {
     "data": {
      "text/html": [
       "<span style=\"color:cyan\"> |-tuner/round: 0</span>"
      ],
      "text/plain": [
       "<IPython.core.display.HTML object>"
      ]
     },
     "metadata": {},
     "output_type": "display_data"
    },
    {
     "name": "stdout",
     "output_type": "stream",
     "text": [
      "WARNING:tensorflow:sample_weight modes were coerced from\n",
      "  ...\n",
      "    to  \n",
      "  ['...']\n",
      "WARNING:tensorflow:sample_weight modes were coerced from\n",
      "  ...\n",
      "    to  \n",
      "  ['...']\n",
      "Train for 33 steps, validate for 8 steps\n",
      "Epoch 1/2\n",
      "33/33 [==============================] - ETA: 50s - loss: 0.7005 - acc: 0.50 - ETA: 39s - loss: 17.7816 - acc: 0.468 - ETA: 35s - loss: 14.6496 - acc: 0.489 - ETA: 33s - loss: 11.1590 - acc: 0.492 - ETA: 31s - loss: 9.0628 - acc: 0.493 - ETA: 29s - loss: 7.6966 - acc: 0.49 - ETA: 28s - loss: 6.7533 - acc: 0.47 - ETA: 28s - loss: 5.9903 - acc: 0.50 - ETA: 25s - loss: 5.3762 - acc: 0.50 - ETA: 24s - loss: 5.0097 - acc: 0.50 - ETA: 23s - loss: 4.6087 - acc: 0.53 - ETA: 23s - loss: 4.3297 - acc: 0.54 - ETA: 22s - loss: 4.1561 - acc: 0.52 - ETA: 21s - loss: 3.9008 - acc: 0.56 - ETA: 20s - loss: 3.6780 - acc: 0.58 - ETA: 19s - loss: 3.4746 - acc: 0.60 - ETA: 18s - loss: 3.2906 - acc: 0.63 - ETA: 16s - loss: 3.1900 - acc: 0.62 - ETA: 15s - loss: 3.0935 - acc: 0.61 - ETA: 14s - loss: 2.9763 - acc: 0.61 - ETA: 13s - loss: 2.8665 - acc: 0.60 - ETA: 12s - loss: 2.7619 - acc: 0.60 - ETA: 11s - loss: 2.6562 - acc: 0.62 - ETA: 10s - loss: 2.5597 - acc: 0.63 - ETA: 9s - loss: 2.4684 - acc: 0.6394 - ETA: 8s - loss: 2.3878 - acc: 0.645 - ETA: 6s - loss: 2.4753 - acc: 0.633 - ETA: 5s - loss: 2.4030 - acc: 0.636 - ETA: 4s - loss: 2.3323 - acc: 0.647 - ETA: 3s - loss: 2.2614 - acc: 0.658 - ETA: 2s - loss: 2.1952 - acc: 0.666 - ETA: 1s - loss: 2.1513 - acc: 0.664 - 42s 1s/step - loss: 2.1696 - acc: 0.6611 - val_loss: 0.8773 - val_acc: 0.6250\n",
      "Epoch 2/2\n",
      "33/33 [==============================] - ETA: 10s - loss: 0.0739 - acc: 1.00 - ETA: 24s - loss: 0.1491 - acc: 0.94 - ETA: 27s - loss: 0.1653 - acc: 0.95 - ETA: 29s - loss: 0.1474 - acc: 0.96 - ETA: 29s - loss: 0.1378 - acc: 0.97 - ETA: 29s - loss: 0.1222 - acc: 0.97 - ETA: 28s - loss: 0.1145 - acc: 0.97 - ETA: 27s - loss: 0.2663 - acc: 0.92 - ETA: 28s - loss: 0.2979 - acc: 0.91 - ETA: 27s - loss: 0.2779 - acc: 0.91 - ETA: 26s - loss: 0.2592 - acc: 0.92 - ETA: 25s - loss: 0.2493 - acc: 0.92 - ETA: 24s - loss: 0.2604 - acc: 0.91 - ETA: 22s - loss: 0.2460 - acc: 0.92 - ETA: 21s - loss: 0.2431 - acc: 0.92 - ETA: 20s - loss: 0.2347 - acc: 0.92 - ETA: 19s - loss: 0.2266 - acc: 0.92 - ETA: 17s - loss: 0.2282 - acc: 0.92 - ETA: 16s - loss: 0.2330 - acc: 0.91 - ETA: 15s - loss: 0.2302 - acc: 0.91 - ETA: 14s - loss: 0.2330 - acc: 0.91 - ETA: 12s - loss: 0.2440 - acc: 0.90 - ETA: 11s - loss: 0.2383 - acc: 0.90 - ETA: 10s - loss: 0.2458 - acc: 0.90 - ETA: 9s - loss: 0.2434 - acc: 0.9040 - ETA: 8s - loss: 0.2426 - acc: 0.904 - ETA: 6s - loss: 0.2422 - acc: 0.903 - ETA: 5s - loss: 0.2413 - acc: 0.903 - ETA: 4s - loss: 0.2351 - acc: 0.906 - ETA: 3s - loss: 0.2315 - acc: 0.908 - ETA: 2s - loss: 0.2244 - acc: 0.911 - ETA: 1s - loss: 0.2189 - acc: 0.913 - 42s 1s/step - loss: 0.2129 - acc: 0.9163 - val_loss: 2.0500 - val_acc: 0.7500\n"
     ]
    },
    {
     "data": {
      "text/html": [
       "<span style=\"color:#4527A0\"><h1 style=\"font-size:18px\">Trial complete</h1></span>"
      ],
      "text/plain": [
       "<IPython.core.display.HTML object>"
      ]
     },
     "metadata": {},
     "output_type": "display_data"
    },
    {
     "data": {
      "text/html": [
       "<span style=\"color:#4527A0\"><h1 style=\"font-size:18px\">Trial summary</h1></span>"
      ],
      "text/plain": [
       "<IPython.core.display.HTML object>"
      ]
     },
     "metadata": {},
     "output_type": "display_data"
    },
    {
     "data": {
      "text/html": [
       "<span style=\"color:cyan\"> |-Trial ID: 07d429f2211fa61c56bcdc5acdd99bae</span>"
      ],
      "text/plain": [
       "<IPython.core.display.HTML object>"
      ]
     },
     "metadata": {},
     "output_type": "display_data"
    },
    {
     "data": {
      "text/html": [
       "<span style=\"color:cyan\"> |-Score: 0.75</span>"
      ],
      "text/plain": [
       "<IPython.core.display.HTML object>"
      ]
     },
     "metadata": {},
     "output_type": "display_data"
    },
    {
     "data": {
      "text/html": [
       "<span style=\"color:cyan\"> |-Best step: 0</span>"
      ],
      "text/plain": [
       "<IPython.core.display.HTML object>"
      ]
     },
     "metadata": {},
     "output_type": "display_data"
    },
    {
     "data": {
      "text/html": [
       "<span style=\"color:#7E57C2\"><h2 style=\"font-size:16px\">Hyperparameters:</h2></span>"
      ],
      "text/plain": [
       "<IPython.core.display.HTML object>"
      ]
     },
     "metadata": {},
     "output_type": "display_data"
    },
    {
     "data": {
      "text/html": [
       "<span style=\"color:cyan\"> |-hidden_units: 224</span>"
      ],
      "text/plain": [
       "<IPython.core.display.HTML object>"
      ]
     },
     "metadata": {},
     "output_type": "display_data"
    },
    {
     "data": {
      "text/html": [
       "<span style=\"color:blue\"> |-num_conv_layers: 1</span>"
      ],
      "text/plain": [
       "<IPython.core.display.HTML object>"
      ]
     },
     "metadata": {},
     "output_type": "display_data"
    },
    {
     "data": {
      "text/html": [
       "<span style=\"color:cyan\"> |-num_filters_layer0: 64</span>"
      ],
      "text/plain": [
       "<IPython.core.display.HTML object>"
      ]
     },
     "metadata": {},
     "output_type": "display_data"
    },
    {
     "data": {
      "text/html": [
       "<span style=\"color:blue\"> |-num_filters_layer1: 16</span>"
      ],
      "text/plain": [
       "<IPython.core.display.HTML object>"
      ]
     },
     "metadata": {},
     "output_type": "display_data"
    },
    {
     "data": {
      "text/html": [
       "<span style=\"color:cyan\"> |-num_filters_layer2: 16</span>"
      ],
      "text/plain": [
       "<IPython.core.display.HTML object>"
      ]
     },
     "metadata": {},
     "output_type": "display_data"
    },
    {
     "data": {
      "text/html": [
       "<span style=\"color:blue\"> |-tuner/bracket: 2</span>"
      ],
      "text/plain": [
       "<IPython.core.display.HTML object>"
      ]
     },
     "metadata": {},
     "output_type": "display_data"
    },
    {
     "data": {
      "text/html": [
       "<span style=\"color:cyan\"> |-tuner/epochs: 2</span>"
      ],
      "text/plain": [
       "<IPython.core.display.HTML object>"
      ]
     },
     "metadata": {},
     "output_type": "display_data"
    },
    {
     "data": {
      "text/html": [
       "<span style=\"color:blue\"> |-tuner/initial_epoch: 0</span>"
      ],
      "text/plain": [
       "<IPython.core.display.HTML object>"
      ]
     },
     "metadata": {},
     "output_type": "display_data"
    },
    {
     "data": {
      "text/html": [
       "<span style=\"color:cyan\"> |-tuner/round: 0</span>"
      ],
      "text/plain": [
       "<IPython.core.display.HTML object>"
      ]
     },
     "metadata": {},
     "output_type": "display_data"
    },
    {
     "name": "stdout",
     "output_type": "stream",
     "text": [
      "WARNING:tensorflow:sample_weight modes were coerced from\n",
      "  ...\n",
      "    to  \n",
      "  ['...']\n",
      "WARNING:tensorflow:sample_weight modes were coerced from\n",
      "  ...\n",
      "    to  \n",
      "  ['...']\n",
      "Train for 33 steps, validate for 8 steps\n",
      "Epoch 1/2\n",
      "33/33 [==============================] - ETA: 1:13 - loss: 0.6907 - acc: 0.500 - ETA: 59s - loss: 3.3546 - acc: 0.515 - ETA: 52s - loss: 3.9279 - acc: 0.51 - ETA: 48s - loss: 3.1188 - acc: 0.50 - ETA: 45s - loss: 2.6315 - acc: 0.52 - ETA: 43s - loss: 2.3103 - acc: 0.50 - ETA: 41s - loss: 2.0765 - acc: 0.51 - ETA: 39s - loss: 1.8967 - acc: 0.52 - ETA: 38s - loss: 1.8387 - acc: 0.50 - ETA: 37s - loss: 1.7220 - acc: 0.50 - ETA: 35s - loss: 1.6264 - acc: 0.50 - ETA: 34s - loss: 1.5441 - acc: 0.50 - ETA: 32s - loss: 1.4700 - acc: 0.51 - ETA: 30s - loss: 1.4029 - acc: 0.53 - ETA: 28s - loss: 1.3638 - acc: 0.54 - ETA: 26s - loss: 1.3192 - acc: 0.56 - ETA: 24s - loss: 1.2742 - acc: 0.58 - ETA: 23s - loss: 1.2328 - acc: 0.60 - ETA: 20s - loss: 1.1853 - acc: 0.60 - ETA: 19s - loss: 1.1657 - acc: 0.58 - ETA: 17s - loss: 1.1367 - acc: 0.59 - ETA: 15s - loss: 1.1067 - acc: 0.60 - ETA: 14s - loss: 1.0686 - acc: 0.61 - ETA: 12s - loss: 1.0373 - acc: 0.63 - ETA: 11s - loss: 1.0334 - acc: 0.62 - ETA: 9s - loss: 1.0115 - acc: 0.6364 - ETA: 8s - loss: 0.9904 - acc: 0.640 - ETA: 6s - loss: 0.9665 - acc: 0.648 - ETA: 5s - loss: 0.9415 - acc: 0.657 - ETA: 4s - loss: 0.9199 - acc: 0.662 - ETA: 2s - loss: 0.8960 - acc: 0.671 - ETA: 1s - loss: 0.8889 - acc: 0.670 - 47s 1s/step - loss: 0.8714 - acc: 0.6748 - val_loss: 0.7133 - val_acc: 0.7617\n",
      "Epoch 2/2\n",
      "33/33 [==============================] - ETA: 41s - loss: 0.1900 - acc: 0.90 - ETA: 36s - loss: 0.1448 - acc: 0.95 - ETA: 25s - loss: 0.0979 - acc: 0.95 - ETA: 26s - loss: 0.0887 - acc: 0.95 - ETA: 27s - loss: 0.0985 - acc: 0.96 - ETA: 26s - loss: 0.2473 - acc: 0.90 - ETA: 26s - loss: 0.2877 - acc: 0.86 - ETA: 25s - loss: 0.3061 - acc: 0.87 - ETA: 25s - loss: 0.3153 - acc: 0.87 - ETA: 24s - loss: 0.3259 - acc: 0.85 - ETA: 23s - loss: 0.3536 - acc: 0.84 - ETA: 22s - loss: 0.3580 - acc: 0.83 - ETA: 21s - loss: 0.3535 - acc: 0.84 - ETA: 20s - loss: 0.3440 - acc: 0.84 - ETA: 19s - loss: 0.3257 - acc: 0.85 - ETA: 18s - loss: 0.3066 - acc: 0.86 - ETA: 17s - loss: 0.2933 - acc: 0.87 - ETA: 16s - loss: 0.3286 - acc: 0.86 - ETA: 15s - loss: 0.3637 - acc: 0.84 - ETA: 14s - loss: 0.3573 - acc: 0.85 - ETA: 13s - loss: 0.3501 - acc: 0.86 - ETA: 12s - loss: 0.3409 - acc: 0.86 - ETA: 11s - loss: 0.3277 - acc: 0.87 - ETA: 10s - loss: 0.3162 - acc: 0.87 - ETA: 9s - loss: 0.3062 - acc: 0.8820 - ETA: 8s - loss: 0.3036 - acc: 0.884 - ETA: 6s - loss: 0.3001 - acc: 0.886 - ETA: 5s - loss: 0.2991 - acc: 0.888 - ETA: 4s - loss: 0.2969 - acc: 0.889 - ETA: 3s - loss: 0.2888 - acc: 0.893 - ETA: 2s - loss: 0.2831 - acc: 0.896 - ETA: 1s - loss: 0.2761 - acc: 0.898 - 41s 1s/step - loss: 0.2685 - acc: 0.9017 - val_loss: 1.8816 - val_acc: 0.7773\n"
     ]
    },
    {
     "data": {
      "text/html": [
       "<span style=\"color:#4527A0\"><h1 style=\"font-size:18px\">Trial complete</h1></span>"
      ],
      "text/plain": [
       "<IPython.core.display.HTML object>"
      ]
     },
     "metadata": {},
     "output_type": "display_data"
    },
    {
     "data": {
      "text/html": [
       "<span style=\"color:#4527A0\"><h1 style=\"font-size:18px\">Trial summary</h1></span>"
      ],
      "text/plain": [
       "<IPython.core.display.HTML object>"
      ]
     },
     "metadata": {},
     "output_type": "display_data"
    },
    {
     "data": {
      "text/html": [
       "<span style=\"color:cyan\"> |-Trial ID: 30fcf9ac152eee71313ba2e93c2ea21d</span>"
      ],
      "text/plain": [
       "<IPython.core.display.HTML object>"
      ]
     },
     "metadata": {},
     "output_type": "display_data"
    },
    {
     "data": {
      "text/html": [
       "<span style=\"color:cyan\"> |-Score: 0.77734375</span>"
      ],
      "text/plain": [
       "<IPython.core.display.HTML object>"
      ]
     },
     "metadata": {},
     "output_type": "display_data"
    },
    {
     "data": {
      "text/html": [
       "<span style=\"color:cyan\"> |-Best step: 0</span>"
      ],
      "text/plain": [
       "<IPython.core.display.HTML object>"
      ]
     },
     "metadata": {},
     "output_type": "display_data"
    },
    {
     "data": {
      "text/html": [
       "<span style=\"color:#7E57C2\"><h2 style=\"font-size:16px\">Hyperparameters:</h2></span>"
      ],
      "text/plain": [
       "<IPython.core.display.HTML object>"
      ]
     },
     "metadata": {},
     "output_type": "display_data"
    },
    {
     "data": {
      "text/html": [
       "<span style=\"color:cyan\"> |-hidden_units: 192</span>"
      ],
      "text/plain": [
       "<IPython.core.display.HTML object>"
      ]
     },
     "metadata": {},
     "output_type": "display_data"
    },
    {
     "data": {
      "text/html": [
       "<span style=\"color:blue\"> |-num_conv_layers: 2</span>"
      ],
      "text/plain": [
       "<IPython.core.display.HTML object>"
      ]
     },
     "metadata": {},
     "output_type": "display_data"
    },
    {
     "data": {
      "text/html": [
       "<span style=\"color:cyan\"> |-num_filters_layer0: 64</span>"
      ],
      "text/plain": [
       "<IPython.core.display.HTML object>"
      ]
     },
     "metadata": {},
     "output_type": "display_data"
    },
    {
     "data": {
      "text/html": [
       "<span style=\"color:blue\"> |-num_filters_layer1: 64</span>"
      ],
      "text/plain": [
       "<IPython.core.display.HTML object>"
      ]
     },
     "metadata": {},
     "output_type": "display_data"
    },
    {
     "data": {
      "text/html": [
       "<span style=\"color:cyan\"> |-num_filters_layer2: 64</span>"
      ],
      "text/plain": [
       "<IPython.core.display.HTML object>"
      ]
     },
     "metadata": {},
     "output_type": "display_data"
    },
    {
     "data": {
      "text/html": [
       "<span style=\"color:blue\"> |-tuner/bracket: 2</span>"
      ],
      "text/plain": [
       "<IPython.core.display.HTML object>"
      ]
     },
     "metadata": {},
     "output_type": "display_data"
    },
    {
     "data": {
      "text/html": [
       "<span style=\"color:cyan\"> |-tuner/epochs: 2</span>"
      ],
      "text/plain": [
       "<IPython.core.display.HTML object>"
      ]
     },
     "metadata": {},
     "output_type": "display_data"
    },
    {
     "data": {
      "text/html": [
       "<span style=\"color:blue\"> |-tuner/initial_epoch: 0</span>"
      ],
      "text/plain": [
       "<IPython.core.display.HTML object>"
      ]
     },
     "metadata": {},
     "output_type": "display_data"
    },
    {
     "data": {
      "text/html": [
       "<span style=\"color:cyan\"> |-tuner/round: 0</span>"
      ],
      "text/plain": [
       "<IPython.core.display.HTML object>"
      ]
     },
     "metadata": {},
     "output_type": "display_data"
    },
    {
     "name": "stdout",
     "output_type": "stream",
     "text": [
      "WARNING:tensorflow:sample_weight modes were coerced from\n",
      "  ...\n",
      "    to  \n",
      "  ['...']\n",
      "WARNING:tensorflow:sample_weight modes were coerced from\n",
      "  ...\n",
      "    to  \n",
      "  ['...']\n",
      "Train for 33 steps, validate for 8 steps\n",
      "Epoch 3/5\n",
      "33/33 [==============================] - ETA: 1:02 - loss: 0.6935 - acc: 0.500 - ETA: 48s - loss: 11.5537 - acc: 0.421 - ETA: 42s - loss: 8.4635 - acc: 0.500 - ETA: 39s - loss: 6.5400 - acc: 0.49 - ETA: 37s - loss: 5.3789 - acc: 0.51 - ETA: 35s - loss: 4.5952 - acc: 0.48 - ETA: 33s - loss: 4.0678 - acc: 0.49 - ETA: 32s - loss: 3.7239 - acc: 0.49 - ETA: 30s - loss: 3.3774 - acc: 0.54 - ETA: 29s - loss: 3.1616 - acc: 0.52 - ETA: 27s - loss: 2.9400 - acc: 0.51 - ETA: 26s - loss: 2.7559 - acc: 0.51 - ETA: 25s - loss: 2.5882 - acc: 0.53 - ETA: 24s - loss: 2.4377 - acc: 0.54 - ETA: 21s - loss: 2.2868 - acc: 0.54 - ETA: 20s - loss: 2.1685 - acc: 0.56 - ETA: 19s - loss: 2.1490 - acc: 0.55 - ETA: 18s - loss: 2.2701 - acc: 0.55 - ETA: 17s - loss: 2.1796 - acc: 0.56 - ETA: 15s - loss: 2.0932 - acc: 0.58 - ETA: 14s - loss: 2.0193 - acc: 0.58 - ETA: 13s - loss: 1.9764 - acc: 0.57 - ETA: 12s - loss: 1.9220 - acc: 0.57 - ETA: 10s - loss: 1.8564 - acc: 0.59 - ETA: 9s - loss: 1.7934 - acc: 0.6083 - ETA: 8s - loss: 1.7310 - acc: 0.621 - ETA: 7s - loss: 1.6720 - acc: 0.634 - ETA: 5s - loss: 1.6171 - acc: 0.647 - ETA: 4s - loss: 1.5833 - acc: 0.649 - ETA: 3s - loss: 1.5793 - acc: 0.649 - ETA: 2s - loss: 1.5383 - acc: 0.659 - ETA: 1s - loss: 1.5012 - acc: 0.666 - 42s 1s/step - loss: 1.4681 - acc: 0.6709 - val_loss: 1.5021 - val_acc: 0.5625\n",
      "Epoch 4/5\n",
      "33/33 [==============================] - ETA: 55s - loss: 0.3593 - acc: 0.75 - ETA: 48s - loss: 0.3039 - acc: 0.82 - ETA: 45s - loss: 0.2588 - acc: 0.87 - ETA: 43s - loss: 0.2704 - acc: 0.87 - ETA: 41s - loss: 0.2592 - acc: 0.88 - ETA: 38s - loss: 0.2335 - acc: 0.90 - ETA: 37s - loss: 0.2271 - acc: 0.90 - ETA: 35s - loss: 0.2245 - acc: 0.90 - ETA: 33s - loss: 0.2099 - acc: 0.91 - ETA: 31s - loss: 0.1910 - acc: 0.92 - ETA: 30s - loss: 0.1774 - acc: 0.93 - ETA: 28s - loss: 0.1750 - acc: 0.93 - ETA: 27s - loss: 0.1787 - acc: 0.92 - ETA: 25s - loss: 0.1757 - acc: 0.92 - ETA: 24s - loss: 0.1716 - acc: 0.92 - ETA: 23s - loss: 0.1770 - acc: 0.92 - ETA: 21s - loss: 0.1887 - acc: 0.92 - ETA: 20s - loss: 0.1870 - acc: 0.92 - ETA: 18s - loss: 0.1805 - acc: 0.92 - ETA: 17s - loss: 0.1800 - acc: 0.92 - ETA: 16s - loss: 0.1735 - acc: 0.92 - ETA: 14s - loss: 0.1671 - acc: 0.93 - ETA: 13s - loss: 0.1616 - acc: 0.93 - ETA: 11s - loss: 0.1557 - acc: 0.93 - ETA: 10s - loss: 0.1495 - acc: 0.93 - ETA: 9s - loss: 0.1443 - acc: 0.9390 - ETA: 7s - loss: 0.1396 - acc: 0.941 - ETA: 6s - loss: 0.1394 - acc: 0.942 - ETA: 5s - loss: 0.1352 - acc: 0.944 - ETA: 3s - loss: 0.1321 - acc: 0.946 - ETA: 2s - loss: 0.1298 - acc: 0.947 - ETA: 1s - loss: 0.1265 - acc: 0.948 - 44s 1s/step - loss: 0.1244 - acc: 0.9494 - val_loss: 2.0611 - val_acc: 0.7266\n",
      "Epoch 5/5\n",
      "33/33 [==============================] - ETA: 38s - loss: 0.0132 - acc: 1.00 - ETA: 35s - loss: 0.0246 - acc: 0.98 - ETA: 33s - loss: 0.0206 - acc: 0.98 - ETA: 32s - loss: 0.0584 - acc: 0.97 - ETA: 31s - loss: 0.1037 - acc: 0.94 - ETA: 29s - loss: 0.1336 - acc: 0.92 - ETA: 28s - loss: 0.2420 - acc: 0.90 - ETA: 27s - loss: 0.3020 - acc: 0.87 - ETA: 26s - loss: 0.2821 - acc: 0.88 - ETA: 25s - loss: 0.2624 - acc: 0.89 - ETA: 24s - loss: 0.2430 - acc: 0.90 - ETA: 23s - loss: 0.2251 - acc: 0.90 - ETA: 22s - loss: 0.2138 - acc: 0.91 - ETA: 20s - loss: 0.1999 - acc: 0.92 - ETA: 19s - loss: 0.1895 - acc: 0.92 - ETA: 18s - loss: 0.1825 - acc: 0.92 - ETA: 16s - loss: 0.1718 - acc: 0.93 - ETA: 16s - loss: 0.1713 - acc: 0.93 - ETA: 15s - loss: 0.1634 - acc: 0.93 - ETA: 14s - loss: 0.1581 - acc: 0.93 - ETA: 13s - loss: 0.1511 - acc: 0.93 - ETA: 12s - loss: 0.1445 - acc: 0.94 - ETA: 11s - loss: 0.1390 - acc: 0.94 - ETA: 9s - loss: 0.1342 - acc: 0.9472 - ETA: 8s - loss: 0.1289 - acc: 0.949 - ETA: 7s - loss: 0.1243 - acc: 0.951 - ETA: 6s - loss: 0.1201 - acc: 0.953 - ETA: 5s - loss: 0.1159 - acc: 0.955 - ETA: 4s - loss: 0.1122 - acc: 0.956 - ETA: 3s - loss: 0.1095 - acc: 0.957 - ETA: 2s - loss: 0.1063 - acc: 0.958 - ETA: 1s - loss: 0.1032 - acc: 0.959 - 39s 1s/step - loss: 0.1007 - acc: 0.9611 - val_loss: 3.4769 - val_acc: 0.7227\n"
     ]
    },
    {
     "data": {
      "text/html": [
       "<span style=\"color:#4527A0\"><h1 style=\"font-size:18px\">Trial complete</h1></span>"
      ],
      "text/plain": [
       "<IPython.core.display.HTML object>"
      ]
     },
     "metadata": {},
     "output_type": "display_data"
    },
    {
     "data": {
      "text/html": [
       "<span style=\"color:#4527A0\"><h1 style=\"font-size:18px\">Trial summary</h1></span>"
      ],
      "text/plain": [
       "<IPython.core.display.HTML object>"
      ]
     },
     "metadata": {},
     "output_type": "display_data"
    },
    {
     "data": {
      "text/html": [
       "<span style=\"color:cyan\"> |-Trial ID: 6d7f946cacc33e05d7406d4aafec8c94</span>"
      ],
      "text/plain": [
       "<IPython.core.display.HTML object>"
      ]
     },
     "metadata": {},
     "output_type": "display_data"
    },
    {
     "data": {
      "text/html": [
       "<span style=\"color:cyan\"> |-Score: 0.7265625</span>"
      ],
      "text/plain": [
       "<IPython.core.display.HTML object>"
      ]
     },
     "metadata": {},
     "output_type": "display_data"
    },
    {
     "data": {
      "text/html": [
       "<span style=\"color:cyan\"> |-Best step: 0</span>"
      ],
      "text/plain": [
       "<IPython.core.display.HTML object>"
      ]
     },
     "metadata": {},
     "output_type": "display_data"
    },
    {
     "data": {
      "text/html": [
       "<span style=\"color:#7E57C2\"><h2 style=\"font-size:16px\">Hyperparameters:</h2></span>"
      ],
      "text/plain": [
       "<IPython.core.display.HTML object>"
      ]
     },
     "metadata": {},
     "output_type": "display_data"
    },
    {
     "data": {
      "text/html": [
       "<span style=\"color:cyan\"> |-hidden_units: 192</span>"
      ],
      "text/plain": [
       "<IPython.core.display.HTML object>"
      ]
     },
     "metadata": {},
     "output_type": "display_data"
    },
    {
     "data": {
      "text/html": [
       "<span style=\"color:blue\"> |-num_conv_layers: 1</span>"
      ],
      "text/plain": [
       "<IPython.core.display.HTML object>"
      ]
     },
     "metadata": {},
     "output_type": "display_data"
    },
    {
     "data": {
      "text/html": [
       "<span style=\"color:cyan\"> |-num_filters_layer0: 64</span>"
      ],
      "text/plain": [
       "<IPython.core.display.HTML object>"
      ]
     },
     "metadata": {},
     "output_type": "display_data"
    },
    {
     "data": {
      "text/html": [
       "<span style=\"color:blue\"> |-num_filters_layer1: 64</span>"
      ],
      "text/plain": [
       "<IPython.core.display.HTML object>"
      ]
     },
     "metadata": {},
     "output_type": "display_data"
    },
    {
     "data": {
      "text/html": [
       "<span style=\"color:cyan\"> |-num_filters_layer2: 64</span>"
      ],
      "text/plain": [
       "<IPython.core.display.HTML object>"
      ]
     },
     "metadata": {},
     "output_type": "display_data"
    },
    {
     "data": {
      "text/html": [
       "<span style=\"color:blue\"> |-tuner/bracket: 2</span>"
      ],
      "text/plain": [
       "<IPython.core.display.HTML object>"
      ]
     },
     "metadata": {},
     "output_type": "display_data"
    },
    {
     "data": {
      "text/html": [
       "<span style=\"color:cyan\"> |-tuner/epochs: 5</span>"
      ],
      "text/plain": [
       "<IPython.core.display.HTML object>"
      ]
     },
     "metadata": {},
     "output_type": "display_data"
    },
    {
     "data": {
      "text/html": [
       "<span style=\"color:blue\"> |-tuner/initial_epoch: 2</span>"
      ],
      "text/plain": [
       "<IPython.core.display.HTML object>"
      ]
     },
     "metadata": {},
     "output_type": "display_data"
    },
    {
     "data": {
      "text/html": [
       "<span style=\"color:cyan\"> |-tuner/round: 1</span>"
      ],
      "text/plain": [
       "<IPython.core.display.HTML object>"
      ]
     },
     "metadata": {},
     "output_type": "display_data"
    },
    {
     "data": {
      "text/html": [
       "<span style=\"color:blue\"> |-tuner/trial_id: fb0e6b51ea23199d54e577392721dec1</span>"
      ],
      "text/plain": [
       "<IPython.core.display.HTML object>"
      ]
     },
     "metadata": {},
     "output_type": "display_data"
    },
    {
     "name": "stdout",
     "output_type": "stream",
     "text": [
      "WARNING:tensorflow:sample_weight modes were coerced from\n",
      "  ...\n",
      "    to  \n",
      "  ['...']\n",
      "WARNING:tensorflow:sample_weight modes were coerced from\n",
      "  ...\n",
      "    to  \n",
      "  ['...']\n",
      "Train for 33 steps, validate for 8 steps\n",
      "Epoch 3/5\n",
      "33/33 [==============================] - ETA: 37s - loss: 0.6927 - acc: 0.46 - ETA: 24s - loss: 3.6620 - acc: 0.46 - ETA: 20s - loss: 2.8043 - acc: 0.44 - ETA: 17s - loss: 2.2732 - acc: 0.42 - ETA: 16s - loss: 1.9539 - acc: 0.45 - ETA: 15s - loss: 1.7312 - acc: 0.50 - ETA: 14s - loss: 1.5660 - acc: 0.52 - ETA: 13s - loss: 1.4413 - acc: 0.56 - ETA: 12s - loss: 1.4727 - acc: 0.55 - ETA: 11s - loss: 1.3935 - acc: 0.56 - ETA: 11s - loss: 1.3170 - acc: 0.59 - ETA: 10s - loss: 1.2657 - acc: 0.58 - ETA: 10s - loss: 1.2167 - acc: 0.57 - ETA: 9s - loss: 1.1502 - acc: 0.5800 - ETA: 8s - loss: 1.1004 - acc: 0.600 - ETA: 8s - loss: 1.0553 - acc: 0.617 - ETA: 7s - loss: 1.0419 - acc: 0.617 - ETA: 7s - loss: 1.0268 - acc: 0.610 - ETA: 6s - loss: 0.9955 - acc: 0.620 - ETA: 6s - loss: 0.9665 - acc: 0.635 - ETA: 5s - loss: 0.9391 - acc: 0.648 - ETA: 5s - loss: 0.9069 - acc: 0.659 - ETA: 4s - loss: 0.8756 - acc: 0.674 - ETA: 4s - loss: 0.8478 - acc: 0.684 - ETA: 3s - loss: 0.8376 - acc: 0.679 - ETA: 3s - loss: 0.8198 - acc: 0.684 - ETA: 2s - loss: 0.7966 - acc: 0.697 - ETA: 2s - loss: 0.7739 - acc: 0.707 - ETA: 1s - loss: 0.7536 - acc: 0.716 - ETA: 1s - loss: 0.7381 - acc: 0.722 - ETA: 0s - loss: 0.7234 - acc: 0.727 - ETA: 0s - loss: 0.7091 - acc: 0.732 - 17s 524ms/step - loss: 0.6943 - acc: 0.7390 - val_loss: 1.0061 - val_acc: 0.7188\n",
      "Epoch 4/5\n",
      "33/33 [==============================] - ETA: 22s - loss: 0.1618 - acc: 0.93 - ETA: 20s - loss: 0.1695 - acc: 0.92 - ETA: 19s - loss: 0.1758 - acc: 0.91 - ETA: 17s - loss: 0.1673 - acc: 0.92 - ETA: 16s - loss: 0.1682 - acc: 0.92 - ETA: 16s - loss: 0.1721 - acc: 0.91 - ETA: 15s - loss: 0.1566 - acc: 0.92 - ETA: 14s - loss: 0.1412 - acc: 0.93 - ETA: 13s - loss: 0.1278 - acc: 0.94 - ETA: 13s - loss: 0.1270 - acc: 0.94 - ETA: 12s - loss: 0.1197 - acc: 0.94 - ETA: 11s - loss: 0.1141 - acc: 0.95 - ETA: 11s - loss: 0.1192 - acc: 0.94 - ETA: 10s - loss: 0.1638 - acc: 0.92 - ETA: 9s - loss: 0.2240 - acc: 0.9021 - ETA: 9s - loss: 0.2208 - acc: 0.906 - ETA: 8s - loss: 0.2118 - acc: 0.911 - ETA: 7s - loss: 0.2028 - acc: 0.914 - ETA: 7s - loss: 0.1988 - acc: 0.917 - ETA: 6s - loss: 0.1891 - acc: 0.918 - ETA: 6s - loss: 0.1854 - acc: 0.919 - ETA: 5s - loss: 0.1803 - acc: 0.921 - ETA: 5s - loss: 0.1766 - acc: 0.923 - ETA: 4s - loss: 0.1703 - acc: 0.926 - ETA: 4s - loss: 0.1683 - acc: 0.927 - ETA: 3s - loss: 0.1676 - acc: 0.927 - ETA: 3s - loss: 0.1706 - acc: 0.926 - ETA: 2s - loss: 0.1678 - acc: 0.928 - ETA: 2s - loss: 0.1647 - acc: 0.929 - ETA: 1s - loss: 0.1603 - acc: 0.932 - ETA: 1s - loss: 0.1592 - acc: 0.932 - ETA: 0s - loss: 0.1601 - acc: 0.929 - 19s 569ms/step - loss: 0.1569 - acc: 0.9318 - val_loss: 0.9426 - val_acc: 0.8281\n",
      "Epoch 5/5\n",
      "33/33 [==============================] - ETA: 16s - loss: 0.0358 - acc: 0.96 - ETA: 13s - loss: 0.0275 - acc: 0.98 - ETA: 13s - loss: 0.0328 - acc: 0.98 - ETA: 12s - loss: 0.0261 - acc: 0.99 - ETA: 12s - loss: 0.0519 - acc: 0.97 - ETA: 12s - loss: 0.0665 - acc: 0.96 - ETA: 12s - loss: 0.1194 - acc: 0.93 - ETA: 11s - loss: 0.1105 - acc: 0.94 - ETA: 11s - loss: 0.1104 - acc: 0.95 - ETA: 10s - loss: 0.1051 - acc: 0.95 - ETA: 10s - loss: 0.0973 - acc: 0.96 - ETA: 9s - loss: 0.0908 - acc: 0.9635 - ETA: 9s - loss: 0.0884 - acc: 0.963 - ETA: 9s - loss: 0.0845 - acc: 0.966 - ETA: 8s - loss: 0.0820 - acc: 0.966 - ETA: 8s - loss: 0.0855 - acc: 0.964 - ETA: 7s - loss: 0.0853 - acc: 0.965 - ETA: 7s - loss: 0.0811 - acc: 0.967 - ETA: 6s - loss: 0.0785 - acc: 0.968 - ETA: 6s - loss: 0.0747 - acc: 0.970 - ETA: 5s - loss: 0.0715 - acc: 0.971 - ETA: 5s - loss: 0.0701 - acc: 0.971 - ETA: 4s - loss: 0.1035 - acc: 0.959 - ETA: 4s - loss: 0.1241 - acc: 0.949 - ETA: 3s - loss: 0.1292 - acc: 0.948 - ETA: 3s - loss: 0.1283 - acc: 0.950 - ETA: 2s - loss: 0.1275 - acc: 0.951 - ETA: 2s - loss: 0.1263 - acc: 0.952 - ETA: 1s - loss: 0.1219 - acc: 0.952 - ETA: 1s - loss: 0.1207 - acc: 0.952 - ETA: 0s - loss: 0.1179 - acc: 0.954 - ETA: 0s - loss: 0.1149 - acc: 0.955 - 16s 484ms/step - loss: 0.1150 - acc: 0.9552 - val_loss: 0.6335 - val_acc: 0.8867\n"
     ]
    },
    {
     "data": {
      "text/html": [
       "<span style=\"color:#4527A0\"><h1 style=\"font-size:18px\">Trial complete</h1></span>"
      ],
      "text/plain": [
       "<IPython.core.display.HTML object>"
      ]
     },
     "metadata": {},
     "output_type": "display_data"
    },
    {
     "data": {
      "text/html": [
       "<span style=\"color:#4527A0\"><h1 style=\"font-size:18px\">Trial summary</h1></span>"
      ],
      "text/plain": [
       "<IPython.core.display.HTML object>"
      ]
     },
     "metadata": {},
     "output_type": "display_data"
    },
    {
     "data": {
      "text/html": [
       "<span style=\"color:cyan\"> |-Trial ID: 48713a26e743f1886832b2f688fa59ce</span>"
      ],
      "text/plain": [
       "<IPython.core.display.HTML object>"
      ]
     },
     "metadata": {},
     "output_type": "display_data"
    },
    {
     "data": {
      "text/html": [
       "<span style=\"color:cyan\"> |-Score: 0.88671875</span>"
      ],
      "text/plain": [
       "<IPython.core.display.HTML object>"
      ]
     },
     "metadata": {},
     "output_type": "display_data"
    },
    {
     "data": {
      "text/html": [
       "<span style=\"color:cyan\"> |-Best step: 0</span>"
      ],
      "text/plain": [
       "<IPython.core.display.HTML object>"
      ]
     },
     "metadata": {},
     "output_type": "display_data"
    },
    {
     "data": {
      "text/html": [
       "<span style=\"color:#7E57C2\"><h2 style=\"font-size:16px\">Hyperparameters:</h2></span>"
      ],
      "text/plain": [
       "<IPython.core.display.HTML object>"
      ]
     },
     "metadata": {},
     "output_type": "display_data"
    },
    {
     "data": {
      "text/html": [
       "<span style=\"color:cyan\"> |-hidden_units: 288</span>"
      ],
      "text/plain": [
       "<IPython.core.display.HTML object>"
      ]
     },
     "metadata": {},
     "output_type": "display_data"
    },
    {
     "data": {
      "text/html": [
       "<span style=\"color:blue\"> |-num_conv_layers: 2</span>"
      ],
      "text/plain": [
       "<IPython.core.display.HTML object>"
      ]
     },
     "metadata": {},
     "output_type": "display_data"
    },
    {
     "data": {
      "text/html": [
       "<span style=\"color:cyan\"> |-num_filters_layer0: 16</span>"
      ],
      "text/plain": [
       "<IPython.core.display.HTML object>"
      ]
     },
     "metadata": {},
     "output_type": "display_data"
    },
    {
     "data": {
      "text/html": [
       "<span style=\"color:blue\"> |-num_filters_layer1: 64</span>"
      ],
      "text/plain": [
       "<IPython.core.display.HTML object>"
      ]
     },
     "metadata": {},
     "output_type": "display_data"
    },
    {
     "data": {
      "text/html": [
       "<span style=\"color:cyan\"> |-num_filters_layer2: 16</span>"
      ],
      "text/plain": [
       "<IPython.core.display.HTML object>"
      ]
     },
     "metadata": {},
     "output_type": "display_data"
    },
    {
     "data": {
      "text/html": [
       "<span style=\"color:blue\"> |-tuner/bracket: 2</span>"
      ],
      "text/plain": [
       "<IPython.core.display.HTML object>"
      ]
     },
     "metadata": {},
     "output_type": "display_data"
    },
    {
     "data": {
      "text/html": [
       "<span style=\"color:cyan\"> |-tuner/epochs: 5</span>"
      ],
      "text/plain": [
       "<IPython.core.display.HTML object>"
      ]
     },
     "metadata": {},
     "output_type": "display_data"
    },
    {
     "data": {
      "text/html": [
       "<span style=\"color:blue\"> |-tuner/initial_epoch: 2</span>"
      ],
      "text/plain": [
       "<IPython.core.display.HTML object>"
      ]
     },
     "metadata": {},
     "output_type": "display_data"
    },
    {
     "data": {
      "text/html": [
       "<span style=\"color:cyan\"> |-tuner/round: 1</span>"
      ],
      "text/plain": [
       "<IPython.core.display.HTML object>"
      ]
     },
     "metadata": {},
     "output_type": "display_data"
    },
    {
     "data": {
      "text/html": [
       "<span style=\"color:blue\"> |-tuner/trial_id: b8e955b45dcd5e5b85dd38729f6ad9b1</span>"
      ],
      "text/plain": [
       "<IPython.core.display.HTML object>"
      ]
     },
     "metadata": {},
     "output_type": "display_data"
    },
    {
     "name": "stdout",
     "output_type": "stream",
     "text": [
      "WARNING:tensorflow:sample_weight modes were coerced from\n",
      "  ...\n",
      "    to  \n",
      "  ['...']\n",
      "WARNING:tensorflow:sample_weight modes were coerced from\n",
      "  ...\n",
      "    to  \n",
      "  ['...']\n",
      "Train for 33 steps, validate for 8 steps\n",
      "Epoch 3/5\n",
      "33/33 [==============================] - ETA: 40s - loss: 0.6745 - acc: 0.78 - ETA: 25s - loss: 3.2069 - acc: 0.64 - ETA: 20s - loss: 2.5299 - acc: 0.54 - ETA: 18s - loss: 2.0584 - acc: 0.55 - ETA: 16s - loss: 1.7769 - acc: 0.55 - ETA: 14s - loss: 1.5870 - acc: 0.57 - ETA: 13s - loss: 1.4491 - acc: 0.62 - ETA: 12s - loss: 1.3484 - acc: 0.60 - ETA: 11s - loss: 1.2680 - acc: 0.60 - ETA: 11s - loss: 1.2088 - acc: 0.59 - ETA: 10s - loss: 1.1657 - acc: 0.57 - ETA: 10s - loss: 1.1367 - acc: 0.56 - ETA: 9s - loss: 1.0963 - acc: 0.5697 - ETA: 9s - loss: 1.0605 - acc: 0.593 - ETA: 8s - loss: 1.0282 - acc: 0.614 - ETA: 8s - loss: 0.9933 - acc: 0.632 - ETA: 7s - loss: 0.9633 - acc: 0.643 - ETA: 7s - loss: 0.9623 - acc: 0.637 - ETA: 6s - loss: 0.9428 - acc: 0.634 - ETA: 6s - loss: 0.9203 - acc: 0.645 - ETA: 5s - loss: 0.8978 - acc: 0.657 - ETA: 5s - loss: 0.8801 - acc: 0.661 - ETA: 4s - loss: 0.8639 - acc: 0.664 - ETA: 4s - loss: 0.8479 - acc: 0.670 - ETA: 3s - loss: 0.8291 - acc: 0.677 - ETA: 3s - loss: 0.8069 - acc: 0.678 - ETA: 2s - loss: 0.7918 - acc: 0.682 - ETA: 2s - loss: 0.7870 - acc: 0.681 - ETA: 1s - loss: 0.7732 - acc: 0.688 - ETA: 1s - loss: 0.7613 - acc: 0.693 - ETA: 0s - loss: 0.7474 - acc: 0.699 - ETA: 0s - loss: 0.7316 - acc: 0.706 - 16s 500ms/step - loss: 0.7197 - acc: 0.7128 - val_loss: 0.2745 - val_acc: 0.9023\n",
      "Epoch 4/5\n",
      "33/33 [==============================] - ETA: 14s - loss: 0.2793 - acc: 0.90 - ETA: 13s - loss: 0.2295 - acc: 0.92 - ETA: 12s - loss: 0.1941 - acc: 0.93 - ETA: 11s - loss: 0.1843 - acc: 0.93 - ETA: 10s - loss: 0.2061 - acc: 0.93 - ETA: 10s - loss: 0.2406 - acc: 0.90 - ETA: 9s - loss: 0.2601 - acc: 0.8973 - ETA: 9s - loss: 0.2510 - acc: 0.902 - ETA: 8s - loss: 0.2353 - acc: 0.909 - ETA: 8s - loss: 0.2276 - acc: 0.915 - ETA: 8s - loss: 0.2183 - acc: 0.923 - ETA: 7s - loss: 0.2112 - acc: 0.927 - ETA: 7s - loss: 0.1997 - acc: 0.932 - ETA: 7s - loss: 0.1905 - acc: 0.935 - ETA: 6s - loss: 0.2018 - acc: 0.929 - ETA: 6s - loss: 0.4927 - acc: 0.902 - ETA: 5s - loss: 0.4788 - acc: 0.904 - ETA: 5s - loss: 0.4654 - acc: 0.906 - ETA: 5s - loss: 0.4497 - acc: 0.909 - ETA: 4s - loss: 0.4344 - acc: 0.914 - ETA: 4s - loss: 0.4229 - acc: 0.916 - ETA: 4s - loss: 0.4102 - acc: 0.919 - ETA: 3s - loss: 0.3969 - acc: 0.922 - ETA: 3s - loss: 0.3808 - acc: 0.922 - ETA: 2s - loss: 0.3719 - acc: 0.924 - ETA: 2s - loss: 0.3649 - acc: 0.924 - ETA: 2s - loss: 0.3607 - acc: 0.922 - ETA: 1s - loss: 0.3527 - acc: 0.923 - ETA: 1s - loss: 0.3428 - acc: 0.926 - ETA: 1s - loss: 0.3350 - acc: 0.928 - ETA: 0s - loss: 0.3259 - acc: 0.930 - ETA: 0s - loss: 0.3178 - acc: 0.932 - 13s 402ms/step - loss: 0.3112 - acc: 0.9338 - val_loss: 2.3010 - val_acc: 0.6641\n",
      "Epoch 5/5\n",
      "33/33 [==============================] - ETA: 18s - loss: 0.2516 - acc: 0.90 - ETA: 16s - loss: 0.2244 - acc: 0.90 - ETA: 15s - loss: 0.1628 - acc: 0.93 - ETA: 14s - loss: 0.1419 - acc: 0.95 - ETA: 13s - loss: 0.1242 - acc: 0.96 - ETA: 12s - loss: 0.1146 - acc: 0.96 - ETA: 11s - loss: 0.1185 - acc: 0.96 - ETA: 10s - loss: 0.1038 - acc: 0.96 - ETA: 9s - loss: 0.1090 - acc: 0.9614 - ETA: 9s - loss: 0.1164 - acc: 0.958 - ETA: 9s - loss: 0.1174 - acc: 0.959 - ETA: 8s - loss: 0.1120 - acc: 0.963 - ETA: 8s - loss: 0.1099 - acc: 0.963 - ETA: 7s - loss: 0.1157 - acc: 0.959 - ETA: 7s - loss: 0.1317 - acc: 0.946 - ETA: 6s - loss: 0.1300 - acc: 0.948 - ETA: 6s - loss: 0.1247 - acc: 0.951 - ETA: 6s - loss: 0.1190 - acc: 0.954 - ETA: 5s - loss: 0.1167 - acc: 0.955 - ETA: 5s - loss: 0.1155 - acc: 0.955 - ETA: 4s - loss: 0.1182 - acc: 0.953 - ETA: 4s - loss: 0.1198 - acc: 0.952 - ETA: 4s - loss: 0.1294 - acc: 0.947 - ETA: 3s - loss: 0.1257 - acc: 0.949 - ETA: 3s - loss: 0.1241 - acc: 0.950 - ETA: 2s - loss: 0.1234 - acc: 0.951 - ETA: 2s - loss: 0.1218 - acc: 0.952 - ETA: 2s - loss: 0.1191 - acc: 0.953 - ETA: 1s - loss: 0.1155 - acc: 0.955 - ETA: 1s - loss: 0.1148 - acc: 0.956 - ETA: 0s - loss: 0.1177 - acc: 0.953 - ETA: 0s - loss: 0.1246 - acc: 0.947 - 15s 453ms/step - loss: 0.1252 - acc: 0.9464 - val_loss: 1.9284 - val_acc: 0.6875\n"
     ]
    },
    {
     "data": {
      "text/html": [
       "<span style=\"color:#4527A0\"><h1 style=\"font-size:18px\">Trial complete</h1></span>"
      ],
      "text/plain": [
       "<IPython.core.display.HTML object>"
      ]
     },
     "metadata": {},
     "output_type": "display_data"
    },
    {
     "data": {
      "text/html": [
       "<span style=\"color:#4527A0\"><h1 style=\"font-size:18px\">Trial summary</h1></span>"
      ],
      "text/plain": [
       "<IPython.core.display.HTML object>"
      ]
     },
     "metadata": {},
     "output_type": "display_data"
    },
    {
     "data": {
      "text/html": [
       "<span style=\"color:cyan\"> |-Trial ID: 7b862708eeefbb58509ea50500705ed4</span>"
      ],
      "text/plain": [
       "<IPython.core.display.HTML object>"
      ]
     },
     "metadata": {},
     "output_type": "display_data"
    },
    {
     "data": {
      "text/html": [
       "<span style=\"color:cyan\"> |-Score: 0.90234375</span>"
      ],
      "text/plain": [
       "<IPython.core.display.HTML object>"
      ]
     },
     "metadata": {},
     "output_type": "display_data"
    },
    {
     "data": {
      "text/html": [
       "<span style=\"color:cyan\"> |-Best step: 0</span>"
      ],
      "text/plain": [
       "<IPython.core.display.HTML object>"
      ]
     },
     "metadata": {},
     "output_type": "display_data"
    },
    {
     "data": {
      "text/html": [
       "<span style=\"color:#7E57C2\"><h2 style=\"font-size:16px\">Hyperparameters:</h2></span>"
      ],
      "text/plain": [
       "<IPython.core.display.HTML object>"
      ]
     },
     "metadata": {},
     "output_type": "display_data"
    },
    {
     "data": {
      "text/html": [
       "<span style=\"color:cyan\"> |-hidden_units: 224</span>"
      ],
      "text/plain": [
       "<IPython.core.display.HTML object>"
      ]
     },
     "metadata": {},
     "output_type": "display_data"
    },
    {
     "data": {
      "text/html": [
       "<span style=\"color:blue\"> |-num_conv_layers: 2</span>"
      ],
      "text/plain": [
       "<IPython.core.display.HTML object>"
      ]
     },
     "metadata": {},
     "output_type": "display_data"
    },
    {
     "data": {
      "text/html": [
       "<span style=\"color:cyan\"> |-num_filters_layer0: 16</span>"
      ],
      "text/plain": [
       "<IPython.core.display.HTML object>"
      ]
     },
     "metadata": {},
     "output_type": "display_data"
    },
    {
     "data": {
      "text/html": [
       "<span style=\"color:blue\"> |-num_filters_layer1: 16</span>"
      ],
      "text/plain": [
       "<IPython.core.display.HTML object>"
      ]
     },
     "metadata": {},
     "output_type": "display_data"
    },
    {
     "data": {
      "text/html": [
       "<span style=\"color:cyan\"> |-num_filters_layer2: 16</span>"
      ],
      "text/plain": [
       "<IPython.core.display.HTML object>"
      ]
     },
     "metadata": {},
     "output_type": "display_data"
    },
    {
     "data": {
      "text/html": [
       "<span style=\"color:blue\"> |-tuner/bracket: 2</span>"
      ],
      "text/plain": [
       "<IPython.core.display.HTML object>"
      ]
     },
     "metadata": {},
     "output_type": "display_data"
    },
    {
     "data": {
      "text/html": [
       "<span style=\"color:cyan\"> |-tuner/epochs: 5</span>"
      ],
      "text/plain": [
       "<IPython.core.display.HTML object>"
      ]
     },
     "metadata": {},
     "output_type": "display_data"
    },
    {
     "data": {
      "text/html": [
       "<span style=\"color:blue\"> |-tuner/initial_epoch: 2</span>"
      ],
      "text/plain": [
       "<IPython.core.display.HTML object>"
      ]
     },
     "metadata": {},
     "output_type": "display_data"
    },
    {
     "data": {
      "text/html": [
       "<span style=\"color:cyan\"> |-tuner/round: 1</span>"
      ],
      "text/plain": [
       "<IPython.core.display.HTML object>"
      ]
     },
     "metadata": {},
     "output_type": "display_data"
    },
    {
     "data": {
      "text/html": [
       "<span style=\"color:blue\"> |-tuner/trial_id: 9143a1b19e54b05d5cfa6fbed3093d94</span>"
      ],
      "text/plain": [
       "<IPython.core.display.HTML object>"
      ]
     },
     "metadata": {},
     "output_type": "display_data"
    },
    {
     "name": "stdout",
     "output_type": "stream",
     "text": [
      "WARNING:tensorflow:sample_weight modes were coerced from\n",
      "  ...\n",
      "    to  \n",
      "  ['...']\n",
      "WARNING:tensorflow:sample_weight modes were coerced from\n",
      "  ...\n",
      "    to  \n",
      "  ['...']\n",
      "Train for 33 steps, validate for 8 steps\n",
      "Epoch 3/5\n",
      "33/33 [==============================] - ETA: 47s - loss: 0.7099 - acc: 0.40 - ETA: 30s - loss: 0.6935 - acc: 0.48 - ETA: 23s - loss: 0.6887 - acc: 0.52 - ETA: 20s - loss: 0.6802 - acc: 0.56 - ETA: 18s - loss: 0.6657 - acc: 0.61 - ETA: 14s - loss: 0.6150 - acc: 0.61 - ETA: 13s - loss: 0.6088 - acc: 0.63 - ETA: 12s - loss: 0.6670 - acc: 0.61 - ETA: 12s - loss: 0.6601 - acc: 0.64 - ETA: 11s - loss: 0.6502 - acc: 0.66 - ETA: 10s - loss: 0.6387 - acc: 0.69 - ETA: 10s - loss: 0.6261 - acc: 0.70 - ETA: 9s - loss: 0.6084 - acc: 0.7339 - ETA: 9s - loss: 0.6017 - acc: 0.730 - ETA: 8s - loss: 0.5882 - acc: 0.733 - ETA: 7s - loss: 0.5723 - acc: 0.747 - ETA: 7s - loss: 0.5625 - acc: 0.749 - ETA: 6s - loss: 0.5783 - acc: 0.742 - ETA: 6s - loss: 0.5733 - acc: 0.746 - ETA: 5s - loss: 0.5647 - acc: 0.751 - ETA: 5s - loss: 0.5530 - acc: 0.757 - ETA: 4s - loss: 0.5435 - acc: 0.761 - ETA: 4s - loss: 0.5300 - acc: 0.769 - ETA: 3s - loss: 0.5152 - acc: 0.776 - ETA: 3s - loss: 0.5062 - acc: 0.779 - ETA: 3s - loss: 0.4919 - acc: 0.788 - ETA: 2s - loss: 0.4866 - acc: 0.790 - ETA: 2s - loss: 0.4858 - acc: 0.792 - ETA: 1s - loss: 0.4789 - acc: 0.795 - ETA: 1s - loss: 0.4707 - acc: 0.800 - ETA: 0s - loss: 0.4588 - acc: 0.805 - ETA: 0s - loss: 0.4509 - acc: 0.811 - 15s 449ms/step - loss: 0.4422 - acc: 0.8160 - val_loss: 0.7024 - val_acc: 0.8359\n",
      "Epoch 4/5\n",
      "33/33 [==============================] - ETA: 13s - loss: 0.1866 - acc: 0.93 - ETA: 11s - loss: 0.2748 - acc: 0.90 - ETA: 10s - loss: 0.2426 - acc: 0.91 - ETA: 10s - loss: 0.2092 - acc: 0.92 - ETA: 9s - loss: 0.1758 - acc: 0.9438 - ETA: 9s - loss: 0.1660 - acc: 0.947 - ETA: 9s - loss: 0.1832 - acc: 0.937 - ETA: 8s - loss: 0.1930 - acc: 0.918 - ETA: 8s - loss: 0.2059 - acc: 0.909 - ETA: 7s - loss: 0.2071 - acc: 0.915 - ETA: 7s - loss: 0.1937 - acc: 0.923 - ETA: 7s - loss: 0.1898 - acc: 0.924 - ETA: 6s - loss: 0.1915 - acc: 0.923 - ETA: 6s - loss: 0.1815 - acc: 0.928 - ETA: 6s - loss: 0.1763 - acc: 0.931 - ETA: 5s - loss: 0.1773 - acc: 0.931 - ETA: 5s - loss: 0.1901 - acc: 0.924 - ETA: 5s - loss: 0.1845 - acc: 0.928 - ETA: 4s - loss: 0.1788 - acc: 0.930 - ETA: 4s - loss: 0.1806 - acc: 0.928 - ETA: 4s - loss: 0.1923 - acc: 0.921 - ETA: 3s - loss: 0.1927 - acc: 0.923 - ETA: 3s - loss: 0.1888 - acc: 0.925 - ETA: 3s - loss: 0.1825 - acc: 0.928 - ETA: 2s - loss: 0.1789 - acc: 0.930 - ETA: 2s - loss: 0.1766 - acc: 0.931 - ETA: 2s - loss: 0.1738 - acc: 0.932 - ETA: 1s - loss: 0.1714 - acc: 0.934 - ETA: 1s - loss: 0.1638 - acc: 0.934 - ETA: 0s - loss: 0.1598 - acc: 0.936 - ETA: 0s - loss: 0.1555 - acc: 0.938 - 12s 371ms/step - loss: 0.1538 - acc: 0.9396 - val_loss: 1.5539 - val_acc: 0.7930\n",
      "Epoch 5/5\n",
      "33/33 [==============================] - ETA: 13s - loss: 0.1320 - acc: 0.93 - ETA: 11s - loss: 0.4270 - acc: 0.81 - ETA: 11s - loss: 0.4207 - acc: 0.80 - ETA: 10s - loss: 0.3489 - acc: 0.85 - ETA: 10s - loss: 0.3083 - acc: 0.87 - ETA: 9s - loss: 0.2785 - acc: 0.8958 - ETA: 8s - loss: 0.2198 - acc: 0.907 - ETA: 7s - loss: 0.2006 - acc: 0.918 - ETA: 7s - loss: 0.1896 - acc: 0.924 - ETA: 7s - loss: 0.1758 - acc: 0.931 - ETA: 7s - loss: 0.1652 - acc: 0.938 - ETA: 6s - loss: 0.1579 - acc: 0.940 - ETA: 6s - loss: 0.1542 - acc: 0.940 - ETA: 6s - loss: 0.1461 - acc: 0.944 - ETA: 5s - loss: 0.1409 - acc: 0.946 - ETA: 5s - loss: 0.1342 - acc: 0.949 - ETA: 5s - loss: 0.1289 - acc: 0.950 - ETA: 4s - loss: 0.1284 - acc: 0.951 - ETA: 4s - loss: 0.1263 - acc: 0.952 - ETA: 4s - loss: 0.1223 - acc: 0.954 - ETA: 3s - loss: 0.1171 - acc: 0.957 - ETA: 3s - loss: 0.1144 - acc: 0.957 - ETA: 3s - loss: 0.1130 - acc: 0.958 - ETA: 2s - loss: 0.1142 - acc: 0.957 - ETA: 2s - loss: 0.1109 - acc: 0.958 - ETA: 2s - loss: 0.1094 - acc: 0.959 - ETA: 1s - loss: 0.1063 - acc: 0.960 - ETA: 1s - loss: 0.1037 - acc: 0.962 - ETA: 1s - loss: 0.1009 - acc: 0.963 - ETA: 0s - loss: 0.0981 - acc: 0.964 - ETA: 0s - loss: 0.0953 - acc: 0.965 - 13s 385ms/step - loss: 0.0928 - acc: 0.9669 - val_loss: 1.5718 - val_acc: 0.8242\n"
     ]
    },
    {
     "data": {
      "text/html": [
       "<span style=\"color:#4527A0\"><h1 style=\"font-size:18px\">Trial complete</h1></span>"
      ],
      "text/plain": [
       "<IPython.core.display.HTML object>"
      ]
     },
     "metadata": {},
     "output_type": "display_data"
    },
    {
     "data": {
      "text/html": [
       "<span style=\"color:#4527A0\"><h1 style=\"font-size:18px\">Trial summary</h1></span>"
      ],
      "text/plain": [
       "<IPython.core.display.HTML object>"
      ]
     },
     "metadata": {},
     "output_type": "display_data"
    },
    {
     "data": {
      "text/html": [
       "<span style=\"color:cyan\"> |-Trial ID: 5cb572208970577cc999e8b05232afa9</span>"
      ],
      "text/plain": [
       "<IPython.core.display.HTML object>"
      ]
     },
     "metadata": {},
     "output_type": "display_data"
    },
    {
     "data": {
      "text/html": [
       "<span style=\"color:cyan\"> |-Score: 0.8359375</span>"
      ],
      "text/plain": [
       "<IPython.core.display.HTML object>"
      ]
     },
     "metadata": {},
     "output_type": "display_data"
    },
    {
     "data": {
      "text/html": [
       "<span style=\"color:cyan\"> |-Best step: 0</span>"
      ],
      "text/plain": [
       "<IPython.core.display.HTML object>"
      ]
     },
     "metadata": {},
     "output_type": "display_data"
    },
    {
     "data": {
      "text/html": [
       "<span style=\"color:#7E57C2\"><h2 style=\"font-size:16px\">Hyperparameters:</h2></span>"
      ],
      "text/plain": [
       "<IPython.core.display.HTML object>"
      ]
     },
     "metadata": {},
     "output_type": "display_data"
    },
    {
     "data": {
      "text/html": [
       "<span style=\"color:cyan\"> |-hidden_units: 448</span>"
      ],
      "text/plain": [
       "<IPython.core.display.HTML object>"
      ]
     },
     "metadata": {},
     "output_type": "display_data"
    },
    {
     "data": {
      "text/html": [
       "<span style=\"color:blue\"> |-num_conv_layers: 3</span>"
      ],
      "text/plain": [
       "<IPython.core.display.HTML object>"
      ]
     },
     "metadata": {},
     "output_type": "display_data"
    },
    {
     "data": {
      "text/html": [
       "<span style=\"color:cyan\"> |-num_filters_layer0: 16</span>"
      ],
      "text/plain": [
       "<IPython.core.display.HTML object>"
      ]
     },
     "metadata": {},
     "output_type": "display_data"
    },
    {
     "data": {
      "text/html": [
       "<span style=\"color:blue\"> |-num_filters_layer1: 16</span>"
      ],
      "text/plain": [
       "<IPython.core.display.HTML object>"
      ]
     },
     "metadata": {},
     "output_type": "display_data"
    },
    {
     "data": {
      "text/html": [
       "<span style=\"color:cyan\"> |-num_filters_layer2: 16</span>"
      ],
      "text/plain": [
       "<IPython.core.display.HTML object>"
      ]
     },
     "metadata": {},
     "output_type": "display_data"
    },
    {
     "data": {
      "text/html": [
       "<span style=\"color:blue\"> |-tuner/bracket: 2</span>"
      ],
      "text/plain": [
       "<IPython.core.display.HTML object>"
      ]
     },
     "metadata": {},
     "output_type": "display_data"
    },
    {
     "data": {
      "text/html": [
       "<span style=\"color:cyan\"> |-tuner/epochs: 5</span>"
      ],
      "text/plain": [
       "<IPython.core.display.HTML object>"
      ]
     },
     "metadata": {},
     "output_type": "display_data"
    },
    {
     "data": {
      "text/html": [
       "<span style=\"color:blue\"> |-tuner/initial_epoch: 2</span>"
      ],
      "text/plain": [
       "<IPython.core.display.HTML object>"
      ]
     },
     "metadata": {},
     "output_type": "display_data"
    },
    {
     "data": {
      "text/html": [
       "<span style=\"color:cyan\"> |-tuner/round: 1</span>"
      ],
      "text/plain": [
       "<IPython.core.display.HTML object>"
      ]
     },
     "metadata": {},
     "output_type": "display_data"
    },
    {
     "data": {
      "text/html": [
       "<span style=\"color:blue\"> |-tuner/trial_id: fcc93ab1b158beedd3bb32aec8ab641e</span>"
      ],
      "text/plain": [
       "<IPython.core.display.HTML object>"
      ]
     },
     "metadata": {},
     "output_type": "display_data"
    },
    {
     "name": "stdout",
     "output_type": "stream",
     "text": [
      "WARNING:tensorflow:sample_weight modes were coerced from\n",
      "  ...\n",
      "    to  \n",
      "  ['...']\n",
      "WARNING:tensorflow:sample_weight modes were coerced from\n",
      "  ...\n",
      "    to  \n",
      "  ['...']\n",
      "Train for 33 steps, validate for 8 steps\n",
      "Epoch 6/15\n",
      "33/33 [==============================] - ETA: 32s - loss: 0.6963 - acc: 0.46 - ETA: 20s - loss: 0.9051 - acc: 0.56 - ETA: 17s - loss: 0.8861 - acc: 0.56 - ETA: 15s - loss: 0.8283 - acc: 0.57 - ETA: 14s - loss: 0.8131 - acc: 0.56 - ETA: 13s - loss: 0.7863 - acc: 0.57 - ETA: 12s - loss: 0.7751 - acc: 0.55 - ETA: 12s - loss: 0.7587 - acc: 0.55 - ETA: 11s - loss: 0.7428 - acc: 0.58 - ETA: 11s - loss: 0.7256 - acc: 0.62 - ETA: 10s - loss: 0.7067 - acc: 0.64 - ETA: 9s - loss: 0.6917 - acc: 0.6380 - ETA: 9s - loss: 0.6766 - acc: 0.639 - ETA: 8s - loss: 0.6577 - acc: 0.660 - ETA: 8s - loss: 0.6385 - acc: 0.670 - ETA: 7s - loss: 0.6265 - acc: 0.671 - ETA: 7s - loss: 0.6268 - acc: 0.663 - ETA: 6s - loss: 0.6110 - acc: 0.675 - ETA: 6s - loss: 0.6045 - acc: 0.677 - ETA: 5s - loss: 0.5925 - acc: 0.685 - ETA: 5s - loss: 0.5779 - acc: 0.697 - ETA: 4s - loss: 0.5589 - acc: 0.711 - ETA: 4s - loss: 0.5593 - acc: 0.712 - ETA: 3s - loss: 0.5631 - acc: 0.709 - ETA: 3s - loss: 0.5608 - acc: 0.706 - ETA: 2s - loss: 0.5555 - acc: 0.709 - ETA: 2s - loss: 0.5401 - acc: 0.719 - ETA: 2s - loss: 0.5217 - acc: 0.720 - ETA: 1s - loss: 0.5114 - acc: 0.728 - ETA: 1s - loss: 0.4995 - acc: 0.736 - ETA: 0s - loss: 0.4883 - acc: 0.742 - ETA: 0s - loss: 0.4796 - acc: 0.746 - 15s 442ms/step - loss: 0.4703 - acc: 0.7537 - val_loss: 0.9413 - val_acc: 0.7812\n",
      "Epoch 7/15\n",
      "33/33 [==============================] - ETA: 16s - loss: 0.1294 - acc: 0.96 - ETA: 13s - loss: 0.1707 - acc: 0.92 - ETA: 12s - loss: 0.1567 - acc: 0.92 - ETA: 11s - loss: 0.1476 - acc: 0.94 - ETA: 9s - loss: 0.1184 - acc: 0.9466 - ETA: 9s - loss: 0.1211 - acc: 0.944 - ETA: 8s - loss: 0.1238 - acc: 0.938 - ETA: 8s - loss: 0.1640 - acc: 0.920 - ETA: 8s - loss: 0.1550 - acc: 0.930 - ETA: 8s - loss: 0.1464 - acc: 0.938 - ETA: 7s - loss: 0.1443 - acc: 0.941 - ETA: 7s - loss: 0.1437 - acc: 0.938 - ETA: 7s - loss: 0.1447 - acc: 0.932 - ETA: 7s - loss: 0.1378 - acc: 0.937 - ETA: 6s - loss: 0.1444 - acc: 0.935 - ETA: 6s - loss: 0.1655 - acc: 0.927 - ETA: 6s - loss: 0.1800 - acc: 0.920 - ETA: 5s - loss: 0.1794 - acc: 0.921 - ETA: 5s - loss: 0.1819 - acc: 0.922 - ETA: 4s - loss: 0.1802 - acc: 0.924 - ETA: 4s - loss: 0.1802 - acc: 0.925 - ETA: 4s - loss: 0.1762 - acc: 0.928 - ETA: 3s - loss: 0.1733 - acc: 0.930 - ETA: 3s - loss: 0.1680 - acc: 0.933 - ETA: 3s - loss: 0.1630 - acc: 0.936 - ETA: 2s - loss: 0.1587 - acc: 0.937 - ETA: 2s - loss: 0.1708 - acc: 0.934 - ETA: 1s - loss: 0.1800 - acc: 0.928 - ETA: 1s - loss: 0.1780 - acc: 0.931 - ETA: 1s - loss: 0.1760 - acc: 0.932 - ETA: 0s - loss: 0.1727 - acc: 0.933 - ETA: 0s - loss: 0.1679 - acc: 0.935 - 14s 433ms/step - loss: 0.1667 - acc: 0.9367 - val_loss: 0.6701 - val_acc: 0.8633\n",
      "Epoch 8/15\n",
      "33/33 [==============================] - ETA: 14s - loss: 0.0628 - acc: 1.00 - ETA: 12s - loss: 0.0471 - acc: 1.00 - ETA: 12s - loss: 0.0435 - acc: 1.00 - ETA: 12s - loss: 0.0443 - acc: 1.00 - ETA: 12s - loss: 0.0583 - acc: 0.99 - ETA: 11s - loss: 0.0627 - acc: 0.98 - ETA: 11s - loss: 0.0578 - acc: 0.98 - ETA: 10s - loss: 0.0515 - acc: 0.98 - ETA: 9s - loss: 0.0458 - acc: 0.9884 - ETA: 9s - loss: 0.0472 - acc: 0.986 - ETA: 8s - loss: 0.0449 - acc: 0.987 - ETA: 8s - loss: 0.0454 - acc: 0.985 - ETA: 8s - loss: 0.0532 - acc: 0.981 - ETA: 7s - loss: 0.0599 - acc: 0.976 - ETA: 7s - loss: 0.0628 - acc: 0.975 - ETA: 6s - loss: 0.0915 - acc: 0.962 - ETA: 6s - loss: 0.0976 - acc: 0.961 - ETA: 6s - loss: 0.0970 - acc: 0.963 - ETA: 5s - loss: 0.0925 - acc: 0.965 - ETA: 5s - loss: 0.0884 - acc: 0.967 - ETA: 4s - loss: 0.0883 - acc: 0.967 - ETA: 4s - loss: 0.0857 - acc: 0.968 - ETA: 3s - loss: 0.0867 - acc: 0.968 - ETA: 3s - loss: 0.0859 - acc: 0.970 - ETA: 3s - loss: 0.0861 - acc: 0.970 - ETA: 2s - loss: 0.0840 - acc: 0.971 - ETA: 2s - loss: 0.0815 - acc: 0.972 - ETA: 1s - loss: 0.0817 - acc: 0.972 - ETA: 1s - loss: 0.0801 - acc: 0.973 - ETA: 1s - loss: 0.0776 - acc: 0.974 - ETA: 0s - loss: 0.0756 - acc: 0.975 - ETA: 0s - loss: 0.0739 - acc: 0.975 - 14s 421ms/step - loss: 0.0722 - acc: 0.9766 - val_loss: 1.3242 - val_acc: 0.8359\n",
      "Epoch 9/15\n",
      "33/33 [==============================] - ETA: 15s - loss: 0.0073 - acc: 1.00 - ETA: 14s - loss: 0.0113 - acc: 1.00 - ETA: 12s - loss: 0.0485 - acc: 0.98 - ETA: 11s - loss: 0.0422 - acc: 0.99 - ETA: 11s - loss: 0.0357 - acc: 0.99 - ETA: 10s - loss: 0.0353 - acc: 0.99 - ETA: 10s - loss: 0.0350 - acc: 0.99 - ETA: 9s - loss: 0.0379 - acc: 0.9922 - ETA: 9s - loss: 0.0459 - acc: 0.982 - ETA: 8s - loss: 0.0583 - acc: 0.975 - ETA: 8s - loss: 0.7191 - acc: 0.931 - ETA: 7s - loss: 0.6670 - acc: 0.937 - ETA: 7s - loss: 0.6257 - acc: 0.937 - ETA: 7s - loss: 0.5875 - acc: 0.942 - ETA: 6s - loss: 0.5551 - acc: 0.943 - ETA: 6s - loss: 0.5247 - acc: 0.947 - ETA: 6s - loss: 0.4968 - acc: 0.950 - ETA: 5s - loss: 0.4710 - acc: 0.953 - ETA: 5s - loss: 0.4479 - acc: 0.955 - ETA: 4s - loss: 0.4264 - acc: 0.957 - ETA: 4s - loss: 0.4090 - acc: 0.958 - ETA: 4s - loss: 0.3939 - acc: 0.958 - ETA: 3s - loss: 0.3768 - acc: 0.959 - ETA: 3s - loss: 0.3637 - acc: 0.960 - ETA: 2s - loss: 0.3543 - acc: 0.959 - ETA: 2s - loss: 0.3418 - acc: 0.961 - ETA: 2s - loss: 0.3312 - acc: 0.961 - ETA: 1s - loss: 0.3198 - acc: 0.963 - ETA: 1s - loss: 0.3102 - acc: 0.964 - ETA: 1s - loss: 0.3002 - acc: 0.965 - ETA: 0s - loss: 0.2914 - acc: 0.966 - ETA: 0s - loss: 0.2838 - acc: 0.967 - 13s 384ms/step - loss: 0.2768 - acc: 0.9679 - val_loss: 1.6171 - val_acc: 0.8164\n",
      "Epoch 10/15\n",
      "33/33 [==============================] - ETA: 14s - loss: 0.0039 - acc: 1.00 - ETA: 11s - loss: 0.0089 - acc: 1.00 - ETA: 10s - loss: 0.0074 - acc: 1.00 - ETA: 10s - loss: 0.0090 - acc: 1.00 - ETA: 9s - loss: 0.0088 - acc: 1.0000 - ETA: 9s - loss: 0.0083 - acc: 1.000 - ETA: 9s - loss: 0.0077 - acc: 1.000 - ETA: 8s - loss: 0.0182 - acc: 0.996 - ETA: 8s - loss: 0.0275 - acc: 0.989 - ETA: 8s - loss: 0.0251 - acc: 0.990 - ETA: 7s - loss: 0.0297 - acc: 0.988 - ETA: 7s - loss: 0.0300 - acc: 0.987 - ETA: 6s - loss: 0.0287 - acc: 0.988 - ETA: 6s - loss: 0.0305 - acc: 0.986 - ETA: 6s - loss: 0.0289 - acc: 0.987 - ETA: 6s - loss: 0.0288 - acc: 0.988 - ETA: 5s - loss: 0.0278 - acc: 0.989 - ETA: 5s - loss: 0.0266 - acc: 0.989 - ETA: 4s - loss: 0.0259 - acc: 0.990 - ETA: 4s - loss: 0.0252 - acc: 0.990 - ETA: 3s - loss: 0.0237 - acc: 0.991 - ETA: 3s - loss: 0.0236 - acc: 0.991 - ETA: 3s - loss: 0.0235 - acc: 0.991 - ETA: 2s - loss: 0.0231 - acc: 0.992 - ETA: 2s - loss: 0.0223 - acc: 0.992 - ETA: 2s - loss: 0.0216 - acc: 0.992 - ETA: 1s - loss: 0.0216 - acc: 0.991 - ETA: 1s - loss: 0.0212 - acc: 0.992 - ETA: 1s - loss: 0.0206 - acc: 0.992 - ETA: 0s - loss: 0.0201 - acc: 0.992 - ETA: 0s - loss: 0.0206 - acc: 0.992 - 12s 369ms/step - loss: 0.0441 - acc: 0.9844 - val_loss: 5.3034 - val_acc: 0.6367\n",
      "Epoch 11/15\n",
      "33/33 [==============================] - ETA: 14s - loss: 1.0703 - acc: 0.59 - ETA: 12s - loss: 0.5463 - acc: 0.79 - ETA: 11s - loss: 0.3674 - acc: 0.86 - ETA: 10s - loss: 0.2830 - acc: 0.89 - ETA: 9s - loss: 0.2408 - acc: 0.9125 - ETA: 9s - loss: 0.2034 - acc: 0.927 - ETA: 8s - loss: 0.1760 - acc: 0.937 - ETA: 8s - loss: 0.1546 - acc: 0.945 - ETA: 8s - loss: 0.1385 - acc: 0.951 - ETA: 7s - loss: 0.1252 - acc: 0.956 - ETA: 7s - loss: 0.1142 - acc: 0.960 - ETA: 6s - loss: 0.1063 - acc: 0.963 - ETA: 6s - loss: 0.0990 - acc: 0.966 - ETA: 6s - loss: 0.0922 - acc: 0.968 - ETA: 5s - loss: 0.0868 - acc: 0.970 - ETA: 5s - loss: 0.0826 - acc: 0.972 - ETA: 5s - loss: 0.0782 - acc: 0.974 - ETA: 5s - loss: 0.0747 - acc: 0.975 - ETA: 4s - loss: 0.0710 - acc: 0.977 - ETA: 4s - loss: 0.0676 - acc: 0.978 - ETA: 3s - loss: 0.0646 - acc: 0.979 - ETA: 3s - loss: 0.0622 - acc: 0.980 - ETA: 3s - loss: 0.0604 - acc: 0.981 - ETA: 2s - loss: 0.0583 - acc: 0.981 - ETA: 2s - loss: 0.0564 - acc: 0.982 - ETA: 2s - loss: 0.0544 - acc: 0.983 - ETA: 1s - loss: 0.0506 - acc: 0.983 - ETA: 1s - loss: 0.0490 - acc: 0.984 - ETA: 0s - loss: 0.0475 - acc: 0.985 - ETA: 0s - loss: 0.0460 - acc: 0.985 - ETA: 0s - loss: 0.0452 - acc: 0.985 - 12s 354ms/step - loss: 0.0439 - acc: 0.9864 - val_loss: 1.7369 - val_acc: 0.8516\n",
      "Epoch 12/15\n",
      "33/33 [==============================] - ETA: 13s - loss: 0.0036 - acc: 1.00 - ETA: 11s - loss: 0.0053 - acc: 1.00 - ETA: 10s - loss: 0.0045 - acc: 1.00 - ETA: 10s - loss: 0.0037 - acc: 1.00 - ETA: 10s - loss: 0.0032 - acc: 1.00 - ETA: 10s - loss: 0.0072 - acc: 1.00 - ETA: 9s - loss: 0.0066 - acc: 1.0000 - ETA: 9s - loss: 0.0061 - acc: 1.000 - ETA: 8s - loss: 0.0073 - acc: 1.000 - ETA: 8s - loss: 0.0070 - acc: 1.000 - ETA: 8s - loss: 0.0065 - acc: 1.000 - ETA: 7s - loss: 0.0060 - acc: 1.000 - ETA: 7s - loss: 0.0056 - acc: 1.000 - ETA: 7s - loss: 0.0053 - acc: 1.000 - ETA: 6s - loss: 0.0051 - acc: 1.000 - ETA: 6s - loss: 0.0048 - acc: 1.000 - ETA: 5s - loss: 0.0048 - acc: 1.000 - ETA: 5s - loss: 0.0048 - acc: 1.000 - ETA: 5s - loss: 0.0047 - acc: 1.000 - ETA: 4s - loss: 0.0043 - acc: 1.000 - ETA: 3s - loss: 0.0043 - acc: 1.000 - ETA: 3s - loss: 0.0046 - acc: 1.000 - ETA: 3s - loss: 0.0045 - acc: 1.000 - ETA: 2s - loss: 0.0044 - acc: 1.000 - ETA: 2s - loss: 0.0054 - acc: 0.998 - ETA: 2s - loss: 0.0549 - acc: 0.989 - ETA: 1s - loss: 0.0698 - acc: 0.982 - ETA: 1s - loss: 0.0691 - acc: 0.983 - ETA: 1s - loss: 0.0697 - acc: 0.982 - ETA: 0s - loss: 0.0694 - acc: 0.983 - ETA: 0s - loss: 0.0686 - acc: 0.982 - 13s 386ms/step - loss: 0.0677 - acc: 0.9834 - val_loss: 1.0400 - val_acc: 0.8594\n",
      "Epoch 13/15\n",
      "33/33 [==============================] - ETA: 14s - loss: 0.0271 - acc: 1.00 - ETA: 12s - loss: 0.0266 - acc: 1.00 - ETA: 11s - loss: 0.0233 - acc: 1.00 - ETA: 11s - loss: 0.0196 - acc: 1.00 - ETA: 10s - loss: 0.0176 - acc: 1.00 - ETA: 10s - loss: 0.0160 - acc: 1.00 - ETA: 10s - loss: 0.0147 - acc: 1.00 - ETA: 9s - loss: 0.0136 - acc: 1.0000 - ETA: 9s - loss: 0.0124 - acc: 1.000 - ETA: 8s - loss: 0.0114 - acc: 1.000 - ETA: 7s - loss: 0.0103 - acc: 1.000 - ETA: 7s - loss: 0.0096 - acc: 1.000 - ETA: 7s - loss: 0.0094 - acc: 1.000 - ETA: 6s - loss: 0.0089 - acc: 1.000 - ETA: 6s - loss: 0.0086 - acc: 1.000 - ETA: 6s - loss: 0.0086 - acc: 1.000 - ETA: 5s - loss: 0.0084 - acc: 1.000 - ETA: 5s - loss: 0.0082 - acc: 1.000 - ETA: 5s - loss: 0.0081 - acc: 1.000 - ETA: 4s - loss: 0.0081 - acc: 1.000 - ETA: 4s - loss: 0.0079 - acc: 1.000 - ETA: 3s - loss: 0.0078 - acc: 1.000 - ETA: 3s - loss: 0.0077 - acc: 1.000 - ETA: 3s - loss: 0.0074 - acc: 1.000 - ETA: 2s - loss: 0.0072 - acc: 1.000 - ETA: 2s - loss: 0.0070 - acc: 1.000 - ETA: 2s - loss: 0.0071 - acc: 1.000 - ETA: 1s - loss: 0.0111 - acc: 0.997 - ETA: 1s - loss: 0.0360 - acc: 0.992 - ETA: 1s - loss: 0.0592 - acc: 0.987 - ETA: 0s - loss: 0.0591 - acc: 0.987 - ETA: 0s - loss: 0.0580 - acc: 0.987 - 14s 409ms/step - loss: 0.0574 - acc: 0.9873 - val_loss: 1.2853 - val_acc: 0.8555\n",
      "Epoch 14/15\n",
      "33/33 [==============================] - ETA: 14s - loss: 0.0024 - acc: 1.00 - ETA: 12s - loss: 0.0036 - acc: 1.00 - ETA: 11s - loss: 0.0033 - acc: 1.00 - ETA: 11s - loss: 0.0034 - acc: 1.00 - ETA: 10s - loss: 0.0031 - acc: 1.00 - ETA: 9s - loss: 0.0026 - acc: 1.0000 - ETA: 8s - loss: 0.0031 - acc: 1.000 - ETA: 8s - loss: 0.0033 - acc: 1.000 - ETA: 8s - loss: 0.0033 - acc: 1.000 - ETA: 8s - loss: 0.0032 - acc: 1.000 - ETA: 7s - loss: 0.0041 - acc: 1.000 - ETA: 7s - loss: 0.0043 - acc: 1.000 - ETA: 7s - loss: 0.0041 - acc: 1.000 - ETA: 7s - loss: 0.0045 - acc: 1.000 - ETA: 6s - loss: 0.0052 - acc: 1.000 - ETA: 6s - loss: 0.0052 - acc: 1.000 - ETA: 6s - loss: 0.0051 - acc: 1.000 - ETA: 5s - loss: 0.0050 - acc: 1.000 - ETA: 5s - loss: 0.0048 - acc: 1.000 - ETA: 5s - loss: 0.0047 - acc: 1.000 - ETA: 4s - loss: 0.0048 - acc: 1.000 - ETA: 4s - loss: 0.0047 - acc: 1.000 - ETA: 4s - loss: 0.0045 - acc: 1.000 - ETA: 3s - loss: 0.0043 - acc: 1.000 - ETA: 3s - loss: 0.0043 - acc: 1.000 - ETA: 2s - loss: 0.0042 - acc: 1.000 - ETA: 2s - loss: 0.0041 - acc: 1.000 - ETA: 2s - loss: 0.0039 - acc: 1.000 - ETA: 1s - loss: 0.0039 - acc: 1.000 - ETA: 1s - loss: 0.0038 - acc: 1.000 - ETA: 0s - loss: 0.0038 - acc: 1.000 - ETA: 0s - loss: 0.0037 - acc: 1.000 - 15s 440ms/step - loss: 0.0037 - acc: 1.0000 - val_loss: 1.5442 - val_acc: 0.8672\n",
      "Epoch 15/15\n",
      "33/33 [==============================] - ETA: 13s - loss: 5.4965e-04 - acc: 1.00 - ETA: 11s - loss: 7.2763e-04 - acc: 1.00 - ETA: 11s - loss: 0.0017 - acc: 1.0000   - ETA: 10s - loss: 0.0013 - acc: 1.00 - ETA: 10s - loss: 0.0014 - acc: 1.00 - ETA: 10s - loss: 0.0013 - acc: 1.00 - ETA: 9s - loss: 0.0011 - acc: 1.0000 - ETA: 9s - loss: 0.0021 - acc: 1.000 - ETA: 9s - loss: 0.0031 - acc: 1.000 - ETA: 8s - loss: 0.0047 - acc: 1.000 - ETA: 8s - loss: 0.0063 - acc: 1.000 - ETA: 8s - loss: 0.0065 - acc: 1.000 - ETA: 7s - loss: 0.0071 - acc: 1.000 - ETA: 7s - loss: 0.0067 - acc: 1.000 - ETA: 6s - loss: 0.0065 - acc: 1.000 - ETA: 6s - loss: 0.0061 - acc: 1.000 - ETA: 6s - loss: 0.0058 - acc: 1.000 - ETA: 5s - loss: 0.0056 - acc: 1.000 - ETA: 5s - loss: 0.0053 - acc: 1.000 - ETA: 4s - loss: 0.0051 - acc: 1.000 - ETA: 4s - loss: 0.0049 - acc: 1.000 - ETA: 4s - loss: 0.0047 - acc: 1.000 - ETA: 3s - loss: 0.0045 - acc: 1.000 - ETA: 3s - loss: 0.0043 - acc: 1.000 - ETA: 2s - loss: 0.0041 - acc: 1.000 - ETA: 2s - loss: 0.0040 - acc: 1.000 - ETA: 2s - loss: 0.0038 - acc: 1.000 - ETA: 1s - loss: 0.0039 - acc: 1.000 - ETA: 1s - loss: 0.0039 - acc: 1.000 - ETA: 1s - loss: 0.0041 - acc: 1.000 - ETA: 0s - loss: 0.0040 - acc: 1.000 - ETA: 0s - loss: 0.0039 - acc: 1.000 - 13s 402ms/step - loss: 0.0038 - acc: 1.0000 - val_loss: 2.4221 - val_acc: 0.8438\n"
     ]
    },
    {
     "data": {
      "text/html": [
       "<span style=\"color:#4527A0\"><h1 style=\"font-size:18px\">Trial complete</h1></span>"
      ],
      "text/plain": [
       "<IPython.core.display.HTML object>"
      ]
     },
     "metadata": {},
     "output_type": "display_data"
    },
    {
     "data": {
      "text/html": [
       "<span style=\"color:#4527A0\"><h1 style=\"font-size:18px\">Trial summary</h1></span>"
      ],
      "text/plain": [
       "<IPython.core.display.HTML object>"
      ]
     },
     "metadata": {},
     "output_type": "display_data"
    },
    {
     "data": {
      "text/html": [
       "<span style=\"color:cyan\"> |-Trial ID: 41c822c6e425f36d641eaeb3a92f82e1</span>"
      ],
      "text/plain": [
       "<IPython.core.display.HTML object>"
      ]
     },
     "metadata": {},
     "output_type": "display_data"
    },
    {
     "data": {
      "text/html": [
       "<span style=\"color:cyan\"> |-Score: 0.8671875</span>"
      ],
      "text/plain": [
       "<IPython.core.display.HTML object>"
      ]
     },
     "metadata": {},
     "output_type": "display_data"
    },
    {
     "data": {
      "text/html": [
       "<span style=\"color:cyan\"> |-Best step: 0</span>"
      ],
      "text/plain": [
       "<IPython.core.display.HTML object>"
      ]
     },
     "metadata": {},
     "output_type": "display_data"
    },
    {
     "data": {
      "text/html": [
       "<span style=\"color:#7E57C2\"><h2 style=\"font-size:16px\">Hyperparameters:</h2></span>"
      ],
      "text/plain": [
       "<IPython.core.display.HTML object>"
      ]
     },
     "metadata": {},
     "output_type": "display_data"
    },
    {
     "data": {
      "text/html": [
       "<span style=\"color:cyan\"> |-hidden_units: 224</span>"
      ],
      "text/plain": [
       "<IPython.core.display.HTML object>"
      ]
     },
     "metadata": {},
     "output_type": "display_data"
    },
    {
     "data": {
      "text/html": [
       "<span style=\"color:blue\"> |-num_conv_layers: 2</span>"
      ],
      "text/plain": [
       "<IPython.core.display.HTML object>"
      ]
     },
     "metadata": {},
     "output_type": "display_data"
    },
    {
     "data": {
      "text/html": [
       "<span style=\"color:cyan\"> |-num_filters_layer0: 16</span>"
      ],
      "text/plain": [
       "<IPython.core.display.HTML object>"
      ]
     },
     "metadata": {},
     "output_type": "display_data"
    },
    {
     "data": {
      "text/html": [
       "<span style=\"color:blue\"> |-num_filters_layer1: 16</span>"
      ],
      "text/plain": [
       "<IPython.core.display.HTML object>"
      ]
     },
     "metadata": {},
     "output_type": "display_data"
    },
    {
     "data": {
      "text/html": [
       "<span style=\"color:cyan\"> |-num_filters_layer2: 16</span>"
      ],
      "text/plain": [
       "<IPython.core.display.HTML object>"
      ]
     },
     "metadata": {},
     "output_type": "display_data"
    },
    {
     "data": {
      "text/html": [
       "<span style=\"color:blue\"> |-tuner/bracket: 2</span>"
      ],
      "text/plain": [
       "<IPython.core.display.HTML object>"
      ]
     },
     "metadata": {},
     "output_type": "display_data"
    },
    {
     "data": {
      "text/html": [
       "<span style=\"color:cyan\"> |-tuner/epochs: 15</span>"
      ],
      "text/plain": [
       "<IPython.core.display.HTML object>"
      ]
     },
     "metadata": {},
     "output_type": "display_data"
    },
    {
     "data": {
      "text/html": [
       "<span style=\"color:blue\"> |-tuner/initial_epoch: 5</span>"
      ],
      "text/plain": [
       "<IPython.core.display.HTML object>"
      ]
     },
     "metadata": {},
     "output_type": "display_data"
    },
    {
     "data": {
      "text/html": [
       "<span style=\"color:cyan\"> |-tuner/round: 2</span>"
      ],
      "text/plain": [
       "<IPython.core.display.HTML object>"
      ]
     },
     "metadata": {},
     "output_type": "display_data"
    },
    {
     "data": {
      "text/html": [
       "<span style=\"color:blue\"> |-tuner/trial_id: 7b862708eeefbb58509ea50500705ed4</span>"
      ],
      "text/plain": [
       "<IPython.core.display.HTML object>"
      ]
     },
     "metadata": {},
     "output_type": "display_data"
    },
    {
     "name": "stdout",
     "output_type": "stream",
     "text": [
      "WARNING:tensorflow:sample_weight modes were coerced from\n",
      "  ...\n",
      "    to  \n",
      "  ['...']\n",
      "WARNING:tensorflow:sample_weight modes were coerced from\n",
      "  ...\n",
      "    to  \n",
      "  ['...']\n",
      "Train for 33 steps, validate for 8 steps\n",
      "Epoch 6/15\n",
      "33/33 [==============================] - ETA: 34s - loss: 0.6946 - acc: 0.50 - ETA: 22s - loss: 1.6294 - acc: 0.50 - ETA: 18s - loss: 2.2541 - acc: 0.48 - ETA: 16s - loss: 1.8896 - acc: 0.48 - ETA: 14s - loss: 1.6484 - acc: 0.50 - ETA: 13s - loss: 1.4814 - acc: 0.56 - ETA: 13s - loss: 1.3849 - acc: 0.54 - ETA: 12s - loss: 1.2920 - acc: 0.54 - ETA: 11s - loss: 1.2131 - acc: 0.56 - ETA: 10s - loss: 1.1452 - acc: 0.60 - ETA: 10s - loss: 1.0751 - acc: 0.63 - ETA: 9s - loss: 1.0100 - acc: 0.6536 - ETA: 9s - loss: 1.0029 - acc: 0.634 - ETA: 8s - loss: 1.0320 - acc: 0.620 - ETA: 8s - loss: 0.9968 - acc: 0.631 - ETA: 7s - loss: 0.9591 - acc: 0.650 - ETA: 6s - loss: 0.9110 - acc: 0.652 - ETA: 6s - loss: 0.8793 - acc: 0.667 - ETA: 5s - loss: 0.8542 - acc: 0.678 - ETA: 5s - loss: 0.8248 - acc: 0.685 - ETA: 5s - loss: 0.7916 - acc: 0.699 - ETA: 4s - loss: 0.7625 - acc: 0.711 - ETA: 4s - loss: 0.7598 - acc: 0.710 - ETA: 3s - loss: 0.7645 - acc: 0.703 - ETA: 3s - loss: 0.7450 - acc: 0.716 - ETA: 2s - loss: 0.7253 - acc: 0.724 - ETA: 2s - loss: 0.7096 - acc: 0.730 - ETA: 2s - loss: 0.6949 - acc: 0.735 - ETA: 1s - loss: 0.6780 - acc: 0.743 - ETA: 1s - loss: 0.6606 - acc: 0.750 - ETA: 0s - loss: 0.6456 - acc: 0.757 - ETA: 0s - loss: 0.6339 - acc: 0.760 - 15s 458ms/step - loss: 0.6275 - acc: 0.7614 - val_loss: 0.6125 - val_acc: 0.8516\n",
      "Epoch 7/15\n",
      "33/33 [==============================] - ETA: 14s - loss: 0.0536 - acc: 1.00 - ETA: 12s - loss: 0.1310 - acc: 0.93 - ETA: 11s - loss: 0.1183 - acc: 0.95 - ETA: 11s - loss: 0.0993 - acc: 0.96 - ETA: 11s - loss: 0.1129 - acc: 0.96 - ETA: 9s - loss: 0.0945 - acc: 0.9632 - ETA: 9s - loss: 0.0996 - acc: 0.959 - ETA: 8s - loss: 0.0967 - acc: 0.960 - ETA: 8s - loss: 0.0942 - acc: 0.961 - ETA: 8s - loss: 0.0964 - acc: 0.958 - ETA: 7s - loss: 0.1068 - acc: 0.956 - ETA: 7s - loss: 0.1082 - acc: 0.954 - ETA: 7s - loss: 0.1017 - acc: 0.958 - ETA: 7s - loss: 0.0978 - acc: 0.961 - ETA: 6s - loss: 0.0990 - acc: 0.962 - ETA: 6s - loss: 0.1028 - acc: 0.960 - ETA: 5s - loss: 0.1172 - acc: 0.953 - ETA: 5s - loss: 0.1385 - acc: 0.947 - ETA: 5s - loss: 0.1374 - acc: 0.948 - ETA: 4s - loss: 0.1331 - acc: 0.949 - ETA: 4s - loss: 0.1283 - acc: 0.951 - ETA: 4s - loss: 0.1278 - acc: 0.951 - ETA: 3s - loss: 0.1234 - acc: 0.953 - ETA: 3s - loss: 0.1195 - acc: 0.955 - ETA: 3s - loss: 0.1245 - acc: 0.952 - ETA: 2s - loss: 0.2201 - acc: 0.932 - ETA: 2s - loss: 0.2240 - acc: 0.931 - ETA: 1s - loss: 0.2225 - acc: 0.930 - ETA: 1s - loss: 0.2187 - acc: 0.933 - ETA: 1s - loss: 0.2192 - acc: 0.931 - ETA: 0s - loss: 0.2168 - acc: 0.932 - ETA: 0s - loss: 0.2153 - acc: 0.931 - 13s 408ms/step - loss: 0.2113 - acc: 0.9338 - val_loss: 1.1273 - val_acc: 0.7500\n",
      "Epoch 8/15\n",
      "33/33 [==============================] - ETA: 15s - loss: 0.1293 - acc: 0.93 - ETA: 13s - loss: 0.0989 - acc: 0.95 - ETA: 12s - loss: 0.0798 - acc: 0.96 - ETA: 11s - loss: 0.0885 - acc: 0.96 - ETA: 11s - loss: 0.0848 - acc: 0.96 - ETA: 10s - loss: 0.0724 - acc: 0.97 - ETA: 10s - loss: 0.0689 - acc: 0.97 - ETA: 9s - loss: 0.0672 - acc: 0.9805 - ETA: 9s - loss: 0.0682 - acc: 0.979 - ETA: 9s - loss: 0.0752 - acc: 0.978 - ETA: 8s - loss: 0.0850 - acc: 0.971 - ETA: 8s - loss: 0.0882 - acc: 0.968 - ETA: 7s - loss: 0.0865 - acc: 0.971 - ETA: 7s - loss: 0.0832 - acc: 0.971 - ETA: 6s - loss: 0.0788 - acc: 0.972 - ETA: 6s - loss: 0.0820 - acc: 0.970 - ETA: 6s - loss: 0.0895 - acc: 0.966 - ETA: 5s - loss: 0.0882 - acc: 0.967 - ETA: 5s - loss: 0.0867 - acc: 0.968 - ETA: 5s - loss: 0.0941 - acc: 0.967 - ETA: 4s - loss: 0.0997 - acc: 0.967 - ETA: 4s - loss: 0.0959 - acc: 0.968 - ETA: 3s - loss: 0.0925 - acc: 0.970 - ETA: 3s - loss: 0.0897 - acc: 0.971 - ETA: 3s - loss: 0.0885 - acc: 0.971 - ETA: 2s - loss: 0.0875 - acc: 0.971 - ETA: 2s - loss: 0.0847 - acc: 0.972 - ETA: 1s - loss: 0.0834 - acc: 0.972 - ETA: 1s - loss: 0.0810 - acc: 0.973 - ETA: 1s - loss: 0.0789 - acc: 0.974 - ETA: 0s - loss: 0.0778 - acc: 0.973 - ETA: 0s - loss: 0.0756 - acc: 0.974 - 13s 408ms/step - loss: 0.0733 - acc: 0.9747 - val_loss: 1.0690 - val_acc: 0.8438\n",
      "Epoch 9/15\n",
      "33/33 [==============================] - ETA: 15s - loss: 0.0169 - acc: 1.00 - ETA: 13s - loss: 0.0099 - acc: 1.00 - ETA: 9s - loss: 0.0066 - acc: 1.0000 - ETA: 10s - loss: 0.0057 - acc: 1.00 - ETA: 10s - loss: 0.0256 - acc: 0.99 - ETA: 9s - loss: 0.0316 - acc: 0.9939 - ETA: 9s - loss: 0.0307 - acc: 0.994 - ETA: 9s - loss: 0.0269 - acc: 0.995 - ETA: 9s - loss: 0.0376 - acc: 0.988 - ETA: 8s - loss: 0.0534 - acc: 0.979 - ETA: 8s - loss: 0.1208 - acc: 0.950 - ETA: 8s - loss: 0.1432 - acc: 0.938 - ETA: 7s - loss: 0.1446 - acc: 0.938 - ETA: 7s - loss: 0.1388 - acc: 0.940 - ETA: 6s - loss: 0.1351 - acc: 0.942 - ETA: 6s - loss: 0.1287 - acc: 0.946 - ETA: 6s - loss: 0.1224 - acc: 0.949 - ETA: 5s - loss: 0.1162 - acc: 0.952 - ETA: 5s - loss: 0.1116 - acc: 0.955 - ETA: 5s - loss: 0.1074 - acc: 0.957 - ETA: 4s - loss: 0.1044 - acc: 0.959 - ETA: 4s - loss: 0.0998 - acc: 0.961 - ETA: 3s - loss: 0.0962 - acc: 0.963 - ETA: 3s - loss: 0.0924 - acc: 0.964 - ETA: 3s - loss: 0.0888 - acc: 0.966 - ETA: 2s - loss: 0.0858 - acc: 0.967 - ETA: 2s - loss: 0.0834 - acc: 0.968 - ETA: 1s - loss: 0.0809 - acc: 0.970 - ETA: 1s - loss: 0.0783 - acc: 0.971 - ETA: 1s - loss: 0.0761 - acc: 0.972 - ETA: 0s - loss: 0.0737 - acc: 0.973 - ETA: 0s - loss: 0.0723 - acc: 0.972 - 14s 435ms/step - loss: 0.0736 - acc: 0.9718 - val_loss: 0.4897 - val_acc: 0.8984\n",
      "Epoch 10/15\n",
      "33/33 [==============================] - ETA: 14s - loss: 1.6632 - acc: 0.62 - ETA: 13s - loss: 1.0236 - acc: 0.76 - ETA: 12s - loss: 0.6835 - acc: 0.84 - ETA: 12s - loss: 0.5145 - acc: 0.88 - ETA: 11s - loss: 0.4122 - acc: 0.90 - ETA: 11s - loss: 0.3453 - acc: 0.92 - ETA: 10s - loss: 0.3181 - acc: 0.92 - ETA: 10s - loss: 0.3227 - acc: 0.92 - ETA: 9s - loss: 0.2869 - acc: 0.9266 - ETA: 9s - loss: 0.2592 - acc: 0.934 - ETA: 8s - loss: 0.2361 - acc: 0.941 - ETA: 8s - loss: 0.2201 - acc: 0.943 - ETA: 8s - loss: 0.2063 - acc: 0.945 - ETA: 8s - loss: 0.1942 - acc: 0.949 - ETA: 7s - loss: 0.1815 - acc: 0.953 - ETA: 7s - loss: 0.1710 - acc: 0.956 - ETA: 6s - loss: 0.1644 - acc: 0.957 - ETA: 6s - loss: 0.1594 - acc: 0.958 - ETA: 6s - loss: 0.1528 - acc: 0.960 - ETA: 5s - loss: 0.1456 - acc: 0.962 - ETA: 5s - loss: 0.1408 - acc: 0.962 - ETA: 4s - loss: 0.1360 - acc: 0.963 - ETA: 4s - loss: 0.1359 - acc: 0.963 - ETA: 3s - loss: 0.1396 - acc: 0.960 - ETA: 3s - loss: 0.1357 - acc: 0.961 - ETA: 3s - loss: 0.1318 - acc: 0.962 - ETA: 2s - loss: 0.1274 - acc: 0.964 - ETA: 2s - loss: 0.1236 - acc: 0.965 - ETA: 1s - loss: 0.1196 - acc: 0.966 - ETA: 1s - loss: 0.1157 - acc: 0.967 - ETA: 0s - loss: 0.1123 - acc: 0.968 - ETA: 0s - loss: 0.1089 - acc: 0.969 - 16s 475ms/step - loss: 0.1074 - acc: 0.9708 - val_loss: 1.0823 - val_acc: 0.8633\n",
      "Epoch 11/15\n",
      "33/33 [==============================] - ETA: 16s - loss: 0.0353 - acc: 0.96 - ETA: 14s - loss: 0.0219 - acc: 0.98 - ETA: 13s - loss: 0.0160 - acc: 0.98 - ETA: 12s - loss: 0.0124 - acc: 0.99 - ETA: 12s - loss: 0.0121 - acc: 0.99 - ETA: 11s - loss: 0.0105 - acc: 0.99 - ETA: 11s - loss: 0.0095 - acc: 0.99 - ETA: 10s - loss: 0.0085 - acc: 0.99 - ETA: 10s - loss: 0.0086 - acc: 0.99 - ETA: 9s - loss: 0.0092 - acc: 0.9969 - ETA: 9s - loss: 0.0085 - acc: 0.997 - ETA: 8s - loss: 0.0079 - acc: 0.997 - ETA: 8s - loss: 0.0082 - acc: 0.997 - ETA: 8s - loss: 0.0080 - acc: 0.997 - ETA: 7s - loss: 0.0075 - acc: 0.997 - ETA: 7s - loss: 0.0072 - acc: 0.998 - ETA: 6s - loss: 0.0068 - acc: 0.998 - ETA: 6s - loss: 0.0064 - acc: 0.998 - ETA: 5s - loss: 0.0062 - acc: 0.998 - ETA: 5s - loss: 0.0062 - acc: 0.998 - ETA: 4s - loss: 0.0059 - acc: 0.998 - ETA: 4s - loss: 0.0058 - acc: 0.998 - ETA: 4s - loss: 0.0064 - acc: 0.998 - ETA: 3s - loss: 0.0236 - acc: 0.991 - ETA: 3s - loss: 0.0494 - acc: 0.981 - ETA: 2s - loss: 0.0504 - acc: 0.982 - ETA: 2s - loss: 0.0511 - acc: 0.982 - ETA: 2s - loss: 0.0512 - acc: 0.982 - ETA: 1s - loss: 0.0507 - acc: 0.983 - ETA: 1s - loss: 0.0499 - acc: 0.983 - ETA: 0s - loss: 0.0491 - acc: 0.984 - ETA: 0s - loss: 0.0484 - acc: 0.984 - 15s 446ms/step - loss: 0.0479 - acc: 0.9844 - val_loss: 1.1732 - val_acc: 0.8203\n",
      "Epoch 12/15\n",
      "33/33 [==============================] - ETA: 16s - loss: 0.0127 - acc: 1.00 - ETA: 14s - loss: 0.0092 - acc: 1.00 - ETA: 13s - loss: 0.0077 - acc: 1.00 - ETA: 12s - loss: 0.0067 - acc: 1.00 - ETA: 12s - loss: 0.0065 - acc: 1.00 - ETA: 11s - loss: 0.0066 - acc: 1.00 - ETA: 11s - loss: 0.0064 - acc: 1.00 - ETA: 10s - loss: 0.0063 - acc: 1.00 - ETA: 10s - loss: 0.0057 - acc: 1.00 - ETA: 9s - loss: 0.0060 - acc: 1.0000 - ETA: 9s - loss: 0.0056 - acc: 1.000 - ETA: 9s - loss: 0.0052 - acc: 1.000 - ETA: 8s - loss: 0.0055 - acc: 1.000 - ETA: 8s - loss: 0.0081 - acc: 0.997 - ETA: 7s - loss: 0.0110 - acc: 0.995 - ETA: 7s - loss: 0.0105 - acc: 0.996 - ETA: 6s - loss: 0.0099 - acc: 0.996 - ETA: 6s - loss: 0.0095 - acc: 0.996 - ETA: 5s - loss: 0.0097 - acc: 0.996 - ETA: 5s - loss: 0.0094 - acc: 0.996 - ETA: 5s - loss: 0.0091 - acc: 0.997 - ETA: 4s - loss: 0.0088 - acc: 0.997 - ETA: 4s - loss: 0.0085 - acc: 0.997 - ETA: 3s - loss: 0.0081 - acc: 0.997 - ETA: 3s - loss: 0.0078 - acc: 0.997 - ETA: 2s - loss: 0.0076 - acc: 0.997 - ETA: 2s - loss: 0.0074 - acc: 0.997 - ETA: 2s - loss: 0.0077 - acc: 0.997 - ETA: 1s - loss: 0.0082 - acc: 0.997 - ETA: 1s - loss: 0.0079 - acc: 0.997 - ETA: 0s - loss: 0.0130 - acc: 0.995 - ETA: 0s - loss: 0.1772 - acc: 0.976 - 15s 442ms/step - loss: 0.1776 - acc: 0.9747 - val_loss: 1.7472 - val_acc: 0.7578\n",
      "Epoch 13/15\n",
      "33/33 [==============================] - ETA: 15s - loss: 0.2041 - acc: 0.96 - ETA: 13s - loss: 0.1063 - acc: 0.98 - ETA: 12s - loss: 0.0816 - acc: 0.98 - ETA: 12s - loss: 0.0618 - acc: 0.99 - ETA: 11s - loss: 0.0521 - acc: 0.99 - ETA: 11s - loss: 0.0508 - acc: 0.99 - ETA: 10s - loss: 0.0440 - acc: 0.99 - ETA: 10s - loss: 0.0400 - acc: 0.99 - ETA: 9s - loss: 0.0359 - acc: 0.9965 - ETA: 9s - loss: 0.0328 - acc: 0.996 - ETA: 8s - loss: 0.0302 - acc: 0.997 - ETA: 8s - loss: 0.0280 - acc: 0.997 - ETA: 8s - loss: 0.0261 - acc: 0.997 - ETA: 7s - loss: 0.0243 - acc: 0.997 - ETA: 7s - loss: 0.0232 - acc: 0.997 - ETA: 6s - loss: 0.0219 - acc: 0.998 - ETA: 6s - loss: 0.0208 - acc: 0.998 - ETA: 6s - loss: 0.0197 - acc: 0.998 - ETA: 5s - loss: 0.0187 - acc: 0.998 - ETA: 5s - loss: 0.0179 - acc: 0.998 - ETA: 4s - loss: 0.0171 - acc: 0.998 - ETA: 4s - loss: 0.0164 - acc: 0.998 - ETA: 4s - loss: 0.0157 - acc: 0.998 - ETA: 3s - loss: 0.0151 - acc: 0.998 - ETA: 3s - loss: 0.0145 - acc: 0.998 - ETA: 2s - loss: 0.0139 - acc: 0.998 - ETA: 2s - loss: 0.0134 - acc: 0.998 - ETA: 1s - loss: 0.0133 - acc: 0.998 - ETA: 1s - loss: 0.0129 - acc: 0.998 - ETA: 1s - loss: 0.0125 - acc: 0.998 - ETA: 0s - loss: 0.0121 - acc: 0.999 - ETA: 0s - loss: 0.0118 - acc: 0.999 - 14s 425ms/step - loss: 0.0115 - acc: 0.9990 - val_loss: 1.8340 - val_acc: 0.8320\n",
      "Epoch 14/15\n",
      "33/33 [==============================] - ETA: 15s - loss: 0.0069 - acc: 1.00 - ETA: 13s - loss: 0.0040 - acc: 1.00 - ETA: 12s - loss: 0.0029 - acc: 1.00 - ETA: 11s - loss: 0.0023 - acc: 1.00 - ETA: 11s - loss: 0.0019 - acc: 1.00 - ETA: 10s - loss: 0.0016 - acc: 1.00 - ETA: 10s - loss: 0.0014 - acc: 1.00 - ETA: 9s - loss: 0.0037 - acc: 1.0000 - ETA: 9s - loss: 0.1767 - acc: 0.968 - ETA: 9s - loss: 0.2117 - acc: 0.959 - ETA: 8s - loss: 0.1925 - acc: 0.963 - ETA: 8s - loss: 0.1766 - acc: 0.966 - ETA: 8s - loss: 0.1633 - acc: 0.968 - ETA: 7s - loss: 0.1518 - acc: 0.971 - ETA: 7s - loss: 0.1417 - acc: 0.972 - ETA: 6s - loss: 0.1330 - acc: 0.974 - ETA: 6s - loss: 0.1253 - acc: 0.976 - ETA: 6s - loss: 0.1187 - acc: 0.977 - ETA: 5s - loss: 0.1126 - acc: 0.978 - ETA: 5s - loss: 0.1070 - acc: 0.979 - ETA: 4s - loss: 0.1019 - acc: 0.980 - ETA: 4s - loss: 0.0973 - acc: 0.980 - ETA: 3s - loss: 0.0931 - acc: 0.981 - ETA: 3s - loss: 0.0893 - acc: 0.982 - ETA: 3s - loss: 0.0858 - acc: 0.983 - ETA: 2s - loss: 0.0827 - acc: 0.983 - ETA: 2s - loss: 0.0797 - acc: 0.984 - ETA: 1s - loss: 0.0769 - acc: 0.985 - ETA: 1s - loss: 0.0745 - acc: 0.985 - ETA: 1s - loss: 0.0722 - acc: 0.986 - ETA: 0s - loss: 0.0701 - acc: 0.986 - ETA: 0s - loss: 0.0685 - acc: 0.986 - 14s 423ms/step - loss: 0.0665 - acc: 0.9873 - val_loss: 1.8489 - val_acc: 0.8398\n",
      "Epoch 15/15\n",
      "33/33 [==============================] - ETA: 15s - loss: 5.6794e-04 - acc: 1.00 - ETA: 13s - loss: 0.0017 - acc: 1.0000   - ETA: 12s - loss: 0.0015 - acc: 1.00 - ETA: 11s - loss: 0.0012 - acc: 1.00 - ETA: 11s - loss: 0.0027 - acc: 1.00 - ETA: 10s - loss: 0.0024 - acc: 1.00 - ETA: 10s - loss: 0.0021 - acc: 1.00 - ETA: 9s - loss: 0.0022 - acc: 1.0000 - ETA: 9s - loss: 0.0020 - acc: 1.000 - ETA: 9s - loss: 0.0018 - acc: 1.000 - ETA: 8s - loss: 0.0017 - acc: 1.000 - ETA: 8s - loss: 0.0015 - acc: 1.000 - ETA: 7s - loss: 0.0014 - acc: 1.000 - ETA: 7s - loss: 0.0016 - acc: 1.000 - ETA: 6s - loss: 0.0015 - acc: 1.000 - ETA: 6s - loss: 0.0014 - acc: 1.000 - ETA: 6s - loss: 0.0015 - acc: 1.000 - ETA: 5s - loss: 0.0015 - acc: 1.000 - ETA: 5s - loss: 0.0014 - acc: 1.000 - ETA: 5s - loss: 0.0014 - acc: 1.000 - ETA: 4s - loss: 0.0014 - acc: 1.000 - ETA: 4s - loss: 0.0014 - acc: 1.000 - ETA: 3s - loss: 0.0014 - acc: 1.000 - ETA: 3s - loss: 0.0018 - acc: 1.000 - ETA: 3s - loss: 0.0447 - acc: 0.991 - ETA: 2s - loss: 0.1475 - acc: 0.982 - ETA: 2s - loss: 0.1558 - acc: 0.979 - ETA: 1s - loss: 0.1503 - acc: 0.979 - ETA: 1s - loss: 0.1458 - acc: 0.980 - ETA: 1s - loss: 0.1410 - acc: 0.980 - ETA: 0s - loss: 0.1366 - acc: 0.981 - ETA: 0s - loss: 0.1328 - acc: 0.981 - 13s 407ms/step - loss: 0.1289 - acc: 0.9825 - val_loss: 2.5237 - val_acc: 0.7578\n"
     ]
    },
    {
     "data": {
      "text/html": [
       "<span style=\"color:#4527A0\"><h1 style=\"font-size:18px\">Trial complete</h1></span>"
      ],
      "text/plain": [
       "<IPython.core.display.HTML object>"
      ]
     },
     "metadata": {},
     "output_type": "display_data"
    },
    {
     "data": {
      "text/html": [
       "<span style=\"color:#4527A0\"><h1 style=\"font-size:18px\">Trial summary</h1></span>"
      ],
      "text/plain": [
       "<IPython.core.display.HTML object>"
      ]
     },
     "metadata": {},
     "output_type": "display_data"
    },
    {
     "data": {
      "text/html": [
       "<span style=\"color:cyan\"> |-Trial ID: 0d58054b186b4f96acf2492e79ddc3fe</span>"
      ],
      "text/plain": [
       "<IPython.core.display.HTML object>"
      ]
     },
     "metadata": {},
     "output_type": "display_data"
    },
    {
     "data": {
      "text/html": [
       "<span style=\"color:cyan\"> |-Score: 0.8984375</span>"
      ],
      "text/plain": [
       "<IPython.core.display.HTML object>"
      ]
     },
     "metadata": {},
     "output_type": "display_data"
    },
    {
     "data": {
      "text/html": [
       "<span style=\"color:cyan\"> |-Best step: 0</span>"
      ],
      "text/plain": [
       "<IPython.core.display.HTML object>"
      ]
     },
     "metadata": {},
     "output_type": "display_data"
    },
    {
     "data": {
      "text/html": [
       "<span style=\"color:#7E57C2\"><h2 style=\"font-size:16px\">Hyperparameters:</h2></span>"
      ],
      "text/plain": [
       "<IPython.core.display.HTML object>"
      ]
     },
     "metadata": {},
     "output_type": "display_data"
    },
    {
     "data": {
      "text/html": [
       "<span style=\"color:cyan\"> |-hidden_units: 288</span>"
      ],
      "text/plain": [
       "<IPython.core.display.HTML object>"
      ]
     },
     "metadata": {},
     "output_type": "display_data"
    },
    {
     "data": {
      "text/html": [
       "<span style=\"color:blue\"> |-num_conv_layers: 2</span>"
      ],
      "text/plain": [
       "<IPython.core.display.HTML object>"
      ]
     },
     "metadata": {},
     "output_type": "display_data"
    },
    {
     "data": {
      "text/html": [
       "<span style=\"color:cyan\"> |-num_filters_layer0: 16</span>"
      ],
      "text/plain": [
       "<IPython.core.display.HTML object>"
      ]
     },
     "metadata": {},
     "output_type": "display_data"
    },
    {
     "data": {
      "text/html": [
       "<span style=\"color:blue\"> |-num_filters_layer1: 64</span>"
      ],
      "text/plain": [
       "<IPython.core.display.HTML object>"
      ]
     },
     "metadata": {},
     "output_type": "display_data"
    },
    {
     "data": {
      "text/html": [
       "<span style=\"color:cyan\"> |-num_filters_layer2: 16</span>"
      ],
      "text/plain": [
       "<IPython.core.display.HTML object>"
      ]
     },
     "metadata": {},
     "output_type": "display_data"
    },
    {
     "data": {
      "text/html": [
       "<span style=\"color:blue\"> |-tuner/bracket: 2</span>"
      ],
      "text/plain": [
       "<IPython.core.display.HTML object>"
      ]
     },
     "metadata": {},
     "output_type": "display_data"
    },
    {
     "data": {
      "text/html": [
       "<span style=\"color:cyan\"> |-tuner/epochs: 15</span>"
      ],
      "text/plain": [
       "<IPython.core.display.HTML object>"
      ]
     },
     "metadata": {},
     "output_type": "display_data"
    },
    {
     "data": {
      "text/html": [
       "<span style=\"color:blue\"> |-tuner/initial_epoch: 5</span>"
      ],
      "text/plain": [
       "<IPython.core.display.HTML object>"
      ]
     },
     "metadata": {},
     "output_type": "display_data"
    },
    {
     "data": {
      "text/html": [
       "<span style=\"color:cyan\"> |-tuner/round: 2</span>"
      ],
      "text/plain": [
       "<IPython.core.display.HTML object>"
      ]
     },
     "metadata": {},
     "output_type": "display_data"
    },
    {
     "data": {
      "text/html": [
       "<span style=\"color:blue\"> |-tuner/trial_id: 48713a26e743f1886832b2f688fa59ce</span>"
      ],
      "text/plain": [
       "<IPython.core.display.HTML object>"
      ]
     },
     "metadata": {},
     "output_type": "display_data"
    },
    {
     "name": "stdout",
     "output_type": "stream",
     "text": [
      "WARNING:tensorflow:sample_weight modes were coerced from\n",
      "  ...\n",
      "    to  \n",
      "  ['...']\n",
      "WARNING:tensorflow:sample_weight modes were coerced from\n",
      "  ...\n",
      "    to  \n",
      "  ['...']\n",
      "Train for 33 steps, validate for 8 steps\n",
      "Epoch 1/5\n",
      "33/33 [==============================] - ETA: 47s - loss: 0.7020 - acc: 0.43 - ETA: 36s - loss: 1.3548 - acc: 0.45 - ETA: 31s - loss: 1.1853 - acc: 0.45 - ETA: 29s - loss: 1.0634 - acc: 0.46 - ETA: 27s - loss: 0.9866 - acc: 0.49 - ETA: 25s - loss: 0.9338 - acc: 0.51 - ETA: 24s - loss: 0.8973 - acc: 0.54 - ETA: 23s - loss: 0.8608 - acc: 0.56 - ETA: 22s - loss: 0.8402 - acc: 0.56 - ETA: 21s - loss: 0.8403 - acc: 0.55 - ETA: 20s - loss: 0.8259 - acc: 0.57 - ETA: 19s - loss: 0.8116 - acc: 0.57 - ETA: 18s - loss: 0.8187 - acc: 0.55 - ETA: 17s - loss: 0.8069 - acc: 0.55 - ETA: 16s - loss: 0.7936 - acc: 0.58 - ETA: 15s - loss: 0.7745 - acc: 0.59 - ETA: 14s - loss: 0.7578 - acc: 0.61 - ETA: 13s - loss: 0.8552 - acc: 0.60 - ETA: 12s - loss: 0.8468 - acc: 0.59 - ETA: 11s - loss: 0.8366 - acc: 0.61 - ETA: 10s - loss: 0.8233 - acc: 0.61 - ETA: 9s - loss: 0.8105 - acc: 0.6281 - ETA: 8s - loss: 0.7934 - acc: 0.637 - ETA: 7s - loss: 0.7736 - acc: 0.649 - ETA: 6s - loss: 0.8289 - acc: 0.645 - ETA: 6s - loss: 0.8193 - acc: 0.641 - ETA: 5s - loss: 0.8104 - acc: 0.645 - ETA: 4s - loss: 0.8029 - acc: 0.643 - ETA: 3s - loss: 0.7909 - acc: 0.652 - ETA: 2s - loss: 0.7795 - acc: 0.657 - ETA: 1s - loss: 0.7638 - acc: 0.665 - ETA: 0s - loss: 0.7523 - acc: 0.668 - 32s 955ms/step - loss: 0.7442 - acc: 0.6728 - val_loss: 1.3255 - val_acc: 0.6797\n",
      "Epoch 2/5\n",
      "33/33 [==============================] - ETA: 36s - loss: 0.2156 - acc: 0.96 - ETA: 32s - loss: 0.2683 - acc: 0.90 - ETA: 31s - loss: 0.2328 - acc: 0.91 - ETA: 23s - loss: 0.1849 - acc: 0.91 - ETA: 23s - loss: 0.1582 - acc: 0.93 - ETA: 23s - loss: 0.3209 - acc: 0.90 - ETA: 23s - loss: 0.4584 - acc: 0.84 - ETA: 22s - loss: 0.4628 - acc: 0.85 - ETA: 21s - loss: 0.4666 - acc: 0.84 - ETA: 21s - loss: 0.4615 - acc: 0.85 - ETA: 20s - loss: 0.4418 - acc: 0.86 - ETA: 19s - loss: 0.4252 - acc: 0.86 - ETA: 18s - loss: 0.4181 - acc: 0.86 - ETA: 17s - loss: 0.4020 - acc: 0.87 - ETA: 16s - loss: 0.3829 - acc: 0.88 - ETA: 16s - loss: 0.3808 - acc: 0.87 - ETA: 15s - loss: 0.3810 - acc: 0.87 - ETA: 14s - loss: 0.3685 - acc: 0.87 - ETA: 13s - loss: 0.3568 - acc: 0.88 - ETA: 12s - loss: 0.3512 - acc: 0.88 - ETA: 11s - loss: 0.3507 - acc: 0.88 - ETA: 10s - loss: 0.3452 - acc: 0.88 - ETA: 9s - loss: 0.3394 - acc: 0.8854 - ETA: 8s - loss: 0.3333 - acc: 0.886 - ETA: 7s - loss: 0.3244 - acc: 0.889 - ETA: 6s - loss: 0.3193 - acc: 0.890 - ETA: 5s - loss: 0.3156 - acc: 0.891 - ETA: 4s - loss: 0.3092 - acc: 0.893 - ETA: 3s - loss: 0.3008 - acc: 0.897 - ETA: 2s - loss: 0.2947 - acc: 0.899 - ETA: 1s - loss: 0.2895 - acc: 0.899 - ETA: 0s - loss: 0.2808 - acc: 0.902 - 33s 998ms/step - loss: 0.2762 - acc: 0.9046 - val_loss: 0.3882 - val_acc: 0.9023\n",
      "Epoch 3/5\n",
      "33/33 [==============================] - ETA: 32s - loss: 0.2144 - acc: 0.87 - ETA: 29s - loss: 0.1176 - acc: 0.93 - ETA: 28s - loss: 0.0939 - acc: 0.94 - ETA: 26s - loss: 0.1826 - acc: 0.92 - ETA: 25s - loss: 0.2272 - acc: 0.89 - ETA: 24s - loss: 0.2247 - acc: 0.89 - ETA: 23s - loss: 0.2141 - acc: 0.90 - ETA: 22s - loss: 0.1941 - acc: 0.91 - ETA: 21s - loss: 0.1841 - acc: 0.92 - ETA: 20s - loss: 0.2163 - acc: 0.91 - ETA: 19s - loss: 0.2186 - acc: 0.91 - ETA: 18s - loss: 0.2018 - acc: 0.91 - ETA: 17s - loss: 0.1943 - acc: 0.92 - ETA: 16s - loss: 0.1822 - acc: 0.92 - ETA: 15s - loss: 0.1729 - acc: 0.92 - ETA: 14s - loss: 0.1653 - acc: 0.93 - ETA: 14s - loss: 0.1570 - acc: 0.93 - ETA: 12s - loss: 0.1483 - acc: 0.93 - ETA: 11s - loss: 0.1463 - acc: 0.93 - ETA: 10s - loss: 0.1612 - acc: 0.93 - ETA: 10s - loss: 0.1795 - acc: 0.92 - ETA: 9s - loss: 0.1729 - acc: 0.9319 - ETA: 8s - loss: 0.1690 - acc: 0.933 - ETA: 7s - loss: 0.1699 - acc: 0.935 - ETA: 6s - loss: 0.1694 - acc: 0.935 - ETA: 5s - loss: 0.1659 - acc: 0.936 - ETA: 5s - loss: 0.1638 - acc: 0.936 - ETA: 4s - loss: 0.1629 - acc: 0.937 - ETA: 3s - loss: 0.1590 - acc: 0.938 - ETA: 2s - loss: 0.1556 - acc: 0.939 - ETA: 1s - loss: 0.1554 - acc: 0.938 - ETA: 0s - loss: 0.1797 - acc: 0.931 - 30s 898ms/step - loss: 0.1808 - acc: 0.9318 - val_loss: 2.1682 - val_acc: 0.7070\n",
      "Epoch 4/5\n",
      "33/33 [==============================] - ETA: 34s - loss: 0.0754 - acc: 1.00 - ETA: 30s - loss: 0.0613 - acc: 1.00 - ETA: 29s - loss: 0.1020 - acc: 0.96 - ETA: 28s - loss: 0.3188 - acc: 0.91 - ETA: 27s - loss: 0.3613 - acc: 0.89 - ETA: 26s - loss: 0.3464 - acc: 0.90 - ETA: 25s - loss: 0.3013 - acc: 0.91 - ETA: 24s - loss: 0.2664 - acc: 0.92 - ETA: 23s - loss: 0.2396 - acc: 0.93 - ETA: 22s - loss: 0.2164 - acc: 0.94 - ETA: 21s - loss: 0.2022 - acc: 0.94 - ETA: 20s - loss: 0.1860 - acc: 0.94 - ETA: 19s - loss: 0.1718 - acc: 0.95 - ETA: 18s - loss: 0.1624 - acc: 0.95 - ETA: 17s - loss: 0.1522 - acc: 0.95 - ETA: 16s - loss: 0.1446 - acc: 0.96 - ETA: 14s - loss: 0.1361 - acc: 0.96 - ETA: 13s - loss: 0.1288 - acc: 0.96 - ETA: 13s - loss: 0.1230 - acc: 0.96 - ETA: 12s - loss: 0.1188 - acc: 0.96 - ETA: 11s - loss: 0.1144 - acc: 0.96 - ETA: 10s - loss: 0.1094 - acc: 0.97 - ETA: 9s - loss: 0.1048 - acc: 0.9717 - ETA: 8s - loss: 0.1020 - acc: 0.971 - ETA: 7s - loss: 0.1387 - acc: 0.962 - ETA: 6s - loss: 0.1640 - acc: 0.952 - ETA: 5s - loss: 0.1791 - acc: 0.947 - ETA: 4s - loss: 0.1800 - acc: 0.945 - ETA: 3s - loss: 0.1768 - acc: 0.946 - ETA: 2s - loss: 0.1756 - acc: 0.946 - ETA: 1s - loss: 0.1752 - acc: 0.946 - ETA: 0s - loss: 0.1724 - acc: 0.947 - 32s 984ms/step - loss: 0.1709 - acc: 0.9484 - val_loss: 2.2843 - val_acc: 0.7344\n",
      "Epoch 5/5\n",
      "33/33 [==============================] - ETA: 35s - loss: 0.0772 - acc: 0.96 - ETA: 31s - loss: 0.0437 - acc: 0.98 - ETA: 29s - loss: 0.0354 - acc: 0.98 - ETA: 22s - loss: 0.0266 - acc: 0.98 - ETA: 22s - loss: 0.0408 - acc: 0.98 - ETA: 22s - loss: 0.0375 - acc: 0.98 - ETA: 21s - loss: 0.0446 - acc: 0.97 - ETA: 21s - loss: 0.0423 - acc: 0.98 - ETA: 20s - loss: 0.0385 - acc: 0.98 - ETA: 20s - loss: 0.0368 - acc: 0.98 - ETA: 19s - loss: 0.0338 - acc: 0.98 - ETA: 18s - loss: 0.0319 - acc: 0.98 - ETA: 17s - loss: 0.0296 - acc: 0.98 - ETA: 17s - loss: 0.0280 - acc: 0.99 - ETA: 16s - loss: 0.0263 - acc: 0.99 - ETA: 15s - loss: 0.0250 - acc: 0.99 - ETA: 14s - loss: 0.0237 - acc: 0.99 - ETA: 13s - loss: 0.0226 - acc: 0.99 - ETA: 12s - loss: 0.0214 - acc: 0.99 - ETA: 12s - loss: 0.0204 - acc: 0.99 - ETA: 11s - loss: 0.0196 - acc: 0.99 - ETA: 10s - loss: 0.0188 - acc: 0.99 - ETA: 9s - loss: 0.0180 - acc: 0.9943 - ETA: 8s - loss: 0.0173 - acc: 0.994 - ETA: 7s - loss: 0.0166 - acc: 0.994 - ETA: 6s - loss: 0.0160 - acc: 0.995 - ETA: 5s - loss: 0.0155 - acc: 0.995 - ETA: 4s - loss: 0.0150 - acc: 0.995 - ETA: 3s - loss: 0.0194 - acc: 0.993 - ETA: 2s - loss: 0.0336 - acc: 0.987 - ETA: 1s - loss: 0.0338 - acc: 0.987 - ETA: 0s - loss: 0.0355 - acc: 0.986 - 33s 993ms/step - loss: 0.0620 - acc: 0.9805 - val_loss: 5.7159 - val_acc: 0.6328\n"
     ]
    },
    {
     "data": {
      "text/html": [
       "<span style=\"color:#4527A0\"><h1 style=\"font-size:18px\">Trial complete</h1></span>"
      ],
      "text/plain": [
       "<IPython.core.display.HTML object>"
      ]
     },
     "metadata": {},
     "output_type": "display_data"
    },
    {
     "data": {
      "text/html": [
       "<span style=\"color:#4527A0\"><h1 style=\"font-size:18px\">Trial summary</h1></span>"
      ],
      "text/plain": [
       "<IPython.core.display.HTML object>"
      ]
     },
     "metadata": {},
     "output_type": "display_data"
    },
    {
     "data": {
      "text/html": [
       "<span style=\"color:cyan\"> |-Trial ID: 5714b56506fdb71b8eed12e44d8a4058</span>"
      ],
      "text/plain": [
       "<IPython.core.display.HTML object>"
      ]
     },
     "metadata": {},
     "output_type": "display_data"
    },
    {
     "data": {
      "text/html": [
       "<span style=\"color:cyan\"> |-Score: 0.90234375</span>"
      ],
      "text/plain": [
       "<IPython.core.display.HTML object>"
      ]
     },
     "metadata": {},
     "output_type": "display_data"
    },
    {
     "data": {
      "text/html": [
       "<span style=\"color:cyan\"> |-Best step: 0</span>"
      ],
      "text/plain": [
       "<IPython.core.display.HTML object>"
      ]
     },
     "metadata": {},
     "output_type": "display_data"
    },
    {
     "data": {
      "text/html": [
       "<span style=\"color:#7E57C2\"><h2 style=\"font-size:16px\">Hyperparameters:</h2></span>"
      ],
      "text/plain": [
       "<IPython.core.display.HTML object>"
      ]
     },
     "metadata": {},
     "output_type": "display_data"
    },
    {
     "data": {
      "text/html": [
       "<span style=\"color:cyan\"> |-hidden_units: 288</span>"
      ],
      "text/plain": [
       "<IPython.core.display.HTML object>"
      ]
     },
     "metadata": {},
     "output_type": "display_data"
    },
    {
     "data": {
      "text/html": [
       "<span style=\"color:blue\"> |-num_conv_layers: 2</span>"
      ],
      "text/plain": [
       "<IPython.core.display.HTML object>"
      ]
     },
     "metadata": {},
     "output_type": "display_data"
    },
    {
     "data": {
      "text/html": [
       "<span style=\"color:cyan\"> |-num_filters_layer0: 64</span>"
      ],
      "text/plain": [
       "<IPython.core.display.HTML object>"
      ]
     },
     "metadata": {},
     "output_type": "display_data"
    },
    {
     "data": {
      "text/html": [
       "<span style=\"color:blue\"> |-num_filters_layer1: 16</span>"
      ],
      "text/plain": [
       "<IPython.core.display.HTML object>"
      ]
     },
     "metadata": {},
     "output_type": "display_data"
    },
    {
     "data": {
      "text/html": [
       "<span style=\"color:cyan\"> |-num_filters_layer2: 64</span>"
      ],
      "text/plain": [
       "<IPython.core.display.HTML object>"
      ]
     },
     "metadata": {},
     "output_type": "display_data"
    },
    {
     "data": {
      "text/html": [
       "<span style=\"color:blue\"> |-tuner/bracket: 1</span>"
      ],
      "text/plain": [
       "<IPython.core.display.HTML object>"
      ]
     },
     "metadata": {},
     "output_type": "display_data"
    },
    {
     "data": {
      "text/html": [
       "<span style=\"color:cyan\"> |-tuner/epochs: 5</span>"
      ],
      "text/plain": [
       "<IPython.core.display.HTML object>"
      ]
     },
     "metadata": {},
     "output_type": "display_data"
    },
    {
     "data": {
      "text/html": [
       "<span style=\"color:blue\"> |-tuner/initial_epoch: 0</span>"
      ],
      "text/plain": [
       "<IPython.core.display.HTML object>"
      ]
     },
     "metadata": {},
     "output_type": "display_data"
    },
    {
     "data": {
      "text/html": [
       "<span style=\"color:cyan\"> |-tuner/round: 0</span>"
      ],
      "text/plain": [
       "<IPython.core.display.HTML object>"
      ]
     },
     "metadata": {},
     "output_type": "display_data"
    },
    {
     "name": "stdout",
     "output_type": "stream",
     "text": [
      "WARNING:tensorflow:sample_weight modes were coerced from\n",
      "  ...\n",
      "    to  \n",
      "  ['...']\n",
      "WARNING:tensorflow:sample_weight modes were coerced from\n",
      "  ...\n",
      "    to  \n",
      "  ['...']\n",
      "Train for 33 steps, validate for 8 steps\n",
      "Epoch 1/5\n",
      "33/33 [==============================] - ETA: 58s - loss: 0.6858 - acc: 0.62 - ETA: 44s - loss: 7.4285 - acc: 0.56 - ETA: 38s - loss: 5.1780 - acc: 0.58 - ETA: 34s - loss: 4.3394 - acc: 0.54 - ETA: 32s - loss: 3.6127 - acc: 0.53 - ETA: 30s - loss: 3.1220 - acc: 0.55 - ETA: 28s - loss: 2.7732 - acc: 0.54 - ETA: 26s - loss: 2.5107 - acc: 0.53 - ETA: 25s - loss: 2.3030 - acc: 0.58 - ETA: 23s - loss: 2.1357 - acc: 0.59 - ETA: 22s - loss: 1.9933 - acc: 0.60 - ETA: 21s - loss: 1.8747 - acc: 0.59 - ETA: 20s - loss: 1.7680 - acc: 0.62 - ETA: 18s - loss: 1.6715 - acc: 0.64 - ETA: 17s - loss: 1.6035 - acc: 0.63 - ETA: 16s - loss: 1.5337 - acc: 0.64 - ETA: 15s - loss: 1.4586 - acc: 0.66 - ETA: 14s - loss: 1.3882 - acc: 0.68 - ETA: 13s - loss: 1.3766 - acc: 0.67 - ETA: 12s - loss: 1.3397 - acc: 0.66 - ETA: 11s - loss: 1.3052 - acc: 0.67 - ETA: 10s - loss: 1.2682 - acc: 0.68 - ETA: 9s - loss: 1.2315 - acc: 0.6861 - ETA: 8s - loss: 1.2020 - acc: 0.686 - ETA: 7s - loss: 1.1764 - acc: 0.685 - ETA: 6s - loss: 1.1507 - acc: 0.692 - ETA: 5s - loss: 1.1256 - acc: 0.697 - ETA: 4s - loss: 1.1009 - acc: 0.704 - ETA: 3s - loss: 1.0760 - acc: 0.712 - ETA: 2s - loss: 1.0406 - acc: 0.713 - ETA: 1s - loss: 1.0118 - acc: 0.720 - ETA: 0s - loss: 0.9890 - acc: 0.722 - 32s 972ms/step - loss: 0.9683 - acc: 0.7244 - val_loss: 0.9282 - val_acc: 0.6836\n",
      "Epoch 2/5\n",
      "33/33 [==============================] - ETA: 33s - loss: 0.3432 - acc: 0.87 - ETA: 31s - loss: 0.2562 - acc: 0.92 - ETA: 29s - loss: 0.1844 - acc: 0.94 - ETA: 28s - loss: 0.1725 - acc: 0.94 - ETA: 27s - loss: 0.2328 - acc: 0.91 - ETA: 26s - loss: 0.2237 - acc: 0.91 - ETA: 25s - loss: 0.2536 - acc: 0.90 - ETA: 24s - loss: 0.2594 - acc: 0.90 - ETA: 23s - loss: 0.2471 - acc: 0.91 - ETA: 22s - loss: 0.2692 - acc: 0.90 - ETA: 21s - loss: 0.2813 - acc: 0.89 - ETA: 20s - loss: 0.6912 - acc: 0.86 - ETA: 19s - loss: 0.6681 - acc: 0.86 - ETA: 18s - loss: 0.6449 - acc: 0.86 - ETA: 17s - loss: 0.6227 - acc: 0.86 - ETA: 16s - loss: 0.6035 - acc: 0.87 - ETA: 15s - loss: 0.5803 - acc: 0.87 - ETA: 14s - loss: 0.5548 - acc: 0.87 - ETA: 13s - loss: 0.5458 - acc: 0.87 - ETA: 12s - loss: 0.5308 - acc: 0.87 - ETA: 11s - loss: 0.5127 - acc: 0.88 - ETA: 10s - loss: 0.4963 - acc: 0.88 - ETA: 9s - loss: 0.4822 - acc: 0.8845 - ETA: 8s - loss: 0.4695 - acc: 0.886 - ETA: 7s - loss: 0.4539 - acc: 0.890 - ETA: 6s - loss: 0.4434 - acc: 0.890 - ETA: 5s - loss: 0.4294 - acc: 0.894 - ETA: 4s - loss: 0.4242 - acc: 0.892 - ETA: 3s - loss: 0.4158 - acc: 0.894 - ETA: 2s - loss: 0.4069 - acc: 0.895 - ETA: 1s - loss: 0.4008 - acc: 0.897 - ETA: 0s - loss: 0.3925 - acc: 0.898 - 32s 960ms/step - loss: 0.3810 - acc: 0.8987 - val_loss: 1.8807 - val_acc: 0.7500\n",
      "Epoch 3/5\n",
      "33/33 [==============================] - ETA: 34s - loss: 0.1863 - acc: 0.93 - ETA: 31s - loss: 0.1370 - acc: 0.95 - ETA: 29s - loss: 0.1152 - acc: 0.95 - ETA: 28s - loss: 0.1148 - acc: 0.96 - ETA: 27s - loss: 0.1048 - acc: 0.95 - ETA: 22s - loss: 0.0873 - acc: 0.95 - ETA: 22s - loss: 0.0847 - acc: 0.95 - ETA: 22s - loss: 0.1325 - acc: 0.94 - ETA: 21s - loss: 0.1347 - acc: 0.94 - ETA: 20s - loss: 0.1411 - acc: 0.94 - ETA: 19s - loss: 0.1296 - acc: 0.95 - ETA: 19s - loss: 0.1196 - acc: 0.95 - ETA: 18s - loss: 0.1132 - acc: 0.95 - ETA: 17s - loss: 0.1135 - acc: 0.95 - ETA: 16s - loss: 0.1081 - acc: 0.96 - ETA: 15s - loss: 0.1016 - acc: 0.96 - ETA: 14s - loss: 0.0991 - acc: 0.96 - ETA: 13s - loss: 0.0973 - acc: 0.96 - ETA: 13s - loss: 0.0939 - acc: 0.96 - ETA: 12s - loss: 0.0925 - acc: 0.96 - ETA: 11s - loss: 0.0958 - acc: 0.96 - ETA: 10s - loss: 0.0949 - acc: 0.96 - ETA: 9s - loss: 0.0917 - acc: 0.9689 - ETA: 8s - loss: 0.0883 - acc: 0.970 - ETA: 7s - loss: 0.0859 - acc: 0.971 - ETA: 6s - loss: 0.0827 - acc: 0.972 - ETA: 5s - loss: 0.0798 - acc: 0.973 - ETA: 4s - loss: 0.0770 - acc: 0.974 - ETA: 3s - loss: 0.0744 - acc: 0.975 - ETA: 2s - loss: 0.0719 - acc: 0.976 - ETA: 1s - loss: 0.0756 - acc: 0.974 - ETA: 0s - loss: 0.1532 - acc: 0.960 - 32s 983ms/step - loss: 0.1584 - acc: 0.9601 - val_loss: 23.1464 - val_acc: 0.5000\n",
      "Epoch 4/5\n",
      "33/33 [==============================] - ETA: 34s - loss: 22.1595 - acc: 0.468 - ETA: 31s - loss: 11.2550 - acc: 0.640 - ETA: 29s - loss: 7.5387 - acc: 0.760 - ETA: 28s - loss: 5.6727 - acc: 0.82 - ETA: 22s - loss: 4.5388 - acc: 0.82 - ETA: 22s - loss: 3.8023 - acc: 0.85 - ETA: 21s - loss: 3.2680 - acc: 0.88 - ETA: 21s - loss: 2.8674 - acc: 0.89 - ETA: 20s - loss: 2.5522 - acc: 0.90 - ETA: 19s - loss: 2.2991 - acc: 0.91 - ETA: 19s - loss: 2.0923 - acc: 0.92 - ETA: 18s - loss: 1.9182 - acc: 0.93 - ETA: 17s - loss: 1.7758 - acc: 0.93 - ETA: 16s - loss: 1.6738 - acc: 0.93 - ETA: 15s - loss: 1.5646 - acc: 0.93 - ETA: 14s - loss: 1.4733 - acc: 0.93 - ETA: 13s - loss: 1.3909 - acc: 0.93 - ETA: 13s - loss: 1.3149 - acc: 0.94 - ETA: 12s - loss: 1.2489 - acc: 0.94 - ETA: 11s - loss: 1.1877 - acc: 0.94 - ETA: 10s - loss: 1.1326 - acc: 0.95 - ETA: 9s - loss: 1.0824 - acc: 0.9526 - ETA: 8s - loss: 1.0359 - acc: 0.954 - ETA: 7s - loss: 0.9932 - acc: 0.956 - ETA: 6s - loss: 0.9540 - acc: 0.958 - ETA: 6s - loss: 0.9174 - acc: 0.960 - ETA: 5s - loss: 0.8834 - acc: 0.961 - ETA: 4s - loss: 0.8527 - acc: 0.963 - ETA: 3s - loss: 0.8235 - acc: 0.964 - ETA: 2s - loss: 0.7977 - acc: 0.965 - ETA: 1s - loss: 0.7733 - acc: 0.966 - ETA: 0s - loss: 0.7517 - acc: 0.966 - 31s 944ms/step - loss: 0.7305 - acc: 0.9679 - val_loss: 1.8249 - val_acc: 0.8047\n",
      "Epoch 5/5\n",
      "33/33 [==============================] - ETA: 35s - loss: 0.0075 - acc: 1.00 - ETA: 31s - loss: 0.0115 - acc: 1.00 - ETA: 30s - loss: 0.0081 - acc: 1.00 - ETA: 29s - loss: 0.0089 - acc: 1.00 - ETA: 28s - loss: 0.0198 - acc: 0.99 - ETA: 27s - loss: 0.0314 - acc: 0.98 - ETA: 26s - loss: 0.0439 - acc: 0.98 - ETA: 25s - loss: 0.0572 - acc: 0.98 - ETA: 24s - loss: 0.0621 - acc: 0.97 - ETA: 23s - loss: 0.0565 - acc: 0.98 - ETA: 22s - loss: 0.0553 - acc: 0.98 - ETA: 21s - loss: 0.0525 - acc: 0.98 - ETA: 20s - loss: 0.0505 - acc: 0.98 - ETA: 19s - loss: 0.0473 - acc: 0.98 - ETA: 18s - loss: 0.0443 - acc: 0.98 - ETA: 17s - loss: 0.0418 - acc: 0.98 - ETA: 16s - loss: 0.0396 - acc: 0.98 - ETA: 15s - loss: 0.0376 - acc: 0.98 - ETA: 14s - loss: 0.0356 - acc: 0.98 - ETA: 12s - loss: 0.0338 - acc: 0.98 - ETA: 11s - loss: 0.0323 - acc: 0.98 - ETA: 10s - loss: 0.0309 - acc: 0.98 - ETA: 10s - loss: 0.0296 - acc: 0.98 - ETA: 9s - loss: 0.0284 - acc: 0.9892 - ETA: 8s - loss: 0.0273 - acc: 0.989 - ETA: 7s - loss: 0.0267 - acc: 0.990 - ETA: 6s - loss: 0.0259 - acc: 0.990 - ETA: 5s - loss: 0.0250 - acc: 0.990 - ETA: 4s - loss: 0.0245 - acc: 0.991 - ETA: 3s - loss: 0.0312 - acc: 0.987 - ETA: 2s - loss: 0.0926 - acc: 0.981 - ETA: 1s - loss: 0.1144 - acc: 0.972 - 38s 1s/step - loss: 0.1207 - acc: 0.9708 - val_loss: 1.0578 - val_acc: 0.7852\n"
     ]
    },
    {
     "data": {
      "text/html": [
       "<span style=\"color:#4527A0\"><h1 style=\"font-size:18px\">Trial complete</h1></span>"
      ],
      "text/plain": [
       "<IPython.core.display.HTML object>"
      ]
     },
     "metadata": {},
     "output_type": "display_data"
    },
    {
     "data": {
      "text/html": [
       "<span style=\"color:#4527A0\"><h1 style=\"font-size:18px\">Trial summary</h1></span>"
      ],
      "text/plain": [
       "<IPython.core.display.HTML object>"
      ]
     },
     "metadata": {},
     "output_type": "display_data"
    },
    {
     "data": {
      "text/html": [
       "<span style=\"color:cyan\"> |-Trial ID: df49f810dcc52c64d49f7754e6ea5d9b</span>"
      ],
      "text/plain": [
       "<IPython.core.display.HTML object>"
      ]
     },
     "metadata": {},
     "output_type": "display_data"
    },
    {
     "data": {
      "text/html": [
       "<span style=\"color:cyan\"> |-Score: 0.8046875</span>"
      ],
      "text/plain": [
       "<IPython.core.display.HTML object>"
      ]
     },
     "metadata": {},
     "output_type": "display_data"
    },
    {
     "data": {
      "text/html": [
       "<span style=\"color:cyan\"> |-Best step: 0</span>"
      ],
      "text/plain": [
       "<IPython.core.display.HTML object>"
      ]
     },
     "metadata": {},
     "output_type": "display_data"
    },
    {
     "data": {
      "text/html": [
       "<span style=\"color:#7E57C2\"><h2 style=\"font-size:16px\">Hyperparameters:</h2></span>"
      ],
      "text/plain": [
       "<IPython.core.display.HTML object>"
      ]
     },
     "metadata": {},
     "output_type": "display_data"
    },
    {
     "data": {
      "text/html": [
       "<span style=\"color:cyan\"> |-hidden_units: 480</span>"
      ],
      "text/plain": [
       "<IPython.core.display.HTML object>"
      ]
     },
     "metadata": {},
     "output_type": "display_data"
    },
    {
     "data": {
      "text/html": [
       "<span style=\"color:blue\"> |-num_conv_layers: 2</span>"
      ],
      "text/plain": [
       "<IPython.core.display.HTML object>"
      ]
     },
     "metadata": {},
     "output_type": "display_data"
    },
    {
     "data": {
      "text/html": [
       "<span style=\"color:cyan\"> |-num_filters_layer0: 64</span>"
      ],
      "text/plain": [
       "<IPython.core.display.HTML object>"
      ]
     },
     "metadata": {},
     "output_type": "display_data"
    },
    {
     "data": {
      "text/html": [
       "<span style=\"color:blue\"> |-num_filters_layer1: 16</span>"
      ],
      "text/plain": [
       "<IPython.core.display.HTML object>"
      ]
     },
     "metadata": {},
     "output_type": "display_data"
    },
    {
     "data": {
      "text/html": [
       "<span style=\"color:cyan\"> |-num_filters_layer2: 64</span>"
      ],
      "text/plain": [
       "<IPython.core.display.HTML object>"
      ]
     },
     "metadata": {},
     "output_type": "display_data"
    },
    {
     "data": {
      "text/html": [
       "<span style=\"color:blue\"> |-tuner/bracket: 1</span>"
      ],
      "text/plain": [
       "<IPython.core.display.HTML object>"
      ]
     },
     "metadata": {},
     "output_type": "display_data"
    },
    {
     "data": {
      "text/html": [
       "<span style=\"color:cyan\"> |-tuner/epochs: 5</span>"
      ],
      "text/plain": [
       "<IPython.core.display.HTML object>"
      ]
     },
     "metadata": {},
     "output_type": "display_data"
    },
    {
     "data": {
      "text/html": [
       "<span style=\"color:blue\"> |-tuner/initial_epoch: 0</span>"
      ],
      "text/plain": [
       "<IPython.core.display.HTML object>"
      ]
     },
     "metadata": {},
     "output_type": "display_data"
    },
    {
     "data": {
      "text/html": [
       "<span style=\"color:cyan\"> |-tuner/round: 0</span>"
      ],
      "text/plain": [
       "<IPython.core.display.HTML object>"
      ]
     },
     "metadata": {},
     "output_type": "display_data"
    },
    {
     "name": "stdout",
     "output_type": "stream",
     "text": [
      "WARNING:tensorflow:sample_weight modes were coerced from\n",
      "  ...\n",
      "    to  \n",
      "  ['...']\n",
      "WARNING:tensorflow:sample_weight modes were coerced from\n",
      "  ...\n",
      "    to  \n",
      "  ['...']\n",
      "Train for 33 steps, validate for 8 steps\n",
      "Epoch 1/5\n",
      "10/33 [========>.....................] - ETA: 55s - loss: 0.7102 - acc: 0.50 - ETA: 46s - loss: 0.7151 - acc: 0.51 - ETA: 41s - loss: 2.8833 - acc: 0.54 - ETA: 39s - loss: 2.3385 - acc: 0.51 - ETA: 35s - loss: 2.0174 - acc: 0.51 - ETA: 34s - loss: 1.7939 - acc: 0.55 - ETA: 32s - loss: 1.6320 - acc: 0.58 - ETA: 31s - loss: 1.5311 - acc: 0.55 - ETA: 29s - loss: 1.4378 - acc: 0.56 - ETA: 28s - loss: 1.3660 - acc: 0.5469"
     ]
    }
   ],
   "source": [
    "from tensorflow.keras.optimizers import RMSprop\n",
    "from kerastuner.tuners import Hyperband\n",
    "from kerastuner.engine.hyperparameters import HyperParameters\n",
    "import tensorflow as tf\n",
    "\n",
    "hp=HyperParameters()\n",
    "def build_model(hp):\n",
    "    model = tf.keras.models.Sequential()\n",
    "    # first convolution\n",
    "    model.add(tf.keras.layers.Conv2D(hp.Choice('num_filters_layer0',values=[16,64],default=16),(3,3),activation='relu',input_shape=(150,150,3)))\n",
    "    model.add(tf.keras.layers.MaxPooling2D(2,2))\n",
    "    # second convolution\n",
    "    for i in range(hp.Int(\"num_conv_layers\",1,3)): # 数据不能太大，maxpooling之后，输出尺寸会越来越小\n",
    "        model.add(tf.keras.layers.Conv2D(hp.Choice(f'num_filters_layer{i}',values=[16,64],default=16),(3,3),activation='relu'))\n",
    "        model.add(tf.keras.layers.MaxPooling2D(2,2))\n",
    "    # flatten the results to feed into a DNN\n",
    "    model.add(tf.keras.layers.Flatten())\n",
    "    # 512 neuron hidden layer\n",
    "    model.add(tf.keras.layers.Dense(hp.Int(\"hidden_units\",128,512,step=32),activation='relu'))\n",
    "    # only 1 output neuron. It will contain a value from 0-1 where 0 for 1 class ('horses') and 1 for the other ('humans')\n",
    "    model.add(tf.keras.layers.Dense(1,activation='sigmoid'))\n",
    "    model.compile(loss='binary_crossentropy', optimizer=RMSprop(lr=0.001), metrics=['acc'])\n",
    "    return model\n",
    "\n",
    "tuner=Hyperband(\n",
    "    build_model,\n",
    "    objective='val_acc',\n",
    "    max_epochs=10,\n",
    "    directory='horse_human_params',\n",
    "    hyperparameters=hp,\n",
    "    project_name='my_horse_human_project'\n",
    ")\n",
    "tuner.search(train_generator, epochs=10, validation_data=validation_generator)\n",
    "#model.fit(train_generator, epochs=10, validation_data=validation_generator)"
   ]
  },
  {
   "cell_type": "code",
   "execution_count": null,
   "metadata": {},
   "outputs": [],
   "source": [
    "best_hps=tuner.get_best_hyperparameters(1)[0]\n",
    "print(best_hps.values)\n",
    "model=tuner.hypermodel.build(best_hps)"
   ]
  },
  {
   "cell_type": "code",
   "execution_count": null,
   "metadata": {},
   "outputs": [],
   "source": []
  }
 ],
 "metadata": {
  "kernelspec": {
   "display_name": "Python 3",
   "language": "python",
   "name": "python3"
  },
  "language_info": {
   "codemirror_mode": {
    "name": "ipython",
    "version": 3
   },
   "file_extension": ".py",
   "mimetype": "text/x-python",
   "name": "python",
   "nbconvert_exporter": "python",
   "pygments_lexer": "ipython3",
   "version": "3.7.9"
  }
 },
 "nbformat": 4,
 "nbformat_minor": 4
}
